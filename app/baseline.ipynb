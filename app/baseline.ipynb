{
 "cells": [
  {
   "cell_type": "markdown",
   "metadata": {},
   "source": [
    "## チュートリアル（処理済み検索ログを使う場合）"
   ]
  },
  {
   "cell_type": "code",
   "execution_count": 1,
   "metadata": {},
   "outputs": [],
   "source": [
    "# ========================================\n",
    "# Library\n",
    "# ========================================\n",
    "import math\n",
    "import random\n",
    "import pickle\n",
    "import itertools\n",
    "import warnings\n",
    "warnings.filterwarnings('ignore')\n",
    "\n",
    "import numpy as np\n",
    "import pandas as pd\n",
    "pd.set_option('display.max_columns', None)\n",
    "import matplotlib.pyplot as plt\n",
    "import seaborn as sns\n",
    "import japanize_matplotlib\n",
    "import jpholiday\n",
    "from glob import glob\n",
    "from tqdm import tqdm\n",
    "from sklearn.model_selection import (\n",
    "    TimeSeriesSplit,\n",
    "    StratifiedKFold,\n",
    "    KFold,\n",
    "    GroupKFold,\n",
    "    StratifiedGroupKFold,\n",
    ")\n",
    "from sklearn.preprocessing import LabelEncoder\n",
    "from sklearn.metrics import f1_score, roc_auc_score, classification_report\n",
    "from scipy.optimize import minimize\n",
    "import lightgbm as lgb"
   ]
  },
  {
   "cell_type": "code",
   "execution_count": 2,
   "metadata": {},
   "outputs": [],
   "source": [
    "i_path = './input/'\n",
    "o_path = './output/'"
   ]
  },
  {
   "cell_type": "code",
   "execution_count": 3,
   "metadata": {},
   "outputs": [],
   "source": [
    "train_df = pd.read_csv(i_path + 'train.csv')\n",
    "road_df = pd.read_csv(i_path + 'road_local.csv')\n",
    "search_spec_df = pd.read_csv(i_path + 'search_specified.csv')\n",
    "search_unspec_df = pd.read_csv(i_path + 'search_unspecified.csv')"
   ]
  },
  {
   "cell_type": "code",
   "execution_count": 4,
   "metadata": {},
   "outputs": [],
   "source": [
    "def expand_datetime(df):\n",
    "    if 'datetime' in df.columns:\n",
    "        df['year'] = df['datetime'].dt.year\n",
    "        df['month'] = df['datetime'].dt.month\n",
    "        df['day'] = df['datetime'].dt.day\n",
    "        df['hour'] = df['datetime'].dt.hour\n",
    "    if 'date' in df.columns:\n",
    "        df['year'] = df['date'].dt.year\n",
    "        df['month'] = df['date'].dt.month\n",
    "        df['day'] = df['date'].dt.day\n",
    "    return df"
   ]
  },
  {
   "cell_type": "code",
   "execution_count": 5,
   "metadata": {},
   "outputs": [],
   "source": [
    "def extract_dataset(train_df, search_spec_df, search_unspec_df):\n",
    "    train_df['datetime'] = pd.to_datetime(train_df['datetime'])\n",
    "    search_spec_df['datetime'] = pd.to_datetime(search_spec_df['datetime'])\n",
    "    search_unspec_df['date'] = pd.to_datetime(search_unspec_df['date'])\n",
    "\n",
    "    train_df = expand_datetime(train_df)\n",
    "    search_unspec_df = expand_datetime(search_unspec_df)\n",
    "\n",
    "    train_df = train_df.merge(search_spec_df, on=['datetime', 'start_code', 'end_code'], how='left')\n",
    "    train_df = train_df.merge(search_unspec_df, on=['year', 'month', 'day', 'start_code', 'end_code'], how='left')\n",
    "    train_df = train_df.merge(road_df.drop(['start_name', 'end_name'], axis=1), on=['start_code', 'end_code'], how='left')\n",
    "\n",
    "    train_df['dayofweek'] = train_df['datetime'].dt.weekday\n",
    "\n",
    "    return train_df"
   ]
  },
  {
   "cell_type": "code",
   "execution_count": 6,
   "metadata": {},
   "outputs": [],
   "source": [
    "train = extract_dataset(train_df, search_spec_df, search_unspec_df)"
   ]
  },
  {
   "cell_type": "code",
   "execution_count": 7,
   "metadata": {},
   "outputs": [],
   "source": [
    "train['section'] = train['start_code'].astype(str) + '_' + train['KP'].astype(str) + '_' + train['end_code'].astype(str)"
   ]
  },
  {
   "cell_type": "code",
   "execution_count": 8,
   "metadata": {},
   "outputs": [],
   "source": [
    "cat_cols = ['road_code', 'start_code', 'end_code', 'section', 'direction', 'hour', 'dayofweek']\n",
    "num_cols = ['year', 'month', 'day', 'hour', 'search_specified', 'search_unspecified', 'KP', 'start_KP', 'end_KP', 'limit_speed']\n",
    "feature_cols = cat_cols + num_cols"
   ]
  },
  {
   "cell_type": "code",
   "execution_count": 9,
   "metadata": {},
   "outputs": [
    {
     "data": {
      "text/html": [
       "<div>\n",
       "<style scoped>\n",
       "    .dataframe tbody tr th:only-of-type {\n",
       "        vertical-align: middle;\n",
       "    }\n",
       "\n",
       "    .dataframe tbody tr th {\n",
       "        vertical-align: top;\n",
       "    }\n",
       "\n",
       "    .dataframe thead th {\n",
       "        text-align: right;\n",
       "    }\n",
       "</style>\n",
       "<table border=\"1\" class=\"dataframe\">\n",
       "  <thead>\n",
       "    <tr style=\"text-align: right;\">\n",
       "      <th></th>\n",
       "      <th>road_code</th>\n",
       "      <th>start_code</th>\n",
       "      <th>end_code</th>\n",
       "      <th>section</th>\n",
       "      <th>direction</th>\n",
       "      <th>hour</th>\n",
       "      <th>dayofweek</th>\n",
       "      <th>year</th>\n",
       "      <th>month</th>\n",
       "      <th>day</th>\n",
       "      <th>hour</th>\n",
       "      <th>search_specified</th>\n",
       "      <th>search_unspecified</th>\n",
       "      <th>KP</th>\n",
       "      <th>start_KP</th>\n",
       "      <th>end_KP</th>\n",
       "      <th>limit_speed</th>\n",
       "    </tr>\n",
       "  </thead>\n",
       "  <tbody>\n",
       "    <tr>\n",
       "      <th>0</th>\n",
       "      <td>1800</td>\n",
       "      <td>1110210</td>\n",
       "      <td>1800006</td>\n",
       "      <td>1110210_2.48_1800006</td>\n",
       "      <td>下り</td>\n",
       "      <td>0</td>\n",
       "      <td>3</td>\n",
       "      <td>2021</td>\n",
       "      <td>4</td>\n",
       "      <td>8</td>\n",
       "      <td>0</td>\n",
       "      <td>15.0</td>\n",
       "      <td>3419.0</td>\n",
       "      <td>2.480</td>\n",
       "      <td>0.8</td>\n",
       "      <td>9.4</td>\n",
       "      <td>100.0</td>\n",
       "    </tr>\n",
       "    <tr>\n",
       "      <th>1</th>\n",
       "      <td>1800</td>\n",
       "      <td>1110210</td>\n",
       "      <td>1800006</td>\n",
       "      <td>1110210_2.48_1800006</td>\n",
       "      <td>下り</td>\n",
       "      <td>1</td>\n",
       "      <td>3</td>\n",
       "      <td>2021</td>\n",
       "      <td>4</td>\n",
       "      <td>8</td>\n",
       "      <td>1</td>\n",
       "      <td>6.0</td>\n",
       "      <td>3419.0</td>\n",
       "      <td>2.480</td>\n",
       "      <td>0.8</td>\n",
       "      <td>9.4</td>\n",
       "      <td>100.0</td>\n",
       "    </tr>\n",
       "    <tr>\n",
       "      <th>2</th>\n",
       "      <td>1800</td>\n",
       "      <td>1110210</td>\n",
       "      <td>1800006</td>\n",
       "      <td>1110210_2.48_1800006</td>\n",
       "      <td>下り</td>\n",
       "      <td>2</td>\n",
       "      <td>3</td>\n",
       "      <td>2021</td>\n",
       "      <td>4</td>\n",
       "      <td>8</td>\n",
       "      <td>2</td>\n",
       "      <td>3.0</td>\n",
       "      <td>3419.0</td>\n",
       "      <td>2.480</td>\n",
       "      <td>0.8</td>\n",
       "      <td>9.4</td>\n",
       "      <td>100.0</td>\n",
       "    </tr>\n",
       "    <tr>\n",
       "      <th>3</th>\n",
       "      <td>1800</td>\n",
       "      <td>1110210</td>\n",
       "      <td>1800006</td>\n",
       "      <td>1110210_2.48_1800006</td>\n",
       "      <td>下り</td>\n",
       "      <td>3</td>\n",
       "      <td>3</td>\n",
       "      <td>2021</td>\n",
       "      <td>4</td>\n",
       "      <td>8</td>\n",
       "      <td>3</td>\n",
       "      <td>26.0</td>\n",
       "      <td>3419.0</td>\n",
       "      <td>2.480</td>\n",
       "      <td>0.8</td>\n",
       "      <td>9.4</td>\n",
       "      <td>100.0</td>\n",
       "    </tr>\n",
       "    <tr>\n",
       "      <th>4</th>\n",
       "      <td>1800</td>\n",
       "      <td>1110210</td>\n",
       "      <td>1800006</td>\n",
       "      <td>1110210_2.48_1800006</td>\n",
       "      <td>下り</td>\n",
       "      <td>4</td>\n",
       "      <td>3</td>\n",
       "      <td>2021</td>\n",
       "      <td>4</td>\n",
       "      <td>8</td>\n",
       "      <td>4</td>\n",
       "      <td>30.0</td>\n",
       "      <td>3419.0</td>\n",
       "      <td>2.480</td>\n",
       "      <td>0.8</td>\n",
       "      <td>9.4</td>\n",
       "      <td>100.0</td>\n",
       "    </tr>\n",
       "    <tr>\n",
       "      <th>...</th>\n",
       "      <td>...</td>\n",
       "      <td>...</td>\n",
       "      <td>...</td>\n",
       "      <td>...</td>\n",
       "      <td>...</td>\n",
       "      <td>...</td>\n",
       "      <td>...</td>\n",
       "      <td>...</td>\n",
       "      <td>...</td>\n",
       "      <td>...</td>\n",
       "      <td>...</td>\n",
       "      <td>...</td>\n",
       "      <td>...</td>\n",
       "      <td>...</td>\n",
       "      <td>...</td>\n",
       "      <td>...</td>\n",
       "      <td>...</td>\n",
       "    </tr>\n",
       "    <tr>\n",
       "      <th>5800075</th>\n",
       "      <td>1040</td>\n",
       "      <td>1040126</td>\n",
       "      <td>1040121</td>\n",
       "      <td>1040126_168.082_1040121</td>\n",
       "      <td>上り</td>\n",
       "      <td>19</td>\n",
       "      <td>0</td>\n",
       "      <td>2023</td>\n",
       "      <td>7</td>\n",
       "      <td>31</td>\n",
       "      <td>19</td>\n",
       "      <td>14.0</td>\n",
       "      <td>1989.0</td>\n",
       "      <td>168.082</td>\n",
       "      <td>169.7</td>\n",
       "      <td>160.5</td>\n",
       "      <td>100.0</td>\n",
       "    </tr>\n",
       "    <tr>\n",
       "      <th>5800076</th>\n",
       "      <td>1040</td>\n",
       "      <td>1040126</td>\n",
       "      <td>1040121</td>\n",
       "      <td>1040126_168.082_1040121</td>\n",
       "      <td>上り</td>\n",
       "      <td>20</td>\n",
       "      <td>0</td>\n",
       "      <td>2023</td>\n",
       "      <td>7</td>\n",
       "      <td>31</td>\n",
       "      <td>20</td>\n",
       "      <td>18.0</td>\n",
       "      <td>1989.0</td>\n",
       "      <td>168.082</td>\n",
       "      <td>169.7</td>\n",
       "      <td>160.5</td>\n",
       "      <td>100.0</td>\n",
       "    </tr>\n",
       "    <tr>\n",
       "      <th>5800077</th>\n",
       "      <td>1040</td>\n",
       "      <td>1040126</td>\n",
       "      <td>1040121</td>\n",
       "      <td>1040126_168.082_1040121</td>\n",
       "      <td>上り</td>\n",
       "      <td>21</td>\n",
       "      <td>0</td>\n",
       "      <td>2023</td>\n",
       "      <td>7</td>\n",
       "      <td>31</td>\n",
       "      <td>21</td>\n",
       "      <td>24.0</td>\n",
       "      <td>1989.0</td>\n",
       "      <td>168.082</td>\n",
       "      <td>169.7</td>\n",
       "      <td>160.5</td>\n",
       "      <td>100.0</td>\n",
       "    </tr>\n",
       "    <tr>\n",
       "      <th>5800078</th>\n",
       "      <td>1040</td>\n",
       "      <td>1040126</td>\n",
       "      <td>1040121</td>\n",
       "      <td>1040126_168.082_1040121</td>\n",
       "      <td>上り</td>\n",
       "      <td>22</td>\n",
       "      <td>0</td>\n",
       "      <td>2023</td>\n",
       "      <td>7</td>\n",
       "      <td>31</td>\n",
       "      <td>22</td>\n",
       "      <td>15.0</td>\n",
       "      <td>1989.0</td>\n",
       "      <td>168.082</td>\n",
       "      <td>169.7</td>\n",
       "      <td>160.5</td>\n",
       "      <td>100.0</td>\n",
       "    </tr>\n",
       "    <tr>\n",
       "      <th>5800079</th>\n",
       "      <td>1040</td>\n",
       "      <td>1040126</td>\n",
       "      <td>1040121</td>\n",
       "      <td>1040126_168.082_1040121</td>\n",
       "      <td>上り</td>\n",
       "      <td>23</td>\n",
       "      <td>0</td>\n",
       "      <td>2023</td>\n",
       "      <td>7</td>\n",
       "      <td>31</td>\n",
       "      <td>23</td>\n",
       "      <td>10.0</td>\n",
       "      <td>1989.0</td>\n",
       "      <td>168.082</td>\n",
       "      <td>169.7</td>\n",
       "      <td>160.5</td>\n",
       "      <td>100.0</td>\n",
       "    </tr>\n",
       "  </tbody>\n",
       "</table>\n",
       "<p>5800080 rows × 17 columns</p>\n",
       "</div>"
      ],
      "text/plain": [
       "         road_code  start_code  end_code                  section direction  \\\n",
       "0             1800     1110210   1800006     1110210_2.48_1800006        下り   \n",
       "1             1800     1110210   1800006     1110210_2.48_1800006        下り   \n",
       "2             1800     1110210   1800006     1110210_2.48_1800006        下り   \n",
       "3             1800     1110210   1800006     1110210_2.48_1800006        下り   \n",
       "4             1800     1110210   1800006     1110210_2.48_1800006        下り   \n",
       "...            ...         ...       ...                      ...       ...   \n",
       "5800075       1040     1040126   1040121  1040126_168.082_1040121        上り   \n",
       "5800076       1040     1040126   1040121  1040126_168.082_1040121        上り   \n",
       "5800077       1040     1040126   1040121  1040126_168.082_1040121        上り   \n",
       "5800078       1040     1040126   1040121  1040126_168.082_1040121        上り   \n",
       "5800079       1040     1040126   1040121  1040126_168.082_1040121        上り   \n",
       "\n",
       "         hour  dayofweek  year  month  day  hour  search_specified  \\\n",
       "0           0          3  2021      4    8     0              15.0   \n",
       "1           1          3  2021      4    8     1               6.0   \n",
       "2           2          3  2021      4    8     2               3.0   \n",
       "3           3          3  2021      4    8     3              26.0   \n",
       "4           4          3  2021      4    8     4              30.0   \n",
       "...       ...        ...   ...    ...  ...   ...               ...   \n",
       "5800075    19          0  2023      7   31    19              14.0   \n",
       "5800076    20          0  2023      7   31    20              18.0   \n",
       "5800077    21          0  2023      7   31    21              24.0   \n",
       "5800078    22          0  2023      7   31    22              15.0   \n",
       "5800079    23          0  2023      7   31    23              10.0   \n",
       "\n",
       "         search_unspecified       KP  start_KP  end_KP  limit_speed  \n",
       "0                    3419.0    2.480       0.8     9.4        100.0  \n",
       "1                    3419.0    2.480       0.8     9.4        100.0  \n",
       "2                    3419.0    2.480       0.8     9.4        100.0  \n",
       "3                    3419.0    2.480       0.8     9.4        100.0  \n",
       "4                    3419.0    2.480       0.8     9.4        100.0  \n",
       "...                     ...      ...       ...     ...          ...  \n",
       "5800075              1989.0  168.082     169.7   160.5        100.0  \n",
       "5800076              1989.0  168.082     169.7   160.5        100.0  \n",
       "5800077              1989.0  168.082     169.7   160.5        100.0  \n",
       "5800078              1989.0  168.082     169.7   160.5        100.0  \n",
       "5800079              1989.0  168.082     169.7   160.5        100.0  \n",
       "\n",
       "[5800080 rows x 17 columns]"
      ]
     },
     "execution_count": 9,
     "metadata": {},
     "output_type": "execute_result"
    }
   ],
   "source": [
    "train[feature_cols]"
   ]
  },
  {
   "cell_type": "code",
   "execution_count": 10,
   "metadata": {},
   "outputs": [
    {
     "name": "stdout",
     "output_type": "stream",
     "text": [
      "<class 'pandas.core.frame.DataFrame'>\n",
      "RangeIndex: 5800080 entries, 0 to 5800079\n",
      "Data columns (total 30 columns):\n",
      " #   Column              Dtype         \n",
      "---  ------              -----         \n",
      " 0   datetime            datetime64[ns]\n",
      " 1   start_code          int64         \n",
      " 2   end_code            int64         \n",
      " 3   KP                  float64       \n",
      " 4   OCC                 float64       \n",
      " 5   allCars             int64         \n",
      " 6   speed               float64       \n",
      " 7   is_congestion       int64         \n",
      " 8   year                int32         \n",
      " 9   month               int32         \n",
      " 10  day                 int32         \n",
      " 11  hour                int32         \n",
      " 12  search_specified    float64       \n",
      " 13  date                datetime64[ns]\n",
      " 14  search_unspecified  float64       \n",
      " 15  road_code           int64         \n",
      " 16  direction           object        \n",
      " 17  limit_speed         float64       \n",
      " 18  start_KP            float64       \n",
      " 19  end_KP              float64       \n",
      " 20  start_pref_code     int64         \n",
      " 21  end_pref_code       int64         \n",
      " 22  start_lat           float64       \n",
      " 23  end_lat             float64       \n",
      " 24  start_lng           float64       \n",
      " 25  end_lng             float64       \n",
      " 26  start_degree        float64       \n",
      " 27  end_degree          float64       \n",
      " 28  dayofweek           int32         \n",
      " 29  section             object        \n",
      "dtypes: datetime64[ns](2), float64(14), int32(5), int64(7), object(2)\n",
      "memory usage: 1.2+ GB\n"
     ]
    }
   ],
   "source": [
    "train.info()"
   ]
  },
  {
   "cell_type": "code",
   "execution_count": 11,
   "metadata": {},
   "outputs": [
    {
     "name": "stderr",
     "output_type": "stream",
     "text": [
      "100%|██████████| 7/7 [00:02<00:00,  2.47it/s]\n"
     ]
    }
   ],
   "source": [
    "# ========================================\n",
    "# カテゴリ変数の処理\n",
    "# ========================================\n",
    "le_dict = {}\n",
    "for c in tqdm(cat_cols):\n",
    "    le = LabelEncoder()\n",
    "    train[c] = le.fit_transform(train[c])\n",
    "    le_dict[c] = le\n",
    "\n",
    "# with open(\"../src/features/le_dict.pkl\", \"wb\") as f:\n",
    "#     pickle.dump(le_dict, f)"
   ]
  },
  {
   "cell_type": "code",
   "execution_count": 12,
   "metadata": {},
   "outputs": [],
   "source": [
    "# ========================================\n",
    "# training module\n",
    "# ========================================\n",
    "def train_lgbm(X,\n",
    "               y,\n",
    "               cv,\n",
    "               model_path = [],\n",
    "               params: dict=None,\n",
    "               verbose: int=100\n",
    "               ):\n",
    "\n",
    "    # パラメータがないときは、空の dict で置き換える\n",
    "    if params is None:\n",
    "        params = {}\n",
    "\n",
    "    models = []\n",
    "    n_records = len(X)\n",
    "    # training data の target と同じだけのゼロ配列を用意\n",
    "    oof_pred = np.zeros((n_records), dtype=np.float32)\n",
    "\n",
    "    for i, (idx_train, idx_valid) in enumerate(cv):\n",
    "        x_train, y_train = X[idx_train], y[idx_train]\n",
    "        x_valid, y_valid = X[idx_valid], y[idx_valid]\n",
    "\n",
    "\n",
    "        clf = lgb.LGBMClassifier(**params)\n",
    "\n",
    "        clf.fit(x_train, y_train,\n",
    "                eval_set=[(x_valid, y_valid)],\n",
    "                callbacks=[\n",
    "                    lgb.early_stopping(stopping_rounds=50, verbose=True),\n",
    "                    lgb.log_evaluation(100)\n",
    "                ]\n",
    "                )\n",
    "\n",
    "        pred_i = clf.predict_proba(x_valid)[:,1]\n",
    "        oof_pred[idx_valid] = pred_i\n",
    "        models.append(clf)\n",
    "        score = roc_auc_score(y_valid, pred_i)\n",
    "        print(f\" - fold{i + 1} - {score:.4f}\")\n",
    "\n",
    "    score = roc_auc_score(y, oof_pred)\n",
    "\n",
    "    print(\"=\" * 50)\n",
    "    print(f\"FINISHI: CV Score: {score:.4f}\")\n",
    "    return score, oof_pred, models"
   ]
  },
  {
   "cell_type": "code",
   "execution_count": 13,
   "metadata": {},
   "outputs": [
    {
     "name": "stdout",
     "output_type": "stream",
     "text": [
      "train shape: (5800080, 30)\n",
      "Training until validation scores don't improve for 50 rounds\n",
      "Early stopping, best iteration is:\n",
      "[21]\tvalid_0's auc: 0.922745\n",
      " - fold1 - 0.9227\n",
      "Training until validation scores don't improve for 50 rounds\n",
      "Early stopping, best iteration is:\n",
      "[25]\tvalid_0's auc: 0.918228\n",
      " - fold2 - 0.9182\n",
      "Training until validation scores don't improve for 50 rounds\n",
      "Early stopping, best iteration is:\n",
      "[31]\tvalid_0's auc: 0.905972\n",
      " - fold3 - 0.9060\n",
      "Training until validation scores don't improve for 50 rounds\n",
      "[100]\tvalid_0's auc: 0.896374\n",
      "Early stopping, best iteration is:\n",
      "[50]\tvalid_0's auc: 0.901284\n",
      " - fold4 - 0.9013\n",
      "Training until validation scores don't improve for 50 rounds\n",
      "Early stopping, best iteration is:\n",
      "[35]\tvalid_0's auc: 0.917196\n",
      " - fold5 - 0.9172\n",
      "==================================================\n",
      "FINISHI: CV Score: 0.9005\n"
     ]
    }
   ],
   "source": [
    "# ========================================\n",
    "# parameters\n",
    "# ========================================\n",
    "params = {\n",
    "    \"objective\": \"binary\",\n",
    "    \"metric\": \"auc\",\n",
    "    \"n_estimators\": 100000,\n",
    "    \"learning_rate\": 0.1,\n",
    "    \"importance_type\": \"gain\",\n",
    "    \"random_state\": 42,\n",
    "    \"verbose\": -1,\n",
    "}\n",
    "# ========================================\n",
    "# train-validation split\n",
    "# ========================================\n",
    "TARGET = 'is_congestion'\n",
    "N_SPLIT = 5\n",
    "kf = StratifiedGroupKFold(N_SPLIT)\n",
    "cv_list = list(kf.split(train, y=train[TARGET], groups=train['date']))\n",
    "\n",
    "# ========================================\n",
    "# define variables\n",
    "# ========================================\n",
    "X = train[feature_cols].values\n",
    "y = train[TARGET].values\n",
    "\n",
    "print('train shape:', train.shape)\n",
    "# ========================================\n",
    "# training\n",
    "# ========================================\n",
    "score, oof_pred, models = train_lgbm(X, y=y, params=params, cv=cv_list)"
   ]
  },
  {
   "cell_type": "code",
   "execution_count": 14,
   "metadata": {},
   "outputs": [
    {
     "name": "stdout",
     "output_type": "stream",
     "text": [
      "threshold: 0.09443359374999963\n",
      "              precision    recall  f1-score   support\n",
      "\n",
      "           0       1.00      1.00      1.00   5779316\n",
      "           1       0.27      0.34      0.30     20764\n",
      "\n",
      "    accuracy                           0.99   5800080\n",
      "   macro avg       0.64      0.67      0.65   5800080\n",
      "weighted avg       1.00      0.99      0.99   5800080\n",
      "\n"
     ]
    }
   ],
   "source": [
    "# 最適な閾値を探索\n",
    "\n",
    "def func(x_list, df, oof):\n",
    "    score = f1_score(df[TARGET], oof>x_list[0])\n",
    "    return -score\n",
    "\n",
    "x0 = [0.5]\n",
    "result = minimize(func, x0,  args=(train, oof_pred), method=\"nelder-mead\")\n",
    "threshold = result.x[0]\n",
    "train['pred'] = (oof_pred>threshold).astype(int)\n",
    "print('threshold:', threshold)\n",
    "print(classification_report(train[TARGET], train['pred']))"
   ]
  },
  {
   "cell_type": "code",
   "execution_count": 15,
   "metadata": {},
   "outputs": [
    {
     "data": {
      "image/png": "[encoded data removed]",
      "text/plain": [
       "<Figure size 1200x600 with 1 Axes>"
      ]
     },
     "metadata": {},
     "output_type": "display_data"
    }
   ],
   "source": [
    "# ========================================\n",
    "# feature importance\n",
    "# ========================================\n",
    "def visualize_importance(models, feat_train_df):\n",
    "    feature_importance_df = pd.DataFrame()\n",
    "    for i, model in enumerate(models):\n",
    "        _df = pd.DataFrame()\n",
    "        _df[\"feature_importance\"] = model.feature_importances_\n",
    "        _df[\"column\"] = feat_train_df.columns\n",
    "        _df[\"fold\"] = i + 1\n",
    "        feature_importance_df = pd.concat([feature_importance_df, _df],\n",
    "                                          axis=0, ignore_index=True)\n",
    "\n",
    "    order = feature_importance_df.groupby(\"column\")\\\n",
    "        .sum()[[\"feature_importance\"]]\\\n",
    "        .sort_values(\"feature_importance\", ascending=False).index\n",
    "\n",
    "    fig, ax = plt.subplots(figsize=(12, max(6, len(order) * .25)))\n",
    "    sns.boxplot(data=feature_importance_df,\n",
    "                  x=\"feature_importance\",\n",
    "                  y=\"column\",\n",
    "                  order=order,\n",
    "                  ax=ax,\n",
    "                  palette=\"viridis\",\n",
    "                  orient=\"h\")\n",
    "    ax.tick_params(axis=\"x\", rotation=90)\n",
    "    ax.set_title(\"Importance\")\n",
    "    ax.grid()\n",
    "    fig.tight_layout()\n",
    "    return fig, ax, feature_importance_df\n",
    "\n",
    "fig, ax, feature_importance_df = visualize_importance(models, train[feature_cols])"
   ]
  },
  {
   "cell_type": "markdown",
   "metadata": {},
   "source": [
    "# チュートリアル（ドラぷら検索ログの処理を含む）"
   ]
  },
  {
   "cell_type": "code",
   "execution_count": 16,
   "metadata": {},
   "outputs": [],
   "source": [
    "# ========================================\n",
    "# Library\n",
    "# ========================================\n",
    "import os\n",
    "import math\n",
    "import time\n",
    "import random\n",
    "import pickle\n",
    "import itertools\n",
    "import warnings\n",
    "warnings.filterwarnings('ignore')\n",
    "\n",
    "import networkx as nx\n",
    "import numpy as np\n",
    "import pandas as pd\n",
    "from datetime import datetime\n",
    "pd.set_option('display.max_columns', None)\n",
    "import matplotlib.pyplot as plt\n",
    "import seaborn as sns\n",
    "import japanize_matplotlib\n",
    "import jpholiday\n",
    "from glob import glob\n",
    "from tqdm import tqdm\n",
    "from sklearn.model_selection import (\n",
    "    TimeSeriesSplit,\n",
    "    StratifiedKFold,\n",
    "    KFold,\n",
    "    GroupKFold,\n",
    "    StratifiedGroupKFold,\n",
    ")\n",
    "from sklearn.preprocessing import LabelEncoder\n",
    "from sklearn.metrics import f1_score, roc_auc_score, classification_report\n",
    "from scipy.optimize import minimize\n",
    "import lightgbm as lgb"
   ]
  },
  {
   "cell_type": "code",
   "execution_count": 17,
   "metadata": {},
   "outputs": [
    {
     "name": "stdout",
     "output_type": "stream",
     "text": [
      "[ExpresswayRouter] Loading Road Network...\n",
      "[ExpresswayRouter] Finished.\n"
     ]
    }
   ],
   "source": [
    "from expressway_router import ExpresswayRouter\n",
    "\n",
    "road_all_csv = \"./input/road_all.csv\"\n",
    "road_local_csv = \"./input/road_local.csv\"\n",
    "router = ExpresswayRouter(road_all_csv=road_all_csv, road_local_csv=road_local_csv)"
   ]
  },
  {
   "cell_type": "code",
   "execution_count": 18,
   "metadata": {},
   "outputs": [
    {
     "name": "stdout",
     "output_type": "stream",
     "text": [
      "[]\n"
     ]
    }
   ],
   "source": [
    "#2021年4月分のデータのみ抜き出す\n",
    "log_pathes = glob(\"search_raw_log/2021_04_*.csv\")\n",
    "sorted_pathes = sorted(log_pathes, key=lambda x: datetime.strptime(os.path.basename(x), '%Y_%m_%d.csv'))\n",
    "print(sorted_pathes[:5])"
   ]
  },
  {
   "cell_type": "code",
   "execution_count": 19,
   "metadata": {},
   "outputs": [
    {
     "ename": "ValueError",
     "evalue": "No objects to concatenate",
     "output_type": "error",
     "traceback": [
      "\u001b[0;31m---------------------------------------------------------------------------\u001b[0m",
      "\u001b[0;31mValueError\u001b[0m                                Traceback (most recent call last)",
      "Cell \u001b[0;32mIn[19], line 1\u001b[0m\n\u001b[0;32m----> 1\u001b[0m rawlog_df \u001b[38;5;241m=\u001b[39m \u001b[43mpd\u001b[49m\u001b[38;5;241;43m.\u001b[39;49m\u001b[43mconcat\u001b[49m\u001b[43m(\u001b[49m\u001b[43m[\u001b[49m\u001b[43mpd\u001b[49m\u001b[38;5;241;43m.\u001b[39;49m\u001b[43mread_csv\u001b[49m\u001b[43m(\u001b[49m\u001b[43mpath\u001b[49m\u001b[43m)\u001b[49m\u001b[43m \u001b[49m\u001b[38;5;28;43;01mfor\u001b[39;49;00m\u001b[43m \u001b[49m\u001b[43mpath\u001b[49m\u001b[43m \u001b[49m\u001b[38;5;129;43;01min\u001b[39;49;00m\u001b[43m \u001b[49m\u001b[43msorted_pathes\u001b[49m\u001b[43m]\u001b[49m\u001b[43m)\u001b[49m\u001b[38;5;241m.\u001b[39mreset_index(drop\u001b[38;5;241m=\u001b[39m\u001b[38;5;28;01mTrue\u001b[39;00m)\n\u001b[1;32m      3\u001b[0m rawlog_df \u001b[38;5;241m=\u001b[39m rawlog_df\u001b[38;5;241m.\u001b[39mastype({\n\u001b[1;32m      4\u001b[0m     \u001b[38;5;124m'\u001b[39m\u001b[38;5;124mdatetime\u001b[39m\u001b[38;5;124m'\u001b[39m: np\u001b[38;5;241m.\u001b[39mdatetime64,\n\u001b[1;32m      5\u001b[0m     \u001b[38;5;124m'\u001b[39m\u001b[38;5;124mstart_code\u001b[39m\u001b[38;5;124m'\u001b[39m: \u001b[38;5;124m'\u001b[39m\u001b[38;5;124mcategory\u001b[39m\u001b[38;5;124m'\u001b[39m,\n\u001b[0;32m   (...)\u001b[0m\n\u001b[1;32m      9\u001b[0m     \u001b[38;5;124m'\u001b[39m\u001b[38;5;124mcar_type\u001b[39m\u001b[38;5;124m'\u001b[39m: \u001b[38;5;124m'\u001b[39m\u001b[38;5;124mcategory\u001b[39m\u001b[38;5;124m'\u001b[39m\n\u001b[1;32m     10\u001b[0m     })\n",
      "File \u001b[0;32m/opt/conda/lib/python3.11/site-packages/pandas/core/reshape/concat.py:380\u001b[0m, in \u001b[0;36mconcat\u001b[0;34m(objs, axis, join, ignore_index, keys, levels, names, verify_integrity, sort, copy)\u001b[0m\n\u001b[1;32m    377\u001b[0m \u001b[38;5;28;01melif\u001b[39;00m copy \u001b[38;5;129;01mand\u001b[39;00m using_copy_on_write():\n\u001b[1;32m    378\u001b[0m     copy \u001b[38;5;241m=\u001b[39m \u001b[38;5;28;01mFalse\u001b[39;00m\n\u001b[0;32m--> 380\u001b[0m op \u001b[38;5;241m=\u001b[39m \u001b[43m_Concatenator\u001b[49m\u001b[43m(\u001b[49m\n\u001b[1;32m    381\u001b[0m \u001b[43m    \u001b[49m\u001b[43mobjs\u001b[49m\u001b[43m,\u001b[49m\n\u001b[1;32m    382\u001b[0m \u001b[43m    \u001b[49m\u001b[43maxis\u001b[49m\u001b[38;5;241;43m=\u001b[39;49m\u001b[43maxis\u001b[49m\u001b[43m,\u001b[49m\n\u001b[1;32m    383\u001b[0m \u001b[43m    \u001b[49m\u001b[43mignore_index\u001b[49m\u001b[38;5;241;43m=\u001b[39;49m\u001b[43mignore_index\u001b[49m\u001b[43m,\u001b[49m\n\u001b[1;32m    384\u001b[0m \u001b[43m    \u001b[49m\u001b[43mjoin\u001b[49m\u001b[38;5;241;43m=\u001b[39;49m\u001b[43mjoin\u001b[49m\u001b[43m,\u001b[49m\n\u001b[1;32m    385\u001b[0m \u001b[43m    \u001b[49m\u001b[43mkeys\u001b[49m\u001b[38;5;241;43m=\u001b[39;49m\u001b[43mkeys\u001b[49m\u001b[43m,\u001b[49m\n\u001b[1;32m    386\u001b[0m \u001b[43m    \u001b[49m\u001b[43mlevels\u001b[49m\u001b[38;5;241;43m=\u001b[39;49m\u001b[43mlevels\u001b[49m\u001b[43m,\u001b[49m\n\u001b[1;32m    387\u001b[0m \u001b[43m    \u001b[49m\u001b[43mnames\u001b[49m\u001b[38;5;241;43m=\u001b[39;49m\u001b[43mnames\u001b[49m\u001b[43m,\u001b[49m\n\u001b[1;32m    388\u001b[0m \u001b[43m    \u001b[49m\u001b[43mverify_integrity\u001b[49m\u001b[38;5;241;43m=\u001b[39;49m\u001b[43mverify_integrity\u001b[49m\u001b[43m,\u001b[49m\n\u001b[1;32m    389\u001b[0m \u001b[43m    \u001b[49m\u001b[43mcopy\u001b[49m\u001b[38;5;241;43m=\u001b[39;49m\u001b[43mcopy\u001b[49m\u001b[43m,\u001b[49m\n\u001b[1;32m    390\u001b[0m \u001b[43m    \u001b[49m\u001b[43msort\u001b[49m\u001b[38;5;241;43m=\u001b[39;49m\u001b[43msort\u001b[49m\u001b[43m,\u001b[49m\n\u001b[1;32m    391\u001b[0m \u001b[43m\u001b[49m\u001b[43m)\u001b[49m\n\u001b[1;32m    393\u001b[0m \u001b[38;5;28;01mreturn\u001b[39;00m op\u001b[38;5;241m.\u001b[39mget_result()\n",
      "File \u001b[0;32m/opt/conda/lib/python3.11/site-packages/pandas/core/reshape/concat.py:443\u001b[0m, in \u001b[0;36m_Concatenator.__init__\u001b[0;34m(self, objs, axis, join, keys, levels, names, ignore_index, verify_integrity, copy, sort)\u001b[0m\n\u001b[1;32m    440\u001b[0m \u001b[38;5;28mself\u001b[39m\u001b[38;5;241m.\u001b[39mverify_integrity \u001b[38;5;241m=\u001b[39m verify_integrity\n\u001b[1;32m    441\u001b[0m \u001b[38;5;28mself\u001b[39m\u001b[38;5;241m.\u001b[39mcopy \u001b[38;5;241m=\u001b[39m copy\n\u001b[0;32m--> 443\u001b[0m objs, keys \u001b[38;5;241m=\u001b[39m \u001b[38;5;28;43mself\u001b[39;49m\u001b[38;5;241;43m.\u001b[39;49m\u001b[43m_clean_keys_and_objs\u001b[49m\u001b[43m(\u001b[49m\u001b[43mobjs\u001b[49m\u001b[43m,\u001b[49m\u001b[43m \u001b[49m\u001b[43mkeys\u001b[49m\u001b[43m)\u001b[49m\n\u001b[1;32m    445\u001b[0m \u001b[38;5;66;03m# figure out what our result ndim is going to be\u001b[39;00m\n\u001b[1;32m    446\u001b[0m ndims \u001b[38;5;241m=\u001b[39m \u001b[38;5;28mself\u001b[39m\u001b[38;5;241m.\u001b[39m_get_ndims(objs)\n",
      "File \u001b[0;32m/opt/conda/lib/python3.11/site-packages/pandas/core/reshape/concat.py:505\u001b[0m, in \u001b[0;36m_Concatenator._clean_keys_and_objs\u001b[0;34m(self, objs, keys)\u001b[0m\n\u001b[1;32m    502\u001b[0m     objs_list \u001b[38;5;241m=\u001b[39m \u001b[38;5;28mlist\u001b[39m(objs)\n\u001b[1;32m    504\u001b[0m \u001b[38;5;28;01mif\u001b[39;00m \u001b[38;5;28mlen\u001b[39m(objs_list) \u001b[38;5;241m==\u001b[39m \u001b[38;5;241m0\u001b[39m:\n\u001b[0;32m--> 505\u001b[0m     \u001b[38;5;28;01mraise\u001b[39;00m \u001b[38;5;167;01mValueError\u001b[39;00m(\u001b[38;5;124m\"\u001b[39m\u001b[38;5;124mNo objects to concatenate\u001b[39m\u001b[38;5;124m\"\u001b[39m)\n\u001b[1;32m    507\u001b[0m \u001b[38;5;28;01mif\u001b[39;00m keys \u001b[38;5;129;01mis\u001b[39;00m \u001b[38;5;28;01mNone\u001b[39;00m:\n\u001b[1;32m    508\u001b[0m     objs_list \u001b[38;5;241m=\u001b[39m \u001b[38;5;28mlist\u001b[39m(com\u001b[38;5;241m.\u001b[39mnot_none(\u001b[38;5;241m*\u001b[39mobjs_list))\n",
      "\u001b[0;31mValueError\u001b[0m: No objects to concatenate"
     ]
    }
   ],
   "source": [
    "rawlog_df = pd.concat([pd.read_csv(path) for path in sorted_pathes]).reset_index(drop=True)\n",
    "\n",
    "rawlog_df = rawlog_df.astype({\n",
    "    'datetime': np.datetime64,\n",
    "    'start_code': 'category',\n",
    "    'end_code': 'category',\n",
    "    'spec_datetime': np.datetime64,\n",
    "    'spec_type': 'category',\n",
    "    'car_type': 'category'\n",
    "    })"
   ]
  },
  {
   "cell_type": "code",
   "execution_count": null,
   "metadata": {},
   "outputs": [],
   "source": [
    "rawlog_df.head(3)"
   ]
  },
  {
   "cell_type": "code",
   "execution_count": null,
   "metadata": {},
   "outputs": [],
   "source": [
    "rawlog_df.tail(3)"
   ]
  },
  {
   "cell_type": "code",
   "execution_count": null,
   "metadata": {},
   "outputs": [],
   "source": [
    "rawlog_df.info()"
   ]
  },
  {
   "cell_type": "code",
   "execution_count": null,
   "metadata": {},
   "outputs": [],
   "source": [
    "def get_past_logs(df_log: pd.DataFrame, date: str, n_days: int) -> pd.DataFrame:\n",
    "    '''\n",
    "    df_logに含まれる、dateからn_days日前までの検索ログのうち、dateを指定日とするレコードを抜き出す\n",
    "    '''\n",
    "    end_timestamp = pd.Timestamp(date)\n",
    "    start_timestamp = end_timestamp - pd.Timedelta(n_days, unit='day')\n",
    "    \n",
    "    df = df_log.loc[\n",
    "        (df_log.datetime >= start_timestamp) & (df_log.datetime < end_timestamp)\n",
    "    ]\n",
    "    \n",
    "    df_specified = df.loc[\n",
    "        df.spec_datetime.dt.date == end_timestamp\n",
    "    ].reset_index(drop=True)\n",
    "    return df_specified"
   ]
  },
  {
   "cell_type": "code",
   "execution_count": null,
   "metadata": {
    "tags": []
   },
   "outputs": [],
   "source": [
    "def create_expected_passing_time_dataframe(df: pd.DataFrame) -> pd.DataFrame:\n",
    "    '''\n",
    "    検索ログdfの1レコードごとに検索経路が通過する各区間の予想通過時刻を計算する\n",
    "    '''\n",
    "    start_codes = []\n",
    "    end_codes = []\n",
    "    expected_passing_times = []\n",
    "    \n",
    "    columns = ['start_code', 'end_code', 'spec_datetime', 'spec_type']\n",
    "    for (src, dest, spec_datetime, spec_type) in df.loc[:, columns].values:\n",
    "        path_with_time = router.get_route_with_time(src, dest, spec_datetime, spec_type)\n",
    "        \n",
    "        for ((start_code, passing_time), (end_code, _)) in zip(path_with_time, path_with_time[1:]):\n",
    "            start_codes.append(start_code)\n",
    "            end_codes.append(end_code)\n",
    "            expected_passing_times.append(passing_time)\n",
    "\n",
    "    return pd.DataFrame({\n",
    "        'start_code': start_codes,\n",
    "        'end_code': end_codes,\n",
    "        'passing_time': expected_passing_times\n",
    "    }).astype({'start_code': 'category', 'end_code': 'category'})"
   ]
  },
  {
   "cell_type": "code",
   "execution_count": null,
   "metadata": {},
   "outputs": [],
   "source": [
    "data_period_dict = {\n",
    "    'train': ('20210408', '20210430'), # サンプルとして1ヶ月を処理\n",
    "    # 'test': ('20230801', '20230930'),\n",
    "}"
   ]
  },
  {
   "cell_type": "code",
   "execution_count": null,
   "metadata": {},
   "outputs": [],
   "source": [
    "# 何日前までの検索履歴を参照するか\n",
    "n_days = 7\n",
    "# 検索数の時間粒度\n",
    "sampling_rate = '1h'"
   ]
  },
  {
   "cell_type": "markdown",
   "metadata": {
    "tags": []
   },
   "source": [
    "## ドラぷら検索ログの処理"
   ]
  },
  {
   "cell_type": "code",
   "execution_count": null,
   "metadata": {
    "tags": []
   },
   "outputs": [],
   "source": [
    "# 訓練データ期間\n",
    "start_date, end_date = data_period_dict['train']\n",
    "date_range = pd.date_range(start_date, end_date, freq='1d')\n",
    "\n",
    "search_df = pd.DataFrame()\n",
    "s = time.time()\n",
    "for date in date_range:\n",
    "    _s = time.time()\n",
    "    \n",
    "    past_logs_df = get_past_logs(rawlog_df, date, n_days=7)\n",
    "    passing_df = create_expected_passing_time_dataframe(past_logs_df)\n",
    "    \n",
    "    _search_df = (passing_df.set_index('passing_time')\n",
    "                  .assign(search_specified=1)\n",
    "                  .groupby(['start_code', 'end_code'])\n",
    "                  .apply(lambda g: g['search_specified'].resample(sampling_rate).sum())\n",
    "                  .reset_index())\n",
    "    _search_df = _search_df.loc[_search_df.passing_time.dt.date == date].reset_index(drop=True)\n",
    "    \n",
    "    search_df = pd.concat([search_df, _search_df], ignore_index=True)\n",
    "    \n",
    "    print(f'{date.date()} | {time.time() - _s : .3f} [sec]')\n",
    "\n",
    "print('-'*30)\n",
    "print(f'{start_date} --> {end_date} ({len(date_range)} days) | {time.time() - s : .3f} [sec]')"
   ]
  },
  {
   "cell_type": "code",
   "execution_count": null,
   "metadata": {
    "tags": []
   },
   "outputs": [],
   "source": [
    "# テストデータ期間\n",
    "# start_date, end_date = data_period_dict['test']\n",
    "# date_range = pd.date_range(start_date, end_date, freq='1d')\n",
    "\n",
    "# search_df = pd.DataFrame()\n",
    "# s = time.time()\n",
    "# for date in date_range:\n",
    "#     _s = time.time()\n",
    "    \n",
    "#     past_logs_df = get_past_logs(rawlog_df, date, n_days=7)\n",
    "#     passing_df = create_expected_passing_time_dataframe(past_logs_df)\n",
    "    \n",
    "#     _search_df = (passing_df.set_index('passing_time')\n",
    "#                   .assign(search_specified=1)\n",
    "#                   .groupby(['start_code', 'end_code'])\n",
    "#                   .apply(lambda g: g['search_specified'].resample(sampling_rate).sum())\n",
    "#                   .reset_index())\n",
    "#     _search_df = _search_df.loc[_search_df.passing_time.dt.date == date].reset_index(drop=True)\n",
    "    \n",
    "#     search_df = pd.concat([search_df, _search_df], ignore_index=True)\n",
    "    \n",
    "#     print(f'{date.date()} | {time.time() - _s : .3f} [sec]')\n",
    "\n",
    "# print('-'*30)\n",
    "# print(f'{start_date} --> {end_date} ({len(date_range)} days) | {time.time() - s : .3f} [sec]')"
   ]
  },
  {
   "cell_type": "code",
   "execution_count": null,
   "metadata": {},
   "outputs": [],
   "source": [
    "search_df.head()"
   ]
  },
  {
   "cell_type": "code",
   "execution_count": null,
   "metadata": {},
   "outputs": [],
   "source": [
    "search_df.tail()"
   ]
  },
  {
   "cell_type": "markdown",
   "metadata": {
    "tags": []
   },
   "source": [
    "## トラカンデータとマージ"
   ]
  },
  {
   "cell_type": "code",
   "execution_count": null,
   "metadata": {},
   "outputs": [],
   "source": [
    "column_types = {\n",
    "    'datetime': np.datetime64,\n",
    "    'start_code': str,\n",
    "    'end_code': str,\n",
    "}\n",
    "\n",
    "train_df = pd.read_csv('train.csv').astype(column_types)\n",
    "# test_df = pd.read_csv('test.csv').astype(column_types)"
   ]
  },
  {
   "cell_type": "code",
   "execution_count": null,
   "metadata": {},
   "outputs": [],
   "source": [
    "# 訓練データ\n",
    "train = train_df.merge(\n",
    "    search_df,\n",
    "    how='left',\n",
    "    left_on=['datetime', 'start_code', 'end_code'],\n",
    "    right_on=['passing_time', 'start_code', 'end_code']\n",
    ").drop('passing_time', axis=1)\n",
    "\n",
    "train['search_specified'] = train['search_specified'].fillna(0)\n",
    "\n",
    "\n",
    "# テストデータ\n",
    "# test = test_df.merge(\n",
    "#     search_df,\n",
    "#     how='left',\n",
    "#     left_on=['datetime', 'start_code', 'end_code'],\n",
    "#     right_on=['passing_time', 'start_code', 'end_code']\n",
    "# ).drop('passing_time', axis=1)\n",
    "\n",
    "# test['search_specified'] = test['search_specified'].fillna(0)"
   ]
  },
  {
   "cell_type": "code",
   "execution_count": null,
   "metadata": {},
   "outputs": [],
   "source": [
    "train.head()"
   ]
  },
  {
   "cell_type": "code",
   "execution_count": null,
   "metadata": {},
   "outputs": [],
   "source": []
  }
 ],
 "metadata": {
  "kernelspec": {
   "display_name": "Python 3 (ipykernel)",
   "language": "python",
   "name": "python3"
  },
  "language_info": {
   "codemirror_mode": {
    "name": "ipython",
    "version": 3
   },
   "file_extension": ".py",
   "mimetype": "text/x-python",
   "name": "python",
   "nbconvert_exporter": "python",
   "pygments_lexer": "ipython3",
   "version": "3.11.6"
  },
  "vscode": {
   "interpreter": {
    "hash": "32c71264303c9072a1246abca1ed87e7469f707aa69f5d1312c53145b7781cb0"
   }
  }
 },
 "nbformat": 4,
 "nbformat_minor": 4
}
