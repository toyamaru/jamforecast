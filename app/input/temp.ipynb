{
 "cells": [
  {
   "cell_type": "code",
   "execution_count": 1,
   "metadata": {},
   "outputs": [],
   "source": [
    "import pandas as pd\n",
    "import os"
   ]
  },
  {
   "cell_type": "code",
   "execution_count": null,
   "metadata": {},
   "outputs": [],
   "source": [
    "def split_csv(input, o_folder, o_fileName, n):\n",
    "    df = pd.read_csv(input)\n",
    "\n",
    "    total_rows = len(df)\n",
    "    separate_len = total_rows // n\n",
    "\n",
    "    if not os.path.exists(output_folder):\n",
    "        os.makedirs(output_folder)\n",
    "    \n",
    "    for i in range(n):\n",
    "        start_idx = i * separate_len\n",
    "        end_idx = (i + 1) * separate_len if i < n - 1 else total_rows\n",
    "        temp_df = df.iloc[start_idx:end_idx]\n",
    "\n",
    "        output_file = os.path.join(output_folder, f'')"
   ]
  }
 ],
 "metadata": {
  "kernelspec": {
   "display_name": "Python 3",
   "language": "python",
   "name": "python3"
  },
  "language_info": {
   "codemirror_mode": {
    "name": "ipython",
    "version": 3
   },
   "file_extension": ".py",
   "mimetype": "text/x-python",
   "name": "python",
   "nbconvert_exporter": "python",
   "pygments_lexer": "ipython3",
   "version": "3.11.3"
  }
 },
 "nbformat": 4,
 "nbformat_minor": 2
}
