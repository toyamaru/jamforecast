{
 "cells": [
  {
   "cell_type": "code",
   "execution_count": 1,
   "metadata": {},
   "outputs": [
    {
     "name": "stdout",
     "output_type": "stream",
     "text": [
      "Requirement already satisfied: matplotlib in /opt/conda/lib/python3.11/site-packages (3.8.0)\n",
      "Requirement already satisfied: pandas in /opt/conda/lib/python3.11/site-packages (2.1.1)\n",
      "Requirement already satisfied: numpy in /opt/conda/lib/python3.11/site-packages (1.24.4)\n",
      "Requirement already satisfied: seaborn in /opt/conda/lib/python3.11/site-packages (0.13.0)\n",
      "Requirement already satisfied: catboost in /opt/conda/lib/python3.11/site-packages (1.2.3)\n",
      "Requirement already satisfied: xfeat in /opt/conda/lib/python3.11/site-packages (0.1.1)\n",
      "Requirement already satisfied: contourpy>=1.0.1 in /opt/conda/lib/python3.11/site-packages (from matplotlib) (1.1.1)\n",
      "Requirement already satisfied: cycler>=0.10 in /opt/conda/lib/python3.11/site-packages (from matplotlib) (0.12.1)\n",
      "Requirement already satisfied: fonttools>=4.22.0 in /opt/conda/lib/python3.11/site-packages (from matplotlib) (4.43.1)\n",
      "Requirement already satisfied: kiwisolver>=1.0.1 in /opt/conda/lib/python3.11/site-packages (from matplotlib) (1.4.5)\n",
      "Requirement already satisfied: packaging>=20.0 in /opt/conda/lib/python3.11/site-packages (from matplotlib) (23.2)\n",
      "Requirement already satisfied: pillow>=6.2.0 in /opt/conda/lib/python3.11/site-packages (from matplotlib) (10.1.0)\n",
      "Requirement already satisfied: pyparsing>=2.3.1 in /opt/conda/lib/python3.11/site-packages (from matplotlib) (3.1.1)\n",
      "Requirement already satisfied: python-dateutil>=2.7 in /opt/conda/lib/python3.11/site-packages (from matplotlib) (2.8.2)\n",
      "Requirement already satisfied: pytz>=2020.1 in /opt/conda/lib/python3.11/site-packages (from pandas) (2023.3.post1)\n",
      "Requirement already satisfied: tzdata>=2022.1 in /opt/conda/lib/python3.11/site-packages (from pandas) (2023.3)\n",
      "Requirement already satisfied: graphviz in /opt/conda/lib/python3.11/site-packages (from catboost) (0.20.2)\n",
      "Requirement already satisfied: scipy in /opt/conda/lib/python3.11/site-packages (from catboost) (1.11.3)\n",
      "Requirement already satisfied: plotly in /opt/conda/lib/python3.11/site-packages (from catboost) (5.20.0)\n",
      "Requirement already satisfied: six in /opt/conda/lib/python3.11/site-packages (from catboost) (1.16.0)\n",
      "Requirement already satisfied: PyYAML in /opt/conda/lib/python3.11/site-packages (from xfeat) (6.0.1)\n",
      "Requirement already satisfied: ml-metrics in /opt/conda/lib/python3.11/site-packages (from xfeat) (0.1.4)\n",
      "Requirement already satisfied: optuna>=1.3.0 in /opt/conda/lib/python3.11/site-packages (from xfeat) (3.5.0)\n",
      "Requirement already satisfied: lightgbm in /opt/conda/lib/python3.11/site-packages (from xfeat) (4.3.0)\n",
      "Requirement already satisfied: scikit-learn in /opt/conda/lib/python3.11/site-packages (from xfeat) (1.3.1)\n",
      "Requirement already satisfied: pyarrow in /opt/conda/lib/python3.11/site-packages (from xfeat) (13.0.0)\n",
      "Requirement already satisfied: alembic>=1.5.0 in /opt/conda/lib/python3.11/site-packages (from optuna>=1.3.0->xfeat) (1.12.0)\n",
      "Requirement already satisfied: colorlog in /opt/conda/lib/python3.11/site-packages (from optuna>=1.3.0->xfeat) (6.8.2)\n",
      "Requirement already satisfied: sqlalchemy>=1.3.0 in /opt/conda/lib/python3.11/site-packages (from optuna>=1.3.0->xfeat) (2.0.22)\n",
      "Requirement already satisfied: tqdm in /opt/conda/lib/python3.11/site-packages (from optuna>=1.3.0->xfeat) (4.66.1)\n",
      "Requirement already satisfied: tenacity>=6.2.0 in /opt/conda/lib/python3.11/site-packages (from plotly->catboost) (8.2.3)\n",
      "Requirement already satisfied: joblib>=1.1.1 in /opt/conda/lib/python3.11/site-packages (from scikit-learn->xfeat) (1.3.2)\n",
      "Requirement already satisfied: threadpoolctl>=2.0.0 in /opt/conda/lib/python3.11/site-packages (from scikit-learn->xfeat) (3.2.0)\n",
      "Requirement already satisfied: Mako in /opt/conda/lib/python3.11/site-packages (from alembic>=1.5.0->optuna>=1.3.0->xfeat) (1.2.4)\n",
      "Requirement already satisfied: typing-extensions>=4 in /opt/conda/lib/python3.11/site-packages (from alembic>=1.5.0->optuna>=1.3.0->xfeat) (4.8.0)\n",
      "Requirement already satisfied: greenlet!=0.4.17 in /opt/conda/lib/python3.11/site-packages (from sqlalchemy>=1.3.0->optuna>=1.3.0->xfeat) (3.0.0)\n",
      "Requirement already satisfied: MarkupSafe>=0.9.2 in /opt/conda/lib/python3.11/site-packages (from Mako->alembic>=1.5.0->optuna>=1.3.0->xfeat) (2.1.3)\n",
      "Note: you may need to restart the kernel to use updated packages.\n"
     ]
    }
   ],
   "source": [
    "%pip install matplotlib pandas numpy seaborn catboost xfeat"
   ]
  },
  {
   "cell_type": "code",
   "execution_count": 2,
   "metadata": {},
   "outputs": [],
   "source": [
    "# ========================================\n",
    "# Library\n",
    "# ========================================\n",
    "import math\n",
    "import random\n",
    "import pickle\n",
    "import itertools\n",
    "import warnings\n",
    "warnings.filterwarnings('ignore')\n",
    "import time\n",
    "import os\n",
    "\n",
    "import numpy as np\n",
    "import pandas as pd\n",
    "pd.set_option('display.max_columns', None)\n",
    "from datetime import datetime\n",
    "import matplotlib.pyplot as plt\n",
    "import seaborn as sns\n",
    "import japanize_matplotlib\n",
    "# import jpholiday\n",
    "from glob import glob\n",
    "from tqdm import tqdm\n",
    "from sklearn.model_selection import (\n",
    "    TimeSeriesSplit,\n",
    "    StratifiedKFold,\n",
    "    KFold,\n",
    "    GroupKFold,\n",
    "    StratifiedGroupKFold,\n",
    ")\n",
    "from xfeat import SelectCategorical, LabelEncoder, LambdaEncoder, Pipeline, ConcatCombination, SelectNumerical, \\\n",
    "    ArithmeticCombinations, TargetEncoder, aggregation, GBDTFeatureSelector, GBDTFeatureExplorer \n",
    "# ←←←いくつかいらないものがありそう。xfeatの使い方をおさらいしないと\n",
    "from sklearn.preprocessing import LabelEncoder\n",
    "from sklearn.metrics import f1_score, roc_auc_score, classification_report\n",
    "from scipy.optimize import minimize\n",
    "import lightgbm as lgb\n",
    "import optuna\n",
    "# catBoost\n",
    "from catboost import CatBoost, CatBoostClassifier, Pool\n",
    "# XGBoost\n",
    "\n",
    "from expressway_router import ExpresswayRouter\n",
    "\n",
    "from collections import Counter"
   ]
  },
  {
   "cell_type": "code",
   "execution_count": 3,
   "metadata": {},
   "outputs": [],
   "source": [
    "i_path = '../../train/'\n",
    "o_path = '../model/'\n",
    "\n",
    "TARGET = ['is_congestion']\n",
    "\n",
    "threshold = 0.5"
   ]
  },
  {
   "cell_type": "markdown",
   "metadata": {},
   "source": [
    "## Load datas"
   ]
  },
  {
   "cell_type": "code",
   "execution_count": 4,
   "metadata": {},
   "outputs": [],
   "source": [
    "train_df = pd.read_csv(i_path + 'train.csv')\n",
    "road_df = pd.read_csv(i_path + 'road_local.csv')\n",
    "search_spec_df = pd.read_csv(i_path + 'search_specified.csv')\n",
    "search_unspec_df = pd.read_csv(i_path + 'search_unspecified.csv')"
   ]
  },
  {
   "cell_type": "markdown",
   "metadata": {},
   "source": [
    "## Preprocessing"
   ]
  },
  {
   "cell_type": "code",
   "execution_count": 5,
   "metadata": {},
   "outputs": [],
   "source": [
    "def expand_datetime(df):\n",
    "    if 'datetime' in df.columns:\n",
    "        df['year'] = df['datetime'].dt.year\n",
    "        df['month'] = df['datetime'].dt.month\n",
    "        df['day'] = df['datetime'].dt.day\n",
    "        df['hour'] = df['datetime'].dt.hour\n",
    "    if 'date' in df.columns:\n",
    "        df['year'] = df['date'].dt.year\n",
    "        df['month'] = df['date'].dt.month\n",
    "        df['day'] = df['date'].dt.day\n",
    "    return df"
   ]
  },
  {
   "cell_type": "code",
   "execution_count": 6,
   "metadata": {},
   "outputs": [],
   "source": [
    "def preprocess_fit(train_df, search_spec_df, search_unspec_df):\n",
    "    train_df['datetime'] = pd.to_datetime(train_df['datetime'])\n",
    "    search_spec_df['datetime'] = pd.to_datetime(search_spec_df['datetime'])\n",
    "    search_unspec_df['date'] = pd.to_datetime(search_unspec_df['date'])\n",
    "\n",
    "    train_df = expand_datetime(train_df)\n",
    "    search_unspec_df = expand_datetime(search_unspec_df)\n",
    "\n",
    "    train_df = train_df.merge(search_spec_df, on=['datetime', 'start_code', 'end_code'], how='left')\n",
    "    train_df = train_df.merge(search_unspec_df, on=['year', 'month', 'day', 'start_code', 'end_code'], how='left')\n",
    "    train_df = train_df.merge(road_df.drop(['start_name', 'end_name'], axis=1), on=['start_code', 'end_code'], how='left')\n",
    "\n",
    "    train_df['dayofweek'] = train_df['datetime'].dt.weekday\n",
    "\n",
    "    train_df['section'] = train_df['start_code'].astype(str) + '_' + train_df['KP'].astype(str) + '_' + train_df['end_code'].astype(str)\n",
    "\n",
    "    return train_df"
   ]
  },
  {
   "cell_type": "code",
   "execution_count": 7,
   "metadata": {},
   "outputs": [],
   "source": [
    "train = preprocess_fit(train_df, search_spec_df, search_unspec_df)"
   ]
  },
  {
   "cell_type": "code",
   "execution_count": 8,
   "metadata": {},
   "outputs": [
    {
     "data": {
      "text/html": [
       "<div>\n",
       "<style scoped>\n",
       "    .dataframe tbody tr th:only-of-type {\n",
       "        vertical-align: middle;\n",
       "    }\n",
       "\n",
       "    .dataframe tbody tr th {\n",
       "        vertical-align: top;\n",
       "    }\n",
       "\n",
       "    .dataframe thead th {\n",
       "        text-align: right;\n",
       "    }\n",
       "</style>\n",
       "<table border=\"1\" class=\"dataframe\">\n",
       "  <thead>\n",
       "    <tr style=\"text-align: right;\">\n",
       "      <th></th>\n",
       "      <th>datetime</th>\n",
       "      <th>start_code</th>\n",
       "      <th>end_code</th>\n",
       "      <th>KP</th>\n",
       "      <th>OCC</th>\n",
       "      <th>allCars</th>\n",
       "      <th>speed</th>\n",
       "      <th>is_congestion</th>\n",
       "      <th>year</th>\n",
       "      <th>month</th>\n",
       "      <th>day</th>\n",
       "      <th>hour</th>\n",
       "      <th>search_specified</th>\n",
       "      <th>date</th>\n",
       "      <th>search_unspecified</th>\n",
       "      <th>road_code</th>\n",
       "      <th>direction</th>\n",
       "      <th>limit_speed</th>\n",
       "      <th>start_KP</th>\n",
       "      <th>end_KP</th>\n",
       "      <th>start_pref_code</th>\n",
       "      <th>end_pref_code</th>\n",
       "      <th>start_lat</th>\n",
       "      <th>end_lat</th>\n",
       "      <th>start_lng</th>\n",
       "      <th>end_lng</th>\n",
       "      <th>start_degree</th>\n",
       "      <th>end_degree</th>\n",
       "      <th>dayofweek</th>\n",
       "      <th>section</th>\n",
       "    </tr>\n",
       "  </thead>\n",
       "  <tbody>\n",
       "    <tr>\n",
       "      <th>0</th>\n",
       "      <td>2021-04-08 00:00:00</td>\n",
       "      <td>1110210</td>\n",
       "      <td>1800006</td>\n",
       "      <td>2.48</td>\n",
       "      <td>1.833333</td>\n",
       "      <td>507</td>\n",
       "      <td>94.208661</td>\n",
       "      <td>0</td>\n",
       "      <td>2021</td>\n",
       "      <td>4</td>\n",
       "      <td>8</td>\n",
       "      <td>0</td>\n",
       "      <td>15.0</td>\n",
       "      <td>2021-04-08</td>\n",
       "      <td>3419.0</td>\n",
       "      <td>1800</td>\n",
       "      <td>下り</td>\n",
       "      <td>100.0</td>\n",
       "      <td>0.8</td>\n",
       "      <td>9.4</td>\n",
       "      <td>13</td>\n",
       "      <td>11</td>\n",
       "      <td>35.75582</td>\n",
       "      <td>35.80615</td>\n",
       "      <td>139.601514</td>\n",
       "      <td>139.535511</td>\n",
       "      <td>4.0</td>\n",
       "      <td>2.0</td>\n",
       "      <td>3</td>\n",
       "      <td>1110210_2.48_1800006</td>\n",
       "    </tr>\n",
       "    <tr>\n",
       "      <th>1</th>\n",
       "      <td>2021-04-08 01:00:00</td>\n",
       "      <td>1110210</td>\n",
       "      <td>1800006</td>\n",
       "      <td>2.48</td>\n",
       "      <td>1.750000</td>\n",
       "      <td>444</td>\n",
       "      <td>94.469663</td>\n",
       "      <td>0</td>\n",
       "      <td>2021</td>\n",
       "      <td>4</td>\n",
       "      <td>8</td>\n",
       "      <td>1</td>\n",
       "      <td>6.0</td>\n",
       "      <td>2021-04-08</td>\n",
       "      <td>3419.0</td>\n",
       "      <td>1800</td>\n",
       "      <td>下り</td>\n",
       "      <td>100.0</td>\n",
       "      <td>0.8</td>\n",
       "      <td>9.4</td>\n",
       "      <td>13</td>\n",
       "      <td>11</td>\n",
       "      <td>35.75582</td>\n",
       "      <td>35.80615</td>\n",
       "      <td>139.601514</td>\n",
       "      <td>139.535511</td>\n",
       "      <td>4.0</td>\n",
       "      <td>2.0</td>\n",
       "      <td>3</td>\n",
       "      <td>1110210_2.48_1800006</td>\n",
       "    </tr>\n",
       "    <tr>\n",
       "      <th>2</th>\n",
       "      <td>2021-04-08 02:00:00</td>\n",
       "      <td>1110210</td>\n",
       "      <td>1800006</td>\n",
       "      <td>2.48</td>\n",
       "      <td>1.500000</td>\n",
       "      <td>363</td>\n",
       "      <td>92.593407</td>\n",
       "      <td>0</td>\n",
       "      <td>2021</td>\n",
       "      <td>4</td>\n",
       "      <td>8</td>\n",
       "      <td>2</td>\n",
       "      <td>3.0</td>\n",
       "      <td>2021-04-08</td>\n",
       "      <td>3419.0</td>\n",
       "      <td>1800</td>\n",
       "      <td>下り</td>\n",
       "      <td>100.0</td>\n",
       "      <td>0.8</td>\n",
       "      <td>9.4</td>\n",
       "      <td>13</td>\n",
       "      <td>11</td>\n",
       "      <td>35.75582</td>\n",
       "      <td>35.80615</td>\n",
       "      <td>139.601514</td>\n",
       "      <td>139.535511</td>\n",
       "      <td>4.0</td>\n",
       "      <td>2.0</td>\n",
       "      <td>3</td>\n",
       "      <td>1110210_2.48_1800006</td>\n",
       "    </tr>\n",
       "    <tr>\n",
       "      <th>3</th>\n",
       "      <td>2021-04-08 03:00:00</td>\n",
       "      <td>1110210</td>\n",
       "      <td>1800006</td>\n",
       "      <td>2.48</td>\n",
       "      <td>1.583333</td>\n",
       "      <td>430</td>\n",
       "      <td>94.501160</td>\n",
       "      <td>0</td>\n",
       "      <td>2021</td>\n",
       "      <td>4</td>\n",
       "      <td>8</td>\n",
       "      <td>3</td>\n",
       "      <td>26.0</td>\n",
       "      <td>2021-04-08</td>\n",
       "      <td>3419.0</td>\n",
       "      <td>1800</td>\n",
       "      <td>下り</td>\n",
       "      <td>100.0</td>\n",
       "      <td>0.8</td>\n",
       "      <td>9.4</td>\n",
       "      <td>13</td>\n",
       "      <td>11</td>\n",
       "      <td>35.75582</td>\n",
       "      <td>35.80615</td>\n",
       "      <td>139.601514</td>\n",
       "      <td>139.535511</td>\n",
       "      <td>4.0</td>\n",
       "      <td>2.0</td>\n",
       "      <td>3</td>\n",
       "      <td>1110210_2.48_1800006</td>\n",
       "    </tr>\n",
       "    <tr>\n",
       "      <th>4</th>\n",
       "      <td>2021-04-08 04:00:00</td>\n",
       "      <td>1110210</td>\n",
       "      <td>1800006</td>\n",
       "      <td>2.48</td>\n",
       "      <td>1.750000</td>\n",
       "      <td>500</td>\n",
       "      <td>94.079840</td>\n",
       "      <td>0</td>\n",
       "      <td>2021</td>\n",
       "      <td>4</td>\n",
       "      <td>8</td>\n",
       "      <td>4</td>\n",
       "      <td>30.0</td>\n",
       "      <td>2021-04-08</td>\n",
       "      <td>3419.0</td>\n",
       "      <td>1800</td>\n",
       "      <td>下り</td>\n",
       "      <td>100.0</td>\n",
       "      <td>0.8</td>\n",
       "      <td>9.4</td>\n",
       "      <td>13</td>\n",
       "      <td>11</td>\n",
       "      <td>35.75582</td>\n",
       "      <td>35.80615</td>\n",
       "      <td>139.601514</td>\n",
       "      <td>139.535511</td>\n",
       "      <td>4.0</td>\n",
       "      <td>2.0</td>\n",
       "      <td>3</td>\n",
       "      <td>1110210_2.48_1800006</td>\n",
       "    </tr>\n",
       "  </tbody>\n",
       "</table>\n",
       "</div>"
      ],
      "text/plain": [
       "             datetime  start_code  end_code    KP       OCC  allCars  \\\n",
       "0 2021-04-08 00:00:00     1110210   1800006  2.48  1.833333      507   \n",
       "1 2021-04-08 01:00:00     1110210   1800006  2.48  1.750000      444   \n",
       "2 2021-04-08 02:00:00     1110210   1800006  2.48  1.500000      363   \n",
       "3 2021-04-08 03:00:00     1110210   1800006  2.48  1.583333      430   \n",
       "4 2021-04-08 04:00:00     1110210   1800006  2.48  1.750000      500   \n",
       "\n",
       "       speed  is_congestion  year  month  day  hour  search_specified  \\\n",
       "0  94.208661              0  2021      4    8     0              15.0   \n",
       "1  94.469663              0  2021      4    8     1               6.0   \n",
       "2  92.593407              0  2021      4    8     2               3.0   \n",
       "3  94.501160              0  2021      4    8     3              26.0   \n",
       "4  94.079840              0  2021      4    8     4              30.0   \n",
       "\n",
       "        date  search_unspecified  road_code direction  limit_speed  start_KP  \\\n",
       "0 2021-04-08              3419.0       1800        下り        100.0       0.8   \n",
       "1 2021-04-08              3419.0       1800        下り        100.0       0.8   \n",
       "2 2021-04-08              3419.0       1800        下り        100.0       0.8   \n",
       "3 2021-04-08              3419.0       1800        下り        100.0       0.8   \n",
       "4 2021-04-08              3419.0       1800        下り        100.0       0.8   \n",
       "\n",
       "   end_KP  start_pref_code  end_pref_code  start_lat   end_lat   start_lng  \\\n",
       "0     9.4               13             11   35.75582  35.80615  139.601514   \n",
       "1     9.4               13             11   35.75582  35.80615  139.601514   \n",
       "2     9.4               13             11   35.75582  35.80615  139.601514   \n",
       "3     9.4               13             11   35.75582  35.80615  139.601514   \n",
       "4     9.4               13             11   35.75582  35.80615  139.601514   \n",
       "\n",
       "      end_lng  start_degree  end_degree  dayofweek               section  \n",
       "0  139.535511           4.0         2.0          3  1110210_2.48_1800006  \n",
       "1  139.535511           4.0         2.0          3  1110210_2.48_1800006  \n",
       "2  139.535511           4.0         2.0          3  1110210_2.48_1800006  \n",
       "3  139.535511           4.0         2.0          3  1110210_2.48_1800006  \n",
       "4  139.535511           4.0         2.0          3  1110210_2.48_1800006  "
      ]
     },
     "execution_count": 8,
     "metadata": {},
     "output_type": "execute_result"
    }
   ],
   "source": [
    "train.head(5)"
   ]
  },
  {
   "cell_type": "code",
   "execution_count": 9,
   "metadata": {},
   "outputs": [],
   "source": [
    "#########################################################\n",
    "# ここからtrainのデータの整形などを実施する(ドラプラの元データとかは使わんでもある程度出来そうな気がしてる。。。。。。。。)\n",
    "#########################################################\n",
    "\n",
    "\n",
    "def preprocess(df):\n",
    "    agg_dfs = []\n",
    "    num_df = SelectNumerical().fit_transform(df)\n",
    "    encoder = Pipeline([\n",
    "        SelectCategorical(),\n",
    "        LabelEncoder(output_suffix=\"\"),\n",
    "        ])\n",
    "    le_df = encoder.fit_transform(df)\n",
    "    # agg_dfs.append(get_agg_df()) # group byすることによるそれぞれの\n",
    "    preprocessed_df = pd.concat([num_df,le_df]+agg_dfs, axis=1)\n",
    "    return preprocessed_df"
   ]
  },
  {
   "cell_type": "code",
   "execution_count": 10,
   "metadata": {},
   "outputs": [],
   "source": [
    "cat_cols = ['road_code', 'start_code', 'end_code', 'section', 'direction', 'dayofweek'] # この箇所については、select_numericalあたりを使ったほうが良さそう\n",
    "\n",
    "num_cols = ['year', 'month', 'day', 'hour', 'search_specified', 'search_unspecified', 'KP', 'start_KP', 'end_KP', 'limit_speed', 'OCC']\n",
    "feature_cols = cat_cols + num_cols"
   ]
  },
  {
   "cell_type": "code",
   "execution_count": 11,
   "metadata": {},
   "outputs": [],
   "source": [
    "test = train.loc[(train['year']==2021) & ((train['month']==4) | (train['month']==5))]\n",
    "train = train.loc[~((train['year']==2021) & ((train['month']==4) | (train['month']==5)))]"
   ]
  },
  {
   "cell_type": "code",
   "execution_count": 12,
   "metadata": {},
   "outputs": [
    {
     "data": {
      "text/html": [
       "<div>\n",
       "<style scoped>\n",
       "    .dataframe tbody tr th:only-of-type {\n",
       "        vertical-align: middle;\n",
       "    }\n",
       "\n",
       "    .dataframe tbody tr th {\n",
       "        vertical-align: top;\n",
       "    }\n",
       "\n",
       "    .dataframe thead th {\n",
       "        text-align: right;\n",
       "    }\n",
       "</style>\n",
       "<table border=\"1\" class=\"dataframe\">\n",
       "  <thead>\n",
       "    <tr style=\"text-align: right;\">\n",
       "      <th></th>\n",
       "      <th>road_code</th>\n",
       "      <th>start_code</th>\n",
       "      <th>end_code</th>\n",
       "      <th>section</th>\n",
       "      <th>direction</th>\n",
       "      <th>dayofweek</th>\n",
       "      <th>year</th>\n",
       "      <th>month</th>\n",
       "      <th>day</th>\n",
       "      <th>hour</th>\n",
       "      <th>search_specified</th>\n",
       "      <th>search_unspecified</th>\n",
       "      <th>KP</th>\n",
       "      <th>start_KP</th>\n",
       "      <th>end_KP</th>\n",
       "      <th>limit_speed</th>\n",
       "      <th>OCC</th>\n",
       "    </tr>\n",
       "  </thead>\n",
       "  <tbody>\n",
       "    <tr>\n",
       "      <th>1296</th>\n",
       "      <td>1800</td>\n",
       "      <td>1110210</td>\n",
       "      <td>1800006</td>\n",
       "      <td>1110210_2.48_1800006</td>\n",
       "      <td>下り</td>\n",
       "      <td>1</td>\n",
       "      <td>2021</td>\n",
       "      <td>6</td>\n",
       "      <td>1</td>\n",
       "      <td>0</td>\n",
       "      <td>12.0</td>\n",
       "      <td>2656.0</td>\n",
       "      <td>2.48</td>\n",
       "      <td>0.8</td>\n",
       "      <td>9.4</td>\n",
       "      <td>100.0</td>\n",
       "      <td>2.083333</td>\n",
       "    </tr>\n",
       "    <tr>\n",
       "      <th>1297</th>\n",
       "      <td>1800</td>\n",
       "      <td>1110210</td>\n",
       "      <td>1800006</td>\n",
       "      <td>1110210_2.48_1800006</td>\n",
       "      <td>下り</td>\n",
       "      <td>1</td>\n",
       "      <td>2021</td>\n",
       "      <td>6</td>\n",
       "      <td>1</td>\n",
       "      <td>1</td>\n",
       "      <td>3.0</td>\n",
       "      <td>2656.0</td>\n",
       "      <td>2.48</td>\n",
       "      <td>0.8</td>\n",
       "      <td>9.4</td>\n",
       "      <td>100.0</td>\n",
       "      <td>1.750000</td>\n",
       "    </tr>\n",
       "    <tr>\n",
       "      <th>1298</th>\n",
       "      <td>1800</td>\n",
       "      <td>1110210</td>\n",
       "      <td>1800006</td>\n",
       "      <td>1110210_2.48_1800006</td>\n",
       "      <td>下り</td>\n",
       "      <td>1</td>\n",
       "      <td>2021</td>\n",
       "      <td>6</td>\n",
       "      <td>1</td>\n",
       "      <td>2</td>\n",
       "      <td>11.0</td>\n",
       "      <td>2656.0</td>\n",
       "      <td>2.48</td>\n",
       "      <td>0.8</td>\n",
       "      <td>9.4</td>\n",
       "      <td>100.0</td>\n",
       "      <td>1.250000</td>\n",
       "    </tr>\n",
       "    <tr>\n",
       "      <th>1299</th>\n",
       "      <td>1800</td>\n",
       "      <td>1110210</td>\n",
       "      <td>1800006</td>\n",
       "      <td>1110210_2.48_1800006</td>\n",
       "      <td>下り</td>\n",
       "      <td>1</td>\n",
       "      <td>2021</td>\n",
       "      <td>6</td>\n",
       "      <td>1</td>\n",
       "      <td>3</td>\n",
       "      <td>28.0</td>\n",
       "      <td>2656.0</td>\n",
       "      <td>2.48</td>\n",
       "      <td>0.8</td>\n",
       "      <td>9.4</td>\n",
       "      <td>100.0</td>\n",
       "      <td>1.916667</td>\n",
       "    </tr>\n",
       "    <tr>\n",
       "      <th>1300</th>\n",
       "      <td>1800</td>\n",
       "      <td>1110210</td>\n",
       "      <td>1800006</td>\n",
       "      <td>1110210_2.48_1800006</td>\n",
       "      <td>下り</td>\n",
       "      <td>1</td>\n",
       "      <td>2021</td>\n",
       "      <td>6</td>\n",
       "      <td>1</td>\n",
       "      <td>4</td>\n",
       "      <td>15.0</td>\n",
       "      <td>2656.0</td>\n",
       "      <td>2.48</td>\n",
       "      <td>0.8</td>\n",
       "      <td>9.4</td>\n",
       "      <td>100.0</td>\n",
       "      <td>2.000000</td>\n",
       "    </tr>\n",
       "  </tbody>\n",
       "</table>\n",
       "</div>"
      ],
      "text/plain": [
       "      road_code  start_code  end_code               section direction  \\\n",
       "1296       1800     1110210   1800006  1110210_2.48_1800006        下り   \n",
       "1297       1800     1110210   1800006  1110210_2.48_1800006        下り   \n",
       "1298       1800     1110210   1800006  1110210_2.48_1800006        下り   \n",
       "1299       1800     1110210   1800006  1110210_2.48_1800006        下り   \n",
       "1300       1800     1110210   1800006  1110210_2.48_1800006        下り   \n",
       "\n",
       "      dayofweek  year  month  day  hour  search_specified  search_unspecified  \\\n",
       "1296          1  2021      6    1     0              12.0              2656.0   \n",
       "1297          1  2021      6    1     1               3.0              2656.0   \n",
       "1298          1  2021      6    1     2              11.0              2656.0   \n",
       "1299          1  2021      6    1     3              28.0              2656.0   \n",
       "1300          1  2021      6    1     4              15.0              2656.0   \n",
       "\n",
       "        KP  start_KP  end_KP  limit_speed       OCC  \n",
       "1296  2.48       0.8     9.4        100.0  2.083333  \n",
       "1297  2.48       0.8     9.4        100.0  1.750000  \n",
       "1298  2.48       0.8     9.4        100.0  1.250000  \n",
       "1299  2.48       0.8     9.4        100.0  1.916667  \n",
       "1300  2.48       0.8     9.4        100.0  2.000000  "
      ]
     },
     "execution_count": 12,
     "metadata": {},
     "output_type": "execute_result"
    }
   ],
   "source": [
    "train[feature_cols].head(5)"
   ]
  },
  {
   "cell_type": "code",
   "execution_count": 13,
   "metadata": {},
   "outputs": [
    {
     "data": {
      "text/plain": [
       "Index(['datetime', 'start_code', 'end_code', 'KP', 'OCC', 'allCars', 'speed',\n",
       "       'is_congestion', 'year', 'month', 'day', 'hour', 'search_specified',\n",
       "       'date', 'search_unspecified', 'road_code', 'direction', 'limit_speed',\n",
       "       'start_KP', 'end_KP', 'start_pref_code', 'end_pref_code', 'start_lat',\n",
       "       'end_lat', 'start_lng', 'end_lng', 'start_degree', 'end_degree',\n",
       "       'dayofweek', 'section'],\n",
       "      dtype='object')"
      ]
     },
     "execution_count": 13,
     "metadata": {},
     "output_type": "execute_result"
    }
   ],
   "source": [
    "train.columns"
   ]
  },
  {
   "cell_type": "code",
   "execution_count": 14,
   "metadata": {},
   "outputs": [
    {
     "name": "stderr",
     "output_type": "stream",
     "text": [
      "100%|██████████| 6/6 [00:01<00:00,  3.82it/s]\n"
     ]
    }
   ],
   "source": [
    "le_dict = {}\n",
    "for c in tqdm(cat_cols):\n",
    "    le = LabelEncoder()\n",
    "    train[c] = le.fit_transform(train[c])\n",
    "    le_dict[c] = le"
   ]
  },
  {
   "cell_type": "markdown",
   "metadata": {},
   "source": [
    "## Training"
   ]
  },
  {
   "cell_type": "code",
   "execution_count": 15,
   "metadata": {},
   "outputs": [],
   "source": [
    "def train_lgbm(X, y, cv, model_path=[], params={}, verbose=100):\n",
    "\n",
    "    models = []\n",
    "    n_records = len(X)\n",
    "    oof_pred = np.zeros((n_records), dtype=np.float32)\n",
    "\n",
    "    def objective(trial):\n",
    "        lgb_params = {\n",
    "            \"objective\": \"binary\",\n",
    "            \"metric\": \"binary_logloss\",\n",
    "            \"boosting_type\": \"rf\",\n",
    "            \"verbosity\": -1,\n",
    "            \"boost_from_average\": False,\n",
    "            \"random_seed\": 42,\n",
    "            \"feature_pre_filter\": False,\n",
    "            \"max_depth\": trial.suggest_int('max_depth', 4, 8),\n",
    "            \"num_leaves\": trial.suggest_int(\"num_leaves\", 2, 100),\n",
    "            \"learning_rate\": trial.suggest_float(\"learning_rate\", 0.001, 0.1),\n",
    "            \"feature_fraction\": trial.suggest_float(\"feature_fraction\", 0.1, 1.0),\n",
    "            \"bagging_fraction\": trial.suggest_float(\"bagging_fraction\", 0.1, 1.0),\n",
    "            \"min_child_samples\": trial.suggest_int(\"min_child_samples\", 1, 25),\n",
    "            \"min_data_in_leaf\": trial.suggest_int('min_data_in_leaf', 1, 4),\n",
    "            \"lambda_l1\": trial.suggest_float(\"lambda_l1\", 1e-8, 10.0, log=True),\n",
    "            \"lambda_l2\": trial.suggest_float(\"lambda_l2\", 1e-8, 10.0, log=True),\n",
    "            \"min_split_gain\": trial.suggest_float(\"min_split_gain\", 1e-4, 1e-1, log=True),\n",
    "            \"bagging_freq\": trial.suggest_int(\"bagging_freq\", 1, 10),\n",
    "            \"bagging_seed\": 42,\n",
    "            \"verbosity\": -1,\n",
    "        }\n",
    "\n",
    "\n",
    "        model = lgb.LGBMClassifier(**lgb_params)\n",
    "\n",
    "        model.fit(x_train, y_train,\n",
    "                  eval_set=[(x_valid, y_valid)],\n",
    "                  callbacks=[\n",
    "                      lgb.early_stopping(stopping_rounds=50, verbose=True),\n",
    "                      lgb.log_evaluation(100)\n",
    "                  ]\n",
    "                  )\n",
    "\n",
    "        pred_y = model.predict_proba(x_valid)[:, 1]\n",
    "        auc = roc_auc_score(y_valid, pred_y)\n",
    "\n",
    "        return auc\n",
    "\n",
    "    for i, (idx_train, idx_valid) in enumerate(cv):\n",
    "        x_train, y_train = X[idx_train], y[idx_train]\n",
    "        x_valid, y_valid = X[idx_valid], y[idx_valid]\n",
    "\n",
    "        study = optuna.create_study(direction=\"maximize\")\n",
    "        study.optimize(objective, n_trials=10)\n",
    "\n",
    "        best_params = study.best_params\n",
    "        clf = lgb.LGBMClassifier(**best_params)\n",
    "\n",
    "        clf.fit(x_train, y_train,\n",
    "                eval_set=[(x_valid, y_valid)],\n",
    "                callbacks=[\n",
    "                    lgb.early_stopping(stopping_rounds=50, verbose=True),\n",
    "                    lgb.log_evaluation(100)\n",
    "                ]\n",
    "                )\n",
    "\n",
    "        pred_i = clf.predict_proba(x_valid)[:, 1]\n",
    "        oof_pred[idx_valid] = pred_i\n",
    "        models.append(clf)\n",
    "        score = roc_auc_score(y_valid, pred_i)\n",
    "        print(f\" - fold{i + 1} - {score:.4f}\")\n",
    "\n",
    "    score = roc_auc_score(y, oof_pred)\n",
    "\n",
    "    print(\"=\" * 50)\n",
    "    print(f\"FINISH: CV Score: {score:.4f}\")\n",
    "    return score, oof_pred, models"
   ]
  },
  {
   "cell_type": "code",
   "execution_count": 16,
   "metadata": {},
   "outputs": [
    {
     "name": "stdout",
     "output_type": "stream",
     "text": [
      "train shape: (5429424, 30)\n"
     ]
    },
    {
     "name": "stderr",
     "output_type": "stream",
     "text": [
      "[I 2024-03-20 05:39:05,112] A new study created in memory with name: no-name-73424d81-db60-4e18-86a0-11d84e1b2ed1\n"
     ]
    },
    {
     "name": "stdout",
     "output_type": "stream",
     "text": [
      "Training until validation scores don't improve for 50 rounds\n"
     ]
    },
    {
     "name": "stderr",
     "output_type": "stream",
     "text": [
      "[I 2024-03-20 05:39:08,994] Trial 0 finished with value: 0.9850188152480994 and parameters: {'max_depth': 5, 'num_leaves': 96, 'learning_rate': 0.04600508397026657, 'feature_fraction': 0.26600824398443706, 'bagging_fraction': 0.1511654842770972, 'min_child_samples': 25, 'min_data_in_leaf': 4, 'lambda_l1': 0.012025760088628401, 'lambda_l2': 4.286588091207017e-05, 'min_split_gain': 0.0006508859042694555, 'bagging_freq': 2}. Best is trial 0 with value: 0.9850188152480994.\n"
     ]
    },
    {
     "name": "stdout",
     "output_type": "stream",
     "text": [
      "Early stopping, best iteration is:\n",
      "[1]\tvalid_0's binary_logloss: 0.128938\n",
      "Training until validation scores don't improve for 50 rounds\n",
      "Early stopping, best iteration is:\n",
      "[26]\tvalid_0's binary_logloss: 0.133176\n"
     ]
    },
    {
     "name": "stderr",
     "output_type": "stream",
     "text": [
      "[I 2024-03-20 05:39:15,529] Trial 1 finished with value: 0.9831566097061428 and parameters: {'max_depth': 7, 'num_leaves': 46, 'learning_rate': 0.06754632161607779, 'feature_fraction': 0.2284878864146806, 'bagging_fraction': 0.7358189699781701, 'min_child_samples': 10, 'min_data_in_leaf': 1, 'lambda_l1': 0.038474344291531605, 'lambda_l2': 2.4305559521946854e-06, 'min_split_gain': 0.04193722424074639, 'bagging_freq': 3}. Best is trial 0 with value: 0.9850188152480994.\n"
     ]
    },
    {
     "name": "stdout",
     "output_type": "stream",
     "text": [
      "Training until validation scores don't improve for 50 rounds\n"
     ]
    },
    {
     "name": "stderr",
     "output_type": "stream",
     "text": [
      "[I 2024-03-20 05:39:19,411] Trial 2 finished with value: 0.9765733807360025 and parameters: {'max_depth': 5, 'num_leaves': 24, 'learning_rate': 0.029683297729590424, 'feature_fraction': 0.30032765760993074, 'bagging_fraction': 0.46517405628004, 'min_child_samples': 21, 'min_data_in_leaf': 1, 'lambda_l1': 0.008549058194786095, 'lambda_l2': 0.014524984609202481, 'min_split_gain': 0.0010267460482076165, 'bagging_freq': 7}. Best is trial 0 with value: 0.9850188152480994.\n"
     ]
    },
    {
     "name": "stdout",
     "output_type": "stream",
     "text": [
      "Early stopping, best iteration is:\n",
      "[1]\tvalid_0's binary_logloss: 0.128908\n",
      "Training until validation scores don't improve for 50 rounds\n",
      "[100]\tvalid_0's binary_logloss: 0.128865\n",
      "Did not meet early stopping. Best iteration is:\n",
      "[100]\tvalid_0's binary_logloss: 0.128865\n"
     ]
    },
    {
     "name": "stderr",
     "output_type": "stream",
     "text": [
      "[I 2024-03-20 05:39:29,410] Trial 3 finished with value: 0.9903411168857658 and parameters: {'max_depth': 6, 'num_leaves': 66, 'learning_rate': 0.0668009088057607, 'feature_fraction': 0.9721743290383759, 'bagging_fraction': 0.7879314007335999, 'min_child_samples': 24, 'min_data_in_leaf': 2, 'lambda_l1': 0.004503239597664615, 'lambda_l2': 0.2999416687833924, 'min_split_gain': 0.06889608909289538, 'bagging_freq': 6}. Best is trial 3 with value: 0.9903411168857658.\n"
     ]
    },
    {
     "name": "stdout",
     "output_type": "stream",
     "text": [
      "Training until validation scores don't improve for 50 rounds\n",
      "Early stopping, best iteration is:\n",
      "[3]\tvalid_0's binary_logloss: 0.130206\n"
     ]
    },
    {
     "name": "stderr",
     "output_type": "stream",
     "text": [
      "[I 2024-03-20 05:39:32,962] Trial 4 finished with value: 0.9745366485485873 and parameters: {'max_depth': 6, 'num_leaves': 40, 'learning_rate': 0.07338402854503519, 'feature_fraction': 0.5037044605350357, 'bagging_fraction': 0.39850903471261845, 'min_child_samples': 19, 'min_data_in_leaf': 1, 'lambda_l1': 9.24574794313825e-05, 'lambda_l2': 4.597533592729655, 'min_split_gain': 0.002583397747912006, 'bagging_freq': 8}. Best is trial 3 with value: 0.9903411168857658.\n"
     ]
    },
    {
     "name": "stdout",
     "output_type": "stream",
     "text": [
      "Training until validation scores don't improve for 50 rounds\n",
      "Early stopping, best iteration is:\n",
      "[3]\tvalid_0's binary_logloss: 0.130189\n"
     ]
    },
    {
     "name": "stderr",
     "output_type": "stream",
     "text": [
      "[I 2024-03-20 05:39:37,636] Trial 5 finished with value: 0.9808904871263978 and parameters: {'max_depth': 4, 'num_leaves': 75, 'learning_rate': 0.0979538494008963, 'feature_fraction': 0.3882074507089421, 'bagging_fraction': 0.8398869557812964, 'min_child_samples': 13, 'min_data_in_leaf': 4, 'lambda_l1': 0.013759344288281405, 'lambda_l2': 0.0019616795134124515, 'min_split_gain': 0.0006323942385822037, 'bagging_freq': 8}. Best is trial 3 with value: 0.9903411168857658.\n"
     ]
    },
    {
     "name": "stdout",
     "output_type": "stream",
     "text": [
      "Training until validation scores don't improve for 50 rounds\n",
      "Early stopping, best iteration is:\n",
      "[11]\tvalid_0's binary_logloss: 0.12895\n"
     ]
    },
    {
     "name": "stderr",
     "output_type": "stream",
     "text": [
      "[I 2024-03-20 05:39:43,606] Trial 6 finished with value: 0.9826705659877636 and parameters: {'max_depth': 4, 'num_leaves': 65, 'learning_rate': 0.03195660374794549, 'feature_fraction': 0.9392937972332555, 'bagging_fraction': 0.9002339539857596, 'min_child_samples': 17, 'min_data_in_leaf': 4, 'lambda_l1': 3.596670521871557e-06, 'lambda_l2': 0.6735524696941584, 'min_split_gain': 0.042597027613837775, 'bagging_freq': 2}. Best is trial 3 with value: 0.9903411168857658.\n"
     ]
    },
    {
     "name": "stdout",
     "output_type": "stream",
     "text": [
      "Training until validation scores don't improve for 50 rounds\n"
     ]
    },
    {
     "name": "stderr",
     "output_type": "stream",
     "text": [
      "[I 2024-03-20 05:39:48,060] Trial 7 finished with value: 0.9810171275086252 and parameters: {'max_depth': 6, 'num_leaves': 27, 'learning_rate': 0.04913749150390846, 'feature_fraction': 0.40021336767654886, 'bagging_fraction': 0.6564335529439961, 'min_child_samples': 21, 'min_data_in_leaf': 3, 'lambda_l1': 0.08980124861250796, 'lambda_l2': 4.488754145041574e-08, 'min_split_gain': 0.000144199007313941, 'bagging_freq': 1}. Best is trial 3 with value: 0.9903411168857658.\n"
     ]
    },
    {
     "name": "stdout",
     "output_type": "stream",
     "text": [
      "Early stopping, best iteration is:\n",
      "[3]\tvalid_0's binary_logloss: 0.130125\n",
      "Training until validation scores don't improve for 50 rounds\n",
      "Early stopping, best iteration is:\n",
      "[47]\tvalid_0's binary_logloss: 0.133902\n"
     ]
    },
    {
     "name": "stderr",
     "output_type": "stream",
     "text": [
      "[I 2024-03-20 05:39:53,066] Trial 8 finished with value: 0.9779256399406923 and parameters: {'max_depth': 7, 'num_leaves': 24, 'learning_rate': 0.05809177648908203, 'feature_fraction': 0.12894162232909262, 'bagging_fraction': 0.6220024761847026, 'min_child_samples': 20, 'min_data_in_leaf': 1, 'lambda_l1': 2.8618994610240454, 'lambda_l2': 0.4045814364430871, 'min_split_gain': 0.00019188108509860828, 'bagging_freq': 1}. Best is trial 3 with value: 0.9903411168857658.\n"
     ]
    },
    {
     "name": "stdout",
     "output_type": "stream",
     "text": [
      "Training until validation scores don't improve for 50 rounds\n"
     ]
    },
    {
     "name": "stderr",
     "output_type": "stream",
     "text": [
      "[I 2024-03-20 05:39:57,027] Trial 9 finished with value: 0.9852584680994426 and parameters: {'max_depth': 6, 'num_leaves': 60, 'learning_rate': 0.01681814460485387, 'feature_fraction': 0.7582649423533457, 'bagging_fraction': 0.28610818111618724, 'min_child_samples': 9, 'min_data_in_leaf': 4, 'lambda_l1': 1.888152010675401e-07, 'lambda_l2': 0.20193940955265094, 'min_split_gain': 0.0001882516014355837, 'bagging_freq': 9}. Best is trial 3 with value: 0.9903411168857658.\n"
     ]
    },
    {
     "name": "stdout",
     "output_type": "stream",
     "text": [
      "Early stopping, best iteration is:\n",
      "[3]\tvalid_0's binary_logloss: 0.128925\n",
      "[LightGBM] [Warning] min_data_in_leaf is set=2, min_child_samples=24 will be ignored. Current value: min_data_in_leaf=2\n",
      "[LightGBM] [Warning] feature_fraction is set=0.9721743290383759, colsample_bytree=1.0 will be ignored. Current value: feature_fraction=0.9721743290383759\n",
      "[LightGBM] [Warning] lambda_l2 is set=0.2999416687833924, reg_lambda=0.0 will be ignored. Current value: lambda_l2=0.2999416687833924\n",
      "[LightGBM] [Warning] lambda_l1 is set=0.004503239597664615, reg_alpha=0.0 will be ignored. Current value: lambda_l1=0.004503239597664615\n",
      "[LightGBM] [Warning] bagging_fraction is set=0.7879314007335999, subsample=1.0 will be ignored. Current value: bagging_fraction=0.7879314007335999\n",
      "[LightGBM] [Warning] bagging_freq is set=6, subsample_freq=0 will be ignored. Current value: bagging_freq=6\n",
      "[LightGBM] [Warning] min_data_in_leaf is set=2, min_child_samples=24 will be ignored. Current value: min_data_in_leaf=2\n",
      "[LightGBM] [Warning] feature_fraction is set=0.9721743290383759, colsample_bytree=1.0 will be ignored. Current value: feature_fraction=0.9721743290383759\n",
      "[LightGBM] [Warning] lambda_l2 is set=0.2999416687833924, reg_lambda=0.0 will be ignored. Current value: lambda_l2=0.2999416687833924\n",
      "[LightGBM] [Warning] lambda_l1 is set=0.004503239597664615, reg_alpha=0.0 will be ignored. Current value: lambda_l1=0.004503239597664615\n",
      "[LightGBM] [Warning] bagging_fraction is set=0.7879314007335999, subsample=1.0 will be ignored. Current value: bagging_fraction=0.7879314007335999\n",
      "[LightGBM] [Warning] bagging_freq is set=6, subsample_freq=0 will be ignored. Current value: bagging_freq=6\n",
      "[LightGBM] [Info] Number of positive: 15976, number of negative: 4322072\n",
      "[LightGBM] [Info] Auto-choosing row-wise multi-threading, the overhead of testing was 0.070676 seconds.\n",
      "You can set `force_row_wise=true` to remove the overhead.\n",
      "And if memory is not enough, you can set `force_col_wise=true`.\n",
      "[LightGBM] [Info] Total Bins 1533\n",
      "[LightGBM] [Info] Number of data points in the train set: 4338048, number of used features: 17\n",
      "[LightGBM] [Warning] min_data_in_leaf is set=2, min_child_samples=24 will be ignored. Current value: min_data_in_leaf=2\n",
      "[LightGBM] [Warning] feature_fraction is set=0.9721743290383759, colsample_bytree=1.0 will be ignored. Current value: feature_fraction=0.9721743290383759\n",
      "[LightGBM] [Warning] lambda_l2 is set=0.2999416687833924, reg_lambda=0.0 will be ignored. Current value: lambda_l2=0.2999416687833924\n",
      "[LightGBM] [Warning] lambda_l1 is set=0.004503239597664615, reg_alpha=0.0 will be ignored. Current value: lambda_l1=0.004503239597664615\n",
      "[LightGBM] [Warning] bagging_fraction is set=0.7879314007335999, subsample=1.0 will be ignored. Current value: bagging_fraction=0.7879314007335999\n",
      "[LightGBM] [Warning] bagging_freq is set=6, subsample_freq=0 will be ignored. Current value: bagging_freq=6\n",
      "[LightGBM] [Info] [binary:BoostFromScore]: pavg=0.003683 -> initscore=-5.600403\n",
      "[LightGBM] [Info] Start training from score -5.600403\n",
      "[LightGBM] [Warning] No further splits with positive gain, best gain: -inf\n",
      "Training until validation scores don't improve for 50 rounds\n",
      "[LightGBM] [Warning] No further splits with positive gain, best gain: -inf\n",
      "[LightGBM] [Warning] No further splits with positive gain, best gain: -inf\n",
      "[LightGBM] [Warning] No further splits with positive gain, best gain: -inf\n",
      "[LightGBM] [Warning] No further splits with positive gain, best gain: -inf\n",
      "[LightGBM] [Warning] No further splits with positive gain, best gain: -inf\n",
      "[LightGBM] [Warning] No further splits with positive gain, best gain: -inf\n",
      "[LightGBM] [Warning] No further splits with positive gain, best gain: -inf\n",
      "[LightGBM] [Warning] No further splits with positive gain, best gain: -inf\n",
      "[LightGBM] [Warning] No further splits with positive gain, best gain: -inf\n",
      "[LightGBM] [Warning] No further splits with positive gain, best gain: -inf\n",
      "[LightGBM] [Warning] No further splits with positive gain, best gain: -inf\n",
      "[LightGBM] [Warning] No further splits with positive gain, best gain: -inf\n",
      "[LightGBM] [Warning] No further splits with positive gain, best gain: -inf\n",
      "[LightGBM] [Warning] No further splits with positive gain, best gain: -inf\n",
      "[LightGBM] [Warning] No further splits with positive gain, best gain: -inf\n",
      "[LightGBM] [Warning] No further splits with positive gain, best gain: -inf\n",
      "[LightGBM] [Warning] No further splits with positive gain, best gain: -inf\n",
      "[LightGBM] [Warning] No further splits with positive gain, best gain: -inf\n",
      "[LightGBM] [Warning] No further splits with positive gain, best gain: -inf\n",
      "[LightGBM] [Warning] No further splits with positive gain, best gain: -inf\n",
      "[LightGBM] [Warning] No further splits with positive gain, best gain: -inf\n",
      "[LightGBM] [Warning] No further splits with positive gain, best gain: -inf\n",
      "[LightGBM] [Warning] No further splits with positive gain, best gain: -inf\n",
      "[LightGBM] [Warning] No further splits with positive gain, best gain: -inf\n",
      "[LightGBM] [Warning] No further splits with positive gain, best gain: -inf\n",
      "[LightGBM] [Warning] No further splits with positive gain, best gain: -inf\n",
      "[LightGBM] [Warning] No further splits with positive gain, best gain: -inf\n",
      "[LightGBM] [Warning] No further splits with positive gain, best gain: -inf\n",
      "[LightGBM] [Warning] No further splits with positive gain, best gain: -inf\n",
      "[LightGBM] [Warning] No further splits with positive gain, best gain: -inf\n",
      "[LightGBM] [Warning] No further splits with positive gain, best gain: -inf\n",
      "[LightGBM] [Warning] No further splits with positive gain, best gain: -inf\n",
      "[LightGBM] [Warning] No further splits with positive gain, best gain: -inf\n",
      "[LightGBM] [Warning] No further splits with positive gain, best gain: -inf\n",
      "[LightGBM] [Warning] No further splits with positive gain, best gain: -inf\n",
      "[LightGBM] [Warning] No further splits with positive gain, best gain: -inf\n",
      "[LightGBM] [Warning] No further splits with positive gain, best gain: -inf\n",
      "[LightGBM] [Warning] No further splits with positive gain, best gain: -inf\n",
      "[LightGBM] [Warning] No further splits with positive gain, best gain: -inf\n",
      "[LightGBM] [Warning] No further splits with positive gain, best gain: -inf\n",
      "[LightGBM] [Warning] No further splits with positive gain, best gain: -inf\n",
      "[LightGBM] [Warning] No further splits with positive gain, best gain: -inf\n",
      "[LightGBM] [Warning] No further splits with positive gain, best gain: -inf\n",
      "[LightGBM] [Warning] No further splits with positive gain, best gain: -inf\n",
      "[LightGBM] [Warning] No further splits with positive gain, best gain: -inf\n",
      "[LightGBM] [Warning] No further splits with positive gain, best gain: -inf\n",
      "[LightGBM] [Warning] No further splits with positive gain, best gain: -inf\n",
      "[LightGBM] [Warning] No further splits with positive gain, best gain: -inf\n",
      "[LightGBM] [Warning] No further splits with positive gain, best gain: -inf\n",
      "[LightGBM] [Warning] No further splits with positive gain, best gain: -inf\n",
      "Early stopping, best iteration is:\n",
      "[1]\tvalid_0's binary_logloss: 0.00965335\n",
      "[LightGBM] [Warning] min_data_in_leaf is set=2, min_child_samples=24 will be ignored. Current value: min_data_in_leaf=2\n",
      "[LightGBM] [Warning] feature_fraction is set=0.9721743290383759, colsample_bytree=1.0 will be ignored. Current value: feature_fraction=0.9721743290383759\n",
      "[LightGBM] [Warning] lambda_l2 is set=0.2999416687833924, reg_lambda=0.0 will be ignored. Current value: lambda_l2=0.2999416687833924\n",
      "[LightGBM] [Warning] lambda_l1 is set=0.004503239597664615, reg_alpha=0.0 will be ignored. Current value: lambda_l1=0.004503239597664615\n",
      "[LightGBM] [Warning] bagging_fraction is set=0.7879314007335999, subsample=1.0 will be ignored. Current value: bagging_fraction=0.7879314007335999\n",
      "[LightGBM] [Warning] bagging_freq is set=6, subsample_freq=0 will be ignored. Current value: bagging_freq=6\n",
      " - fold1 - 0.9892\n"
     ]
    },
    {
     "name": "stderr",
     "output_type": "stream",
     "text": [
      "[I 2024-03-20 05:40:03,368] A new study created in memory with name: no-name-6d082048-961a-4a78-91ea-7c488a43b4b1\n"
     ]
    },
    {
     "name": "stdout",
     "output_type": "stream",
     "text": [
      "Training until validation scores don't improve for 50 rounds\n",
      "Early stopping, best iteration is:\n",
      "[1]\tvalid_0's binary_logloss: 0.128923\n"
     ]
    },
    {
     "name": "stderr",
     "output_type": "stream",
     "text": [
      "[I 2024-03-20 05:40:08,815] Trial 0 finished with value: 0.9852511090625745 and parameters: {'max_depth': 5, 'num_leaves': 77, 'learning_rate': 0.05878020958881207, 'feature_fraction': 0.8747843636303151, 'bagging_fraction': 0.9910105744084203, 'min_child_samples': 11, 'min_data_in_leaf': 4, 'lambda_l1': 2.5221306947340774e-07, 'lambda_l2': 0.6118936095801454, 'min_split_gain': 0.002489869807655913, 'bagging_freq': 9}. Best is trial 0 with value: 0.9852511090625745.\n"
     ]
    },
    {
     "name": "stdout",
     "output_type": "stream",
     "text": [
      "Training until validation scores don't improve for 50 rounds\n",
      "Early stopping, best iteration is:\n",
      "[26]\tvalid_0's binary_logloss: 0.133219\n"
     ]
    },
    {
     "name": "stderr",
     "output_type": "stream",
     "text": [
      "[I 2024-03-20 05:40:12,213] Trial 1 finished with value: 0.9772393321618044 and parameters: {'max_depth': 4, 'num_leaves': 56, 'learning_rate': 0.04043208250925138, 'feature_fraction': 0.2429826572537338, 'bagging_fraction': 0.1278056398782444, 'min_child_samples': 7, 'min_data_in_leaf': 1, 'lambda_l1': 0.8535210283492536, 'lambda_l2': 2.0965914697183553e-06, 'min_split_gain': 0.004571036114657694, 'bagging_freq': 6}. Best is trial 0 with value: 0.9852511090625745.\n"
     ]
    },
    {
     "name": "stdout",
     "output_type": "stream",
     "text": [
      "Training until validation scores don't improve for 50 rounds\n"
     ]
    },
    {
     "name": "stderr",
     "output_type": "stream",
     "text": [
      "[I 2024-03-20 05:40:16,152] Trial 2 finished with value: 0.9835324308677782 and parameters: {'max_depth': 5, 'num_leaves': 81, 'learning_rate': 0.03312828002245941, 'feature_fraction': 0.6369072860071773, 'bagging_fraction': 0.27145669713951, 'min_child_samples': 11, 'min_data_in_leaf': 2, 'lambda_l1': 0.03782922527358656, 'lambda_l2': 5.877535151705891e-05, 'min_split_gain': 0.0003852429338154961, 'bagging_freq': 4}. Best is trial 0 with value: 0.9852511090625745.\n"
     ]
    },
    {
     "name": "stdout",
     "output_type": "stream",
     "text": [
      "Early stopping, best iteration is:\n",
      "[2]\tvalid_0's binary_logloss: 0.128925\n",
      "Training until validation scores don't improve for 50 rounds\n",
      "Early stopping, best iteration is:\n",
      "[3]\tvalid_0's binary_logloss: 0.128923\n"
     ]
    },
    {
     "name": "stderr",
     "output_type": "stream",
     "text": [
      "[I 2024-03-20 05:40:20,078] Trial 3 finished with value: 0.9835292204176306 and parameters: {'max_depth': 6, 'num_leaves': 34, 'learning_rate': 0.029674589782641144, 'feature_fraction': 0.37557002654351024, 'bagging_fraction': 0.2836637080264471, 'min_child_samples': 2, 'min_data_in_leaf': 4, 'lambda_l1': 0.29594872500177677, 'lambda_l2': 0.00037906356689000153, 'min_split_gain': 0.0020490432234271734, 'bagging_freq': 1}. Best is trial 0 with value: 0.9852511090625745.\n"
     ]
    },
    {
     "name": "stdout",
     "output_type": "stream",
     "text": [
      "Training until validation scores don't improve for 50 rounds\n",
      "Early stopping, best iteration is:\n",
      "[47]\tvalid_0's binary_logloss: 0.133944\n"
     ]
    },
    {
     "name": "stderr",
     "output_type": "stream",
     "text": [
      "[I 2024-03-20 05:40:25,731] Trial 4 finished with value: 0.9789452062227038 and parameters: {'max_depth': 7, 'num_leaves': 92, 'learning_rate': 0.03959287073322788, 'feature_fraction': 0.14391024010403136, 'bagging_fraction': 0.6192964471458448, 'min_child_samples': 20, 'min_data_in_leaf': 3, 'lambda_l1': 1.311138708561964, 'lambda_l2': 1.922196575127191e-05, 'min_split_gain': 0.03924598309366541, 'bagging_freq': 6}. Best is trial 0 with value: 0.9852511090625745.\n"
     ]
    },
    {
     "name": "stdout",
     "output_type": "stream",
     "text": [
      "Training until validation scores don't improve for 50 rounds\n",
      "Early stopping, best iteration is:\n",
      "[26]\tvalid_0's binary_logloss: 0.133043\n"
     ]
    },
    {
     "name": "stderr",
     "output_type": "stream",
     "text": [
      "[I 2024-03-20 05:40:31,046] Trial 5 finished with value: 0.979890086323477 and parameters: {'max_depth': 8, 'num_leaves': 64, 'learning_rate': 0.09185351862416916, 'feature_fraction': 0.24272688114827803, 'bagging_fraction': 0.35736450291770017, 'min_child_samples': 19, 'min_data_in_leaf': 1, 'lambda_l1': 0.07389985663306384, 'lambda_l2': 0.013457978772995597, 'min_split_gain': 0.01754821187616311, 'bagging_freq': 9}. Best is trial 0 with value: 0.9852511090625745.\n"
     ]
    },
    {
     "name": "stdout",
     "output_type": "stream",
     "text": [
      "Training until validation scores don't improve for 50 rounds\n",
      "Early stopping, best iteration is:\n",
      "[26]\tvalid_0's binary_logloss: 0.133198\n"
     ]
    },
    {
     "name": "stderr",
     "output_type": "stream",
     "text": [
      "[I 2024-03-20 05:40:35,078] Trial 6 finished with value: 0.9767896304313525 and parameters: {'max_depth': 4, 'num_leaves': 96, 'learning_rate': 0.08565502170296614, 'feature_fraction': 0.22218957060368805, 'bagging_fraction': 0.5258593872956169, 'min_child_samples': 21, 'min_data_in_leaf': 2, 'lambda_l1': 7.441708478203351e-05, 'lambda_l2': 3.9761818344157747, 'min_split_gain': 0.006073861953868727, 'bagging_freq': 9}. Best is trial 0 with value: 0.9852511090625745.\n"
     ]
    },
    {
     "name": "stdout",
     "output_type": "stream",
     "text": [
      "Training until validation scores don't improve for 50 rounds\n",
      "Early stopping, best iteration is:\n",
      "[20]\tvalid_0's binary_logloss: 0.128849\n"
     ]
    },
    {
     "name": "stderr",
     "output_type": "stream",
     "text": [
      "[I 2024-03-20 05:40:40,944] Trial 7 finished with value: 0.9818155011701418 and parameters: {'max_depth': 4, 'num_leaves': 51, 'learning_rate': 0.018825777427194188, 'feature_fraction': 0.9779249808594653, 'bagging_fraction': 0.8869637515497494, 'min_child_samples': 6, 'min_data_in_leaf': 1, 'lambda_l1': 0.0007827687651488105, 'lambda_l2': 1.3925081344429534e-06, 'min_split_gain': 0.0011582902987542114, 'bagging_freq': 10}. Best is trial 0 with value: 0.9852511090625745.\n"
     ]
    },
    {
     "name": "stdout",
     "output_type": "stream",
     "text": [
      "Training until validation scores don't improve for 50 rounds\n"
     ]
    },
    {
     "name": "stderr",
     "output_type": "stream",
     "text": [
      "[I 2024-03-20 05:40:45,790] Trial 8 finished with value: 0.9852807658066776 and parameters: {'max_depth': 5, 'num_leaves': 30, 'learning_rate': 0.05417829813079787, 'feature_fraction': 0.6904564038291795, 'bagging_fraction': 0.631991721855314, 'min_child_samples': 23, 'min_data_in_leaf': 4, 'lambda_l1': 0.0031479968195406226, 'lambda_l2': 1.682632176291287e-06, 'min_split_gain': 0.08314442791123393, 'bagging_freq': 5}. Best is trial 8 with value: 0.9852807658066776.\n"
     ]
    },
    {
     "name": "stdout",
     "output_type": "stream",
     "text": [
      "Early stopping, best iteration is:\n",
      "[3]\tvalid_0's binary_logloss: 0.128815\n",
      "Training until validation scores don't improve for 50 rounds\n",
      "Early stopping, best iteration is:\n",
      "[3]\tvalid_0's binary_logloss: 0.130109\n"
     ]
    },
    {
     "name": "stderr",
     "output_type": "stream",
     "text": [
      "[I 2024-03-20 05:40:51,133] Trial 9 finished with value: 0.9774416610017288 and parameters: {'max_depth': 8, 'num_leaves': 21, 'learning_rate': 0.056818732931108826, 'feature_fraction': 0.6075936539855981, 'bagging_fraction': 0.9915664925770354, 'min_child_samples': 4, 'min_data_in_leaf': 1, 'lambda_l1': 0.4832915288359298, 'lambda_l2': 7.235695019581464e-08, 'min_split_gain': 0.011306289103237869, 'bagging_freq': 10}. Best is trial 8 with value: 0.9852807658066776.\n"
     ]
    },
    {
     "name": "stdout",
     "output_type": "stream",
     "text": [
      "[LightGBM] [Warning] min_data_in_leaf is set=4, min_child_samples=23 will be ignored. Current value: min_data_in_leaf=4\n",
      "[LightGBM] [Warning] feature_fraction is set=0.6904564038291795, colsample_bytree=1.0 will be ignored. Current value: feature_fraction=0.6904564038291795\n",
      "[LightGBM] [Warning] lambda_l2 is set=1.682632176291287e-06, reg_lambda=0.0 will be ignored. Current value: lambda_l2=1.682632176291287e-06\n",
      "[LightGBM] [Warning] lambda_l1 is set=0.0031479968195406226, reg_alpha=0.0 will be ignored. Current value: lambda_l1=0.0031479968195406226\n",
      "[LightGBM] [Warning] bagging_fraction is set=0.631991721855314, subsample=1.0 will be ignored. Current value: bagging_fraction=0.631991721855314\n",
      "[LightGBM] [Warning] bagging_freq is set=5, subsample_freq=0 will be ignored. Current value: bagging_freq=5\n",
      "[LightGBM] [Warning] min_data_in_leaf is set=4, min_child_samples=23 will be ignored. Current value: min_data_in_leaf=4\n",
      "[LightGBM] [Warning] feature_fraction is set=0.6904564038291795, colsample_bytree=1.0 will be ignored. Current value: feature_fraction=0.6904564038291795\n",
      "[LightGBM] [Warning] lambda_l2 is set=1.682632176291287e-06, reg_lambda=0.0 will be ignored. Current value: lambda_l2=1.682632176291287e-06\n",
      "[LightGBM] [Warning] lambda_l1 is set=0.0031479968195406226, reg_alpha=0.0 will be ignored. Current value: lambda_l1=0.0031479968195406226\n",
      "[LightGBM] [Warning] bagging_fraction is set=0.631991721855314, subsample=1.0 will be ignored. Current value: bagging_fraction=0.631991721855314\n",
      "[LightGBM] [Warning] bagging_freq is set=5, subsample_freq=0 will be ignored. Current value: bagging_freq=5\n",
      "[LightGBM] [Info] Number of positive: 16177, number of negative: 4328735\n",
      "[LightGBM] [Info] Auto-choosing row-wise multi-threading, the overhead of testing was 0.068657 seconds.\n",
      "You can set `force_row_wise=true` to remove the overhead.\n",
      "And if memory is not enough, you can set `force_col_wise=true`.\n",
      "[LightGBM] [Info] Total Bins 1531\n",
      "[LightGBM] [Info] Number of data points in the train set: 4344912, number of used features: 17\n",
      "[LightGBM] [Warning] min_data_in_leaf is set=4, min_child_samples=23 will be ignored. Current value: min_data_in_leaf=4\n",
      "[LightGBM] [Warning] feature_fraction is set=0.6904564038291795, colsample_bytree=1.0 will be ignored. Current value: feature_fraction=0.6904564038291795\n",
      "[LightGBM] [Warning] lambda_l2 is set=1.682632176291287e-06, reg_lambda=0.0 will be ignored. Current value: lambda_l2=1.682632176291287e-06\n",
      "[LightGBM] [Warning] lambda_l1 is set=0.0031479968195406226, reg_alpha=0.0 will be ignored. Current value: lambda_l1=0.0031479968195406226\n",
      "[LightGBM] [Warning] bagging_fraction is set=0.631991721855314, subsample=1.0 will be ignored. Current value: bagging_fraction=0.631991721855314\n",
      "[LightGBM] [Warning] bagging_freq is set=5, subsample_freq=0 will be ignored. Current value: bagging_freq=5\n",
      "[LightGBM] [Info] [binary:BoostFromScore]: pavg=0.003723 -> initscore=-5.589440\n",
      "[LightGBM] [Info] Start training from score -5.589440\n",
      "Training until validation scores don't improve for 50 rounds\n",
      "[LightGBM] [Warning] No further splits with positive gain, best gain: -inf\n",
      "[LightGBM] [Warning] No further splits with positive gain, best gain: -inf\n",
      "[LightGBM] [Warning] No further splits with positive gain, best gain: -inf\n",
      "[LightGBM] [Warning] No further splits with positive gain, best gain: -inf\n",
      "[LightGBM] [Warning] No further splits with positive gain, best gain: -inf\n",
      "[100]\tvalid_0's binary_logloss: 0.0034184\n",
      "Did not meet early stopping. Best iteration is:\n",
      "[100]\tvalid_0's binary_logloss: 0.0034184\n",
      "[LightGBM] [Warning] min_data_in_leaf is set=4, min_child_samples=23 will be ignored. Current value: min_data_in_leaf=4\n",
      "[LightGBM] [Warning] feature_fraction is set=0.6904564038291795, colsample_bytree=1.0 will be ignored. Current value: feature_fraction=0.6904564038291795\n",
      "[LightGBM] [Warning] lambda_l2 is set=1.682632176291287e-06, reg_lambda=0.0 will be ignored. Current value: lambda_l2=1.682632176291287e-06\n",
      "[LightGBM] [Warning] lambda_l1 is set=0.0031479968195406226, reg_alpha=0.0 will be ignored. Current value: lambda_l1=0.0031479968195406226\n",
      "[LightGBM] [Warning] bagging_fraction is set=0.631991721855314, subsample=1.0 will be ignored. Current value: bagging_fraction=0.631991721855314\n",
      "[LightGBM] [Warning] bagging_freq is set=5, subsample_freq=0 will be ignored. Current value: bagging_freq=5\n",
      " - fold2 - 0.9970\n"
     ]
    },
    {
     "name": "stderr",
     "output_type": "stream",
     "text": [
      "[I 2024-03-20 05:41:01,545] A new study created in memory with name: no-name-9347366f-dbd1-4067-9fcb-218229c3b393\n"
     ]
    },
    {
     "name": "stdout",
     "output_type": "stream",
     "text": [
      "Training until validation scores don't improve for 50 rounds\n"
     ]
    },
    {
     "name": "stderr",
     "output_type": "stream",
     "text": [
      "[I 2024-03-20 05:41:06,103] Trial 0 finished with value: 0.9854218326843767 and parameters: {'max_depth': 7, 'num_leaves': 86, 'learning_rate': 0.0817346637066886, 'feature_fraction': 0.8535673566209931, 'bagging_fraction': 0.30721471066048195, 'min_child_samples': 21, 'min_data_in_leaf': 1, 'lambda_l1': 7.719490447860812e-07, 'lambda_l2': 4.5920502699539315e-07, 'min_split_gain': 0.01480811940202855, 'bagging_freq': 1}. Best is trial 0 with value: 0.9854218326843767.\n"
     ]
    },
    {
     "name": "stdout",
     "output_type": "stream",
     "text": [
      "Early stopping, best iteration is:\n",
      "[3]\tvalid_0's binary_logloss: 0.128625\n",
      "Training until validation scores don't improve for 50 rounds\n"
     ]
    },
    {
     "name": "stderr",
     "output_type": "stream",
     "text": [
      "[I 2024-03-20 05:41:10,258] Trial 1 finished with value: 0.969311508460736 and parameters: {'max_depth': 5, 'num_leaves': 8, 'learning_rate': 0.08227353980640674, 'feature_fraction': 0.773819603853611, 'bagging_fraction': 0.5737738699052018, 'min_child_samples': 25, 'min_data_in_leaf': 1, 'lambda_l1': 3.112281412762012e-07, 'lambda_l2': 1.575712564060986, 'min_split_gain': 0.0004145279146212854, 'bagging_freq': 2}. Best is trial 0 with value: 0.9854218326843767.\n"
     ]
    },
    {
     "name": "stdout",
     "output_type": "stream",
     "text": [
      "Early stopping, best iteration is:\n",
      "[3]\tvalid_0's binary_logloss: 0.128853\n",
      "Training until validation scores don't improve for 50 rounds\n",
      "Early stopping, best iteration is:\n",
      "[35]\tvalid_0's binary_logloss: 0.133356\n"
     ]
    },
    {
     "name": "stderr",
     "output_type": "stream",
     "text": [
      "[I 2024-03-20 05:41:15,646] Trial 2 finished with value: 0.9771165844720635 and parameters: {'max_depth': 7, 'num_leaves': 94, 'learning_rate': 0.06291683577507445, 'feature_fraction': 0.18699655597370227, 'bagging_fraction': 0.8237656511968903, 'min_child_samples': 12, 'min_data_in_leaf': 3, 'lambda_l1': 0.004837607576131123, 'lambda_l2': 2.527034816330811, 'min_split_gain': 0.022761358400149458, 'bagging_freq': 10}. Best is trial 0 with value: 0.9854218326843767.\n"
     ]
    },
    {
     "name": "stdout",
     "output_type": "stream",
     "text": [
      "Training until validation scores don't improve for 50 rounds\n"
     ]
    },
    {
     "name": "stderr",
     "output_type": "stream",
     "text": [
      "[I 2024-03-20 05:41:18,986] Trial 3 finished with value: 0.9844313831912851 and parameters: {'max_depth': 5, 'num_leaves': 17, 'learning_rate': 0.05213963301564274, 'feature_fraction': 0.7122879361164854, 'bagging_fraction': 0.2757363800563751, 'min_child_samples': 12, 'min_data_in_leaf': 3, 'lambda_l1': 6.776498944626922e-05, 'lambda_l2': 0.42703073059053415, 'min_split_gain': 0.009563290340714585, 'bagging_freq': 8}. Best is trial 0 with value: 0.9854218326843767.\n"
     ]
    },
    {
     "name": "stdout",
     "output_type": "stream",
     "text": [
      "Early stopping, best iteration is:\n",
      "[3]\tvalid_0's binary_logloss: 0.128831\n",
      "Training until validation scores don't improve for 50 rounds\n"
     ]
    },
    {
     "name": "stderr",
     "output_type": "stream",
     "text": [
      "[I 2024-03-20 05:41:23,025] Trial 4 finished with value: 0.9840208140374054 and parameters: {'max_depth': 4, 'num_leaves': 93, 'learning_rate': 0.01398013660653421, 'feature_fraction': 0.7754531172007164, 'bagging_fraction': 0.8555568910218883, 'min_child_samples': 10, 'min_data_in_leaf': 4, 'lambda_l1': 6.332590666509822e-05, 'lambda_l2': 2.538968738855862e-08, 'min_split_gain': 0.0012802994549751098, 'bagging_freq': 1}. Best is trial 0 with value: 0.9854218326843767.\n"
     ]
    },
    {
     "name": "stdout",
     "output_type": "stream",
     "text": [
      "Early stopping, best iteration is:\n",
      "[2]\tvalid_0's binary_logloss: 0.128744\n",
      "Training until validation scores don't improve for 50 rounds\n"
     ]
    },
    {
     "name": "stderr",
     "output_type": "stream",
     "text": [
      "[I 2024-03-20 05:41:26,932] Trial 5 finished with value: 0.9760027849664724 and parameters: {'max_depth': 4, 'num_leaves': 76, 'learning_rate': 0.0826774512740098, 'feature_fraction': 0.4040353675919893, 'bagging_fraction': 0.42758537689317605, 'min_child_samples': 21, 'min_data_in_leaf': 4, 'lambda_l1': 0.006502225474174752, 'lambda_l2': 4.864176249427763, 'min_split_gain': 0.00031758739393781513, 'bagging_freq': 1}. Best is trial 0 with value: 0.9854218326843767.\n"
     ]
    },
    {
     "name": "stdout",
     "output_type": "stream",
     "text": [
      "Early stopping, best iteration is:\n",
      "[3]\tvalid_0's binary_logloss: 0.130154\n",
      "Training until validation scores don't improve for 50 rounds\n"
     ]
    },
    {
     "name": "stderr",
     "output_type": "stream",
     "text": [
      "[I 2024-03-20 05:41:31,029] Trial 6 finished with value: 0.9771573997759228 and parameters: {'max_depth': 8, 'num_leaves': 27, 'learning_rate': 0.0174541831739854, 'feature_fraction': 0.8313669689030461, 'bagging_fraction': 0.4236189777305203, 'min_child_samples': 15, 'min_data_in_leaf': 1, 'lambda_l1': 0.0023297999164704724, 'lambda_l2': 2.871333806734671, 'min_split_gain': 0.0003395140624926228, 'bagging_freq': 2}. Best is trial 0 with value: 0.9854218326843767.\n"
     ]
    },
    {
     "name": "stdout",
     "output_type": "stream",
     "text": [
      "Early stopping, best iteration is:\n",
      "[3]\tvalid_0's binary_logloss: 0.128802\n",
      "Training until validation scores don't improve for 50 rounds\n"
     ]
    },
    {
     "name": "stderr",
     "output_type": "stream",
     "text": [
      "[I 2024-03-20 05:41:34,346] Trial 7 finished with value: 0.9704631951019685 and parameters: {'max_depth': 8, 'num_leaves': 77, 'learning_rate': 0.012202899312167812, 'feature_fraction': 0.8641802307276373, 'bagging_fraction': 0.11338271694892738, 'min_child_samples': 20, 'min_data_in_leaf': 3, 'lambda_l1': 0.004460848632695317, 'lambda_l2': 3.5484815941576544, 'min_split_gain': 0.01419628914386047, 'bagging_freq': 1}. Best is trial 0 with value: 0.9854218326843767.\n"
     ]
    },
    {
     "name": "stdout",
     "output_type": "stream",
     "text": [
      "Early stopping, best iteration is:\n",
      "[3]\tvalid_0's binary_logloss: 0.128887\n",
      "Training until validation scores don't improve for 50 rounds\n"
     ]
    },
    {
     "name": "stderr",
     "output_type": "stream",
     "text": [
      "[I 2024-03-20 05:41:38,386] Trial 8 finished with value: 0.9840555255842967 and parameters: {'max_depth': 4, 'num_leaves': 43, 'learning_rate': 0.04178244374236702, 'feature_fraction': 0.8263495780895942, 'bagging_fraction': 0.49762969163672793, 'min_child_samples': 3, 'min_data_in_leaf': 2, 'lambda_l1': 0.00954367491988547, 'lambda_l2': 0.008658360344409186, 'min_split_gain': 0.012862204289113178, 'bagging_freq': 7}. Best is trial 0 with value: 0.9854218326843767.\n"
     ]
    },
    {
     "name": "stdout",
     "output_type": "stream",
     "text": [
      "Early stopping, best iteration is:\n",
      "[1]\tvalid_0's binary_logloss: 0.128749\n",
      "Training until validation scores don't improve for 50 rounds\n"
     ]
    },
    {
     "name": "stderr",
     "output_type": "stream",
     "text": [
      "[I 2024-03-20 05:41:42,419] Trial 9 finished with value: 0.976015435924938 and parameters: {'max_depth': 8, 'num_leaves': 44, 'learning_rate': 0.022634513996213367, 'feature_fraction': 0.6261051642975975, 'bagging_fraction': 0.5456289789845342, 'min_child_samples': 3, 'min_data_in_leaf': 1, 'lambda_l1': 2.6668903612563137, 'lambda_l2': 0.014031891929626276, 'min_split_gain': 0.04890857662364207, 'bagging_freq': 10}. Best is trial 0 with value: 0.9854218326843767.\n"
     ]
    },
    {
     "name": "stdout",
     "output_type": "stream",
     "text": [
      "Early stopping, best iteration is:\n",
      "[2]\tvalid_0's binary_logloss: 0.128757\n",
      "[LightGBM] [Warning] min_data_in_leaf is set=1, min_child_samples=21 will be ignored. Current value: min_data_in_leaf=1\n",
      "[LightGBM] [Warning] feature_fraction is set=0.8535673566209931, colsample_bytree=1.0 will be ignored. Current value: feature_fraction=0.8535673566209931\n",
      "[LightGBM] [Warning] lambda_l2 is set=4.5920502699539315e-07, reg_lambda=0.0 will be ignored. Current value: lambda_l2=4.5920502699539315e-07\n",
      "[LightGBM] [Warning] lambda_l1 is set=7.719490447860812e-07, reg_alpha=0.0 will be ignored. Current value: lambda_l1=7.719490447860812e-07\n",
      "[LightGBM] [Warning] bagging_fraction is set=0.30721471066048195, subsample=1.0 will be ignored. Current value: bagging_fraction=0.30721471066048195\n",
      "[LightGBM] [Warning] bagging_freq is set=1, subsample_freq=0 will be ignored. Current value: bagging_freq=1\n",
      "[LightGBM] [Warning] min_data_in_leaf is set=1, min_child_samples=21 will be ignored. Current value: min_data_in_leaf=1\n",
      "[LightGBM] [Warning] feature_fraction is set=0.8535673566209931, colsample_bytree=1.0 will be ignored. Current value: feature_fraction=0.8535673566209931\n",
      "[LightGBM] [Warning] lambda_l2 is set=4.5920502699539315e-07, reg_lambda=0.0 will be ignored. Current value: lambda_l2=4.5920502699539315e-07\n",
      "[LightGBM] [Warning] lambda_l1 is set=7.719490447860812e-07, reg_alpha=0.0 will be ignored. Current value: lambda_l1=7.719490447860812e-07\n",
      "[LightGBM] [Warning] bagging_fraction is set=0.30721471066048195, subsample=1.0 will be ignored. Current value: bagging_fraction=0.30721471066048195\n",
      "[LightGBM] [Warning] bagging_freq is set=1, subsample_freq=0 will be ignored. Current value: bagging_freq=1\n",
      "[LightGBM] [Info] Number of positive: 16311, number of negative: 4328601\n",
      "[LightGBM] [Info] Auto-choosing row-wise multi-threading, the overhead of testing was 0.067743 seconds.\n",
      "You can set `force_row_wise=true` to remove the overhead.\n",
      "And if memory is not enough, you can set `force_col_wise=true`.\n",
      "[LightGBM] [Info] Total Bins 1532\n",
      "[LightGBM] [Info] Number of data points in the train set: 4344912, number of used features: 17\n",
      "[LightGBM] [Warning] min_data_in_leaf is set=1, min_child_samples=21 will be ignored. Current value: min_data_in_leaf=1\n",
      "[LightGBM] [Warning] feature_fraction is set=0.8535673566209931, colsample_bytree=1.0 will be ignored. Current value: feature_fraction=0.8535673566209931\n",
      "[LightGBM] [Warning] lambda_l2 is set=4.5920502699539315e-07, reg_lambda=0.0 will be ignored. Current value: lambda_l2=4.5920502699539315e-07\n",
      "[LightGBM] [Warning] lambda_l1 is set=7.719490447860812e-07, reg_alpha=0.0 will be ignored. Current value: lambda_l1=7.719490447860812e-07\n",
      "[LightGBM] [Warning] bagging_fraction is set=0.30721471066048195, subsample=1.0 will be ignored. Current value: bagging_fraction=0.30721471066048195\n",
      "[LightGBM] [Warning] bagging_freq is set=1, subsample_freq=0 will be ignored. Current value: bagging_freq=1\n",
      "[LightGBM] [Info] [binary:BoostFromScore]: pavg=0.003754 -> initscore=-5.581160\n",
      "[LightGBM] [Info] Start training from score -5.581160\n",
      "Training until validation scores don't improve for 50 rounds\n",
      "[LightGBM] [Warning] No further splits with positive gain, best gain: -inf\n",
      "[LightGBM] [Warning] No further splits with positive gain, best gain: -inf\n",
      "[LightGBM] [Warning] No further splits with positive gain, best gain: -inf\n",
      "[LightGBM] [Warning] No further splits with positive gain, best gain: -inf\n",
      "[LightGBM] [Warning] No further splits with positive gain, best gain: -inf\n",
      "[LightGBM] [Warning] No further splits with positive gain, best gain: -inf\n",
      "[LightGBM] [Warning] No further splits with positive gain, best gain: -inf\n",
      "[LightGBM] [Warning] No further splits with positive gain, best gain: -inf\n",
      "[LightGBM] [Warning] No further splits with positive gain, best gain: -inf\n",
      "[LightGBM] [Warning] No further splits with positive gain, best gain: -inf\n",
      "[LightGBM] [Warning] No further splits with positive gain, best gain: -inf\n",
      "[LightGBM] [Warning] No further splits with positive gain, best gain: -inf\n",
      "[LightGBM] [Warning] No further splits with positive gain, best gain: -inf\n",
      "[LightGBM] [Warning] No further splits with positive gain, best gain: -inf\n",
      "[LightGBM] [Warning] No further splits with positive gain, best gain: -inf\n",
      "[LightGBM] [Warning] No further splits with positive gain, best gain: -inf\n",
      "[LightGBM] [Warning] No further splits with positive gain, best gain: -inf\n",
      "[LightGBM] [Warning] No further splits with positive gain, best gain: -inf\n",
      "[LightGBM] [Warning] No further splits with positive gain, best gain: -inf\n",
      "[LightGBM] [Warning] No further splits with positive gain, best gain: -inf\n",
      "[LightGBM] [Warning] No further splits with positive gain, best gain: -inf\n",
      "[LightGBM] [Warning] No further splits with positive gain, best gain: -inf\n",
      "[LightGBM] [Warning] No further splits with positive gain, best gain: -inf\n",
      "[LightGBM] [Warning] No further splits with positive gain, best gain: -inf\n",
      "[LightGBM] [Warning] No further splits with positive gain, best gain: -inf\n",
      "[LightGBM] [Warning] No further splits with positive gain, best gain: -inf\n",
      "[LightGBM] [Warning] No further splits with positive gain, best gain: -inf\n",
      "[LightGBM] [Warning] No further splits with positive gain, best gain: -inf\n",
      "[LightGBM] [Warning] No further splits with positive gain, best gain: -inf\n",
      "[LightGBM] [Warning] No further splits with positive gain, best gain: -inf\n",
      "[LightGBM] [Warning] No further splits with positive gain, best gain: -inf\n",
      "[LightGBM] [Warning] No further splits with positive gain, best gain: -inf\n",
      "[LightGBM] [Warning] No further splits with positive gain, best gain: -inf\n",
      "[LightGBM] [Warning] No further splits with positive gain, best gain: -inf\n",
      "[LightGBM] [Warning] No further splits with positive gain, best gain: -inf\n",
      "[LightGBM] [Warning] No further splits with positive gain, best gain: -inf\n",
      "[LightGBM] [Warning] No further splits with positive gain, best gain: -inf\n",
      "[LightGBM] [Warning] No further splits with positive gain, best gain: -inf\n",
      "[LightGBM] [Warning] No further splits with positive gain, best gain: -inf\n",
      "[LightGBM] [Warning] No further splits with positive gain, best gain: -inf\n",
      "[LightGBM] [Warning] No further splits with positive gain, best gain: -inf\n",
      "[LightGBM] [Warning] No further splits with positive gain, best gain: -inf\n",
      "[LightGBM] [Warning] No further splits with positive gain, best gain: -inf\n",
      "[LightGBM] [Warning] No further splits with positive gain, best gain: -inf\n",
      "[LightGBM] [Warning] No further splits with positive gain, best gain: -inf\n",
      "[LightGBM] [Warning] No further splits with positive gain, best gain: -inf\n",
      "[LightGBM] [Warning] No further splits with positive gain, best gain: -inf\n",
      "[LightGBM] [Warning] No further splits with positive gain, best gain: -inf\n",
      "Early stopping, best iteration is:\n",
      "[1]\tvalid_0's binary_logloss: 0.0108482\n",
      "[LightGBM] [Warning] min_data_in_leaf is set=1, min_child_samples=21 will be ignored. Current value: min_data_in_leaf=1\n",
      "[LightGBM] [Warning] feature_fraction is set=0.8535673566209931, colsample_bytree=1.0 will be ignored. Current value: feature_fraction=0.8535673566209931\n",
      "[LightGBM] [Warning] lambda_l2 is set=4.5920502699539315e-07, reg_lambda=0.0 will be ignored. Current value: lambda_l2=4.5920502699539315e-07\n",
      "[LightGBM] [Warning] lambda_l1 is set=7.719490447860812e-07, reg_alpha=0.0 will be ignored. Current value: lambda_l1=7.719490447860812e-07\n",
      "[LightGBM] [Warning] bagging_fraction is set=0.30721471066048195, subsample=1.0 will be ignored. Current value: bagging_fraction=0.30721471066048195\n",
      "[LightGBM] [Warning] bagging_freq is set=1, subsample_freq=0 will be ignored. Current value: bagging_freq=1\n",
      " - fold3 - 0.9835\n"
     ]
    },
    {
     "name": "stderr",
     "output_type": "stream",
     "text": [
      "[I 2024-03-20 05:41:48,388] A new study created in memory with name: no-name-540f3cee-37a2-4a8a-ab60-35351b0d13a5\n"
     ]
    },
    {
     "name": "stdout",
     "output_type": "stream",
     "text": [
      "Training until validation scores don't improve for 50 rounds\n",
      "Early stopping, best iteration is:\n",
      "[35]\tvalid_0's binary_logloss: 0.13381\n"
     ]
    },
    {
     "name": "stderr",
     "output_type": "stream",
     "text": [
      "[I 2024-03-20 05:41:53,259] Trial 0 finished with value: 0.967394144108714 and parameters: {'max_depth': 5, 'num_leaves': 4, 'learning_rate': 0.0517850894805237, 'feature_fraction': 0.19753424685924822, 'bagging_fraction': 0.9735055411407932, 'min_child_samples': 10, 'min_data_in_leaf': 2, 'lambda_l1': 0.4762277196807044, 'lambda_l2': 2.7410187153672396, 'min_split_gain': 0.08114010355039201, 'bagging_freq': 9}. Best is trial 0 with value: 0.967394144108714.\n"
     ]
    },
    {
     "name": "stdout",
     "output_type": "stream",
     "text": [
      "Training until validation scores don't improve for 50 rounds\n"
     ]
    },
    {
     "name": "stderr",
     "output_type": "stream",
     "text": [
      "[I 2024-03-20 05:41:57,944] Trial 1 finished with value: 0.9741669209148462 and parameters: {'max_depth': 8, 'num_leaves': 43, 'learning_rate': 0.020585079413942938, 'feature_fraction': 0.49591454838142185, 'bagging_fraction': 0.6743624278332951, 'min_child_samples': 8, 'min_data_in_leaf': 3, 'lambda_l1': 6.370612468136081e-06, 'lambda_l2': 0.019553942328708895, 'min_split_gain': 0.0009780195695377834, 'bagging_freq': 9}. Best is trial 1 with value: 0.9741669209148462.\n"
     ]
    },
    {
     "name": "stdout",
     "output_type": "stream",
     "text": [
      "Early stopping, best iteration is:\n",
      "[3]\tvalid_0's binary_logloss: 0.130118\n",
      "Training until validation scores don't improve for 50 rounds\n",
      "Early stopping, best iteration is:\n",
      "[47]\tvalid_0's binary_logloss: 0.134093\n"
     ]
    },
    {
     "name": "stderr",
     "output_type": "stream",
     "text": [
      "[I 2024-03-20 05:42:02,895] Trial 2 finished with value: 0.9783409363339441 and parameters: {'max_depth': 5, 'num_leaves': 16, 'learning_rate': 0.04048238454050914, 'feature_fraction': 0.13905529009320242, 'bagging_fraction': 0.14860192902041106, 'min_child_samples': 15, 'min_data_in_leaf': 4, 'lambda_l1': 3.837156816913534e-08, 'lambda_l2': 4.7640487468544064e-05, 'min_split_gain': 0.0001822508440588827, 'bagging_freq': 4}. Best is trial 2 with value: 0.9783409363339441.\n"
     ]
    },
    {
     "name": "stdout",
     "output_type": "stream",
     "text": [
      "Training until validation scores don't improve for 50 rounds\n",
      "[100]\tvalid_0's binary_logloss: 0.128797\n",
      "Early stopping, best iteration is:\n",
      "[50]\tvalid_0's binary_logloss: 0.128792\n"
     ]
    },
    {
     "name": "stderr",
     "output_type": "stream",
     "text": [
      "[I 2024-03-20 05:42:11,484] Trial 3 finished with value: 0.9861035218761939 and parameters: {'max_depth': 7, 'num_leaves': 89, 'learning_rate': 0.034413597976852006, 'feature_fraction': 0.9807319699658906, 'bagging_fraction': 0.774737849523241, 'min_child_samples': 7, 'min_data_in_leaf': 3, 'lambda_l1': 1.6263125723424326e-08, 'lambda_l2': 6.402644331767288e-05, 'min_split_gain': 0.0002991343555479293, 'bagging_freq': 5}. Best is trial 3 with value: 0.9861035218761939.\n"
     ]
    },
    {
     "name": "stdout",
     "output_type": "stream",
     "text": [
      "Training until validation scores don't improve for 50 rounds\n",
      "Early stopping, best iteration is:\n",
      "[3]\tvalid_0's binary_logloss: 0.130099\n"
     ]
    },
    {
     "name": "stderr",
     "output_type": "stream",
     "text": [
      "[I 2024-03-20 05:42:16,975] Trial 4 finished with value: 0.9807797602236187 and parameters: {'max_depth': 7, 'num_leaves': 64, 'learning_rate': 0.004935814436507654, 'feature_fraction': 0.4817646319810334, 'bagging_fraction': 0.6635981349091956, 'min_child_samples': 23, 'min_data_in_leaf': 4, 'lambda_l1': 2.995389601750742e-06, 'lambda_l2': 0.03232153591628277, 'min_split_gain': 0.0010690781928359102, 'bagging_freq': 2}. Best is trial 3 with value: 0.9861035218761939.\n"
     ]
    },
    {
     "name": "stdout",
     "output_type": "stream",
     "text": [
      "Training until validation scores don't improve for 50 rounds\n",
      "Early stopping, best iteration is:\n",
      "[3]\tvalid_0's binary_logloss: 0.129063\n"
     ]
    },
    {
     "name": "stderr",
     "output_type": "stream",
     "text": [
      "[I 2024-03-20 05:42:21,122] Trial 5 finished with value: 0.9639395155363163 and parameters: {'max_depth': 6, 'num_leaves': 8, 'learning_rate': 0.07380694444551229, 'feature_fraction': 0.7559906310439949, 'bagging_fraction': 0.6987049312253792, 'min_child_samples': 24, 'min_data_in_leaf': 1, 'lambda_l1': 1.0315958314282467, 'lambda_l2': 4.155712604648093e-05, 'min_split_gain': 0.018205332360120677, 'bagging_freq': 2}. Best is trial 3 with value: 0.9861035218761939.\n"
     ]
    },
    {
     "name": "stdout",
     "output_type": "stream",
     "text": [
      "Training until validation scores don't improve for 50 rounds\n"
     ]
    },
    {
     "name": "stderr",
     "output_type": "stream",
     "text": [
      "[I 2024-03-20 05:42:24,723] Trial 6 finished with value: 0.9675907024325602 and parameters: {'max_depth': 6, 'num_leaves': 4, 'learning_rate': 0.07141403178190746, 'feature_fraction': 0.9532095812680926, 'bagging_fraction': 0.5118659055468018, 'min_child_samples': 9, 'min_data_in_leaf': 1, 'lambda_l1': 2.1273077135839604, 'lambda_l2': 0.0029402464365493913, 'min_split_gain': 0.0006966015146465477, 'bagging_freq': 8}. Best is trial 3 with value: 0.9861035218761939.\n"
     ]
    },
    {
     "name": "stdout",
     "output_type": "stream",
     "text": [
      "Early stopping, best iteration is:\n",
      "[11]\tvalid_0's binary_logloss: 0.129207\n",
      "Training until validation scores don't improve for 50 rounds\n"
     ]
    },
    {
     "name": "stderr",
     "output_type": "stream",
     "text": [
      "[I 2024-03-20 05:42:29,307] Trial 7 finished with value: 0.9742927738055881 and parameters: {'max_depth': 7, 'num_leaves': 27, 'learning_rate': 0.09101174890244437, 'feature_fraction': 0.3720372074974685, 'bagging_fraction': 0.8849843082908866, 'min_child_samples': 17, 'min_data_in_leaf': 3, 'lambda_l1': 0.003010932680333237, 'lambda_l2': 9.894644323336319e-06, 'min_split_gain': 0.0003280198531086194, 'bagging_freq': 8}. Best is trial 3 with value: 0.9861035218761939.\n"
     ]
    },
    {
     "name": "stdout",
     "output_type": "stream",
     "text": [
      "Early stopping, best iteration is:\n",
      "[2]\tvalid_0's binary_logloss: 0.128905\n",
      "Training until validation scores don't improve for 50 rounds\n",
      "Early stopping, best iteration is:\n",
      "[3]\tvalid_0's binary_logloss: 0.130298\n"
     ]
    },
    {
     "name": "stderr",
     "output_type": "stream",
     "text": [
      "[I 2024-03-20 05:42:34,440] Trial 8 finished with value: 0.9793423162173157 and parameters: {'max_depth': 4, 'num_leaves': 63, 'learning_rate': 0.060936219674752774, 'feature_fraction': 0.569033663894265, 'bagging_fraction': 0.703694189090676, 'min_child_samples': 23, 'min_data_in_leaf': 1, 'lambda_l1': 0.2427183146112743, 'lambda_l2': 0.000210592290306184, 'min_split_gain': 0.06939371814735258, 'bagging_freq': 2}. Best is trial 3 with value: 0.9861035218761939.\n"
     ]
    },
    {
     "name": "stdout",
     "output_type": "stream",
     "text": [
      "Training until validation scores don't improve for 50 rounds\n",
      "Early stopping, best iteration is:\n",
      "[35]\tvalid_0's binary_logloss: 0.133712\n"
     ]
    },
    {
     "name": "stderr",
     "output_type": "stream",
     "text": [
      "[I 2024-03-20 05:42:38,813] Trial 9 finished with value: 0.9814432945178775 and parameters: {'max_depth': 5, 'num_leaves': 71, 'learning_rate': 0.020136356104536988, 'feature_fraction': 0.15664572232754478, 'bagging_fraction': 0.10601639788379856, 'min_child_samples': 5, 'min_data_in_leaf': 1, 'lambda_l1': 0.012330895166422984, 'lambda_l2': 0.2107982534828656, 'min_split_gain': 0.0008375883043988781, 'bagging_freq': 1}. Best is trial 3 with value: 0.9861035218761939.\n"
     ]
    },
    {
     "name": "stdout",
     "output_type": "stream",
     "text": [
      "[LightGBM] [Warning] min_data_in_leaf is set=3, min_child_samples=7 will be ignored. Current value: min_data_in_leaf=3\n",
      "[LightGBM] [Warning] feature_fraction is set=0.9807319699658906, colsample_bytree=1.0 will be ignored. Current value: feature_fraction=0.9807319699658906\n",
      "[LightGBM] [Warning] lambda_l2 is set=6.402644331767288e-05, reg_lambda=0.0 will be ignored. Current value: lambda_l2=6.402644331767288e-05\n",
      "[LightGBM] [Warning] lambda_l1 is set=1.6263125723424326e-08, reg_alpha=0.0 will be ignored. Current value: lambda_l1=1.6263125723424326e-08\n",
      "[LightGBM] [Warning] bagging_fraction is set=0.774737849523241, subsample=1.0 will be ignored. Current value: bagging_fraction=0.774737849523241\n",
      "[LightGBM] [Warning] bagging_freq is set=5, subsample_freq=0 will be ignored. Current value: bagging_freq=5\n",
      "[LightGBM] [Warning] min_data_in_leaf is set=3, min_child_samples=7 will be ignored. Current value: min_data_in_leaf=3\n",
      "[LightGBM] [Warning] feature_fraction is set=0.9807319699658906, colsample_bytree=1.0 will be ignored. Current value: feature_fraction=0.9807319699658906\n",
      "[LightGBM] [Warning] lambda_l2 is set=6.402644331767288e-05, reg_lambda=0.0 will be ignored. Current value: lambda_l2=6.402644331767288e-05\n",
      "[LightGBM] [Warning] lambda_l1 is set=1.6263125723424326e-08, reg_alpha=0.0 will be ignored. Current value: lambda_l1=1.6263125723424326e-08\n",
      "[LightGBM] [Warning] bagging_fraction is set=0.774737849523241, subsample=1.0 will be ignored. Current value: bagging_fraction=0.774737849523241\n",
      "[LightGBM] [Warning] bagging_freq is set=5, subsample_freq=0 will be ignored. Current value: bagging_freq=5\n",
      "[LightGBM] [Info] Number of positive: 16037, number of negative: 4328875\n",
      "[LightGBM] [Info] Auto-choosing row-wise multi-threading, the overhead of testing was 0.066744 seconds.\n",
      "You can set `force_row_wise=true` to remove the overhead.\n",
      "And if memory is not enough, you can set `force_col_wise=true`.\n",
      "[LightGBM] [Info] Total Bins 1533\n",
      "[LightGBM] [Info] Number of data points in the train set: 4344912, number of used features: 17\n",
      "[LightGBM] [Warning] min_data_in_leaf is set=3, min_child_samples=7 will be ignored. Current value: min_data_in_leaf=3\n",
      "[LightGBM] [Warning] feature_fraction is set=0.9807319699658906, colsample_bytree=1.0 will be ignored. Current value: feature_fraction=0.9807319699658906\n",
      "[LightGBM] [Warning] lambda_l2 is set=6.402644331767288e-05, reg_lambda=0.0 will be ignored. Current value: lambda_l2=6.402644331767288e-05\n",
      "[LightGBM] [Warning] lambda_l1 is set=1.6263125723424326e-08, reg_alpha=0.0 will be ignored. Current value: lambda_l1=1.6263125723424326e-08\n",
      "[LightGBM] [Warning] bagging_fraction is set=0.774737849523241, subsample=1.0 will be ignored. Current value: bagging_fraction=0.774737849523241\n",
      "[LightGBM] [Warning] bagging_freq is set=5, subsample_freq=0 will be ignored. Current value: bagging_freq=5\n",
      "[LightGBM] [Info] [binary:BoostFromScore]: pavg=0.003691 -> initscore=-5.598164\n",
      "[LightGBM] [Info] Start training from score -5.598164\n",
      "Training until validation scores don't improve for 50 rounds\n",
      "[100]\tvalid_0's binary_logloss: 0.00281273\n",
      "Did not meet early stopping. Best iteration is:\n",
      "[100]\tvalid_0's binary_logloss: 0.00281273\n",
      "[LightGBM] [Warning] min_data_in_leaf is set=3, min_child_samples=7 will be ignored. Current value: min_data_in_leaf=3\n",
      "[LightGBM] [Warning] feature_fraction is set=0.9807319699658906, colsample_bytree=1.0 will be ignored. Current value: feature_fraction=0.9807319699658906\n",
      "[LightGBM] [Warning] lambda_l2 is set=6.402644331767288e-05, reg_lambda=0.0 will be ignored. Current value: lambda_l2=6.402644331767288e-05\n",
      "[LightGBM] [Warning] lambda_l1 is set=1.6263125723424326e-08, reg_alpha=0.0 will be ignored. Current value: lambda_l1=1.6263125723424326e-08\n",
      "[LightGBM] [Warning] bagging_fraction is set=0.774737849523241, subsample=1.0 will be ignored. Current value: bagging_fraction=0.774737849523241\n",
      "[LightGBM] [Warning] bagging_freq is set=5, subsample_freq=0 will be ignored. Current value: bagging_freq=5\n",
      " - fold4 - 0.9988\n"
     ]
    },
    {
     "name": "stderr",
     "output_type": "stream",
     "text": [
      "[I 2024-03-20 05:42:49,714] A new study created in memory with name: no-name-2df52dd7-7d95-4e00-8388-b6fa35aec287\n"
     ]
    },
    {
     "name": "stdout",
     "output_type": "stream",
     "text": [
      "Training until validation scores don't improve for 50 rounds\n"
     ]
    },
    {
     "name": "stderr",
     "output_type": "stream",
     "text": [
      "[I 2024-03-20 05:42:54,238] Trial 0 finished with value: 0.9704184564118846 and parameters: {'max_depth': 8, 'num_leaves': 86, 'learning_rate': 0.02705796714787235, 'feature_fraction': 0.6455943325015605, 'bagging_fraction': 0.6538539440672636, 'min_child_samples': 14, 'min_data_in_leaf': 4, 'lambda_l1': 1.9332225667343186, 'lambda_l2': 1.198382810378367e-06, 'min_split_gain': 0.00012536059060031549, 'bagging_freq': 9}. Best is trial 0 with value: 0.9704184564118846.\n"
     ]
    },
    {
     "name": "stdout",
     "output_type": "stream",
     "text": [
      "Early stopping, best iteration is:\n",
      "[3]\tvalid_0's binary_logloss: 0.12895\n",
      "Training until validation scores don't improve for 50 rounds\n"
     ]
    },
    {
     "name": "stderr",
     "output_type": "stream",
     "text": [
      "[I 2024-03-20 05:42:59,025] Trial 1 finished with value: 0.9723059112416114 and parameters: {'max_depth': 5, 'num_leaves': 18, 'learning_rate': 0.003461540918859745, 'feature_fraction': 0.7410943109756366, 'bagging_fraction': 0.4442678532727629, 'min_child_samples': 5, 'min_data_in_leaf': 4, 'lambda_l1': 3.4018921808910114e-07, 'lambda_l2': 2.361184607917412e-07, 'min_split_gain': 0.000273691006237045, 'bagging_freq': 1}. Best is trial 1 with value: 0.9723059112416114.\n"
     ]
    },
    {
     "name": "stdout",
     "output_type": "stream",
     "text": [
      "Early stopping, best iteration is:\n",
      "[3]\tvalid_0's binary_logloss: 0.128915\n",
      "Training until validation scores don't improve for 50 rounds\n",
      "Early stopping, best iteration is:\n",
      "[3]\tvalid_0's binary_logloss: 0.1289\n"
     ]
    },
    {
     "name": "stderr",
     "output_type": "stream",
     "text": [
      "[I 2024-03-20 05:43:05,308] Trial 2 finished with value: 0.9806011120450525 and parameters: {'max_depth': 5, 'num_leaves': 69, 'learning_rate': 0.047207832535270715, 'feature_fraction': 0.6920299671180382, 'bagging_fraction': 0.9898709682681982, 'min_child_samples': 21, 'min_data_in_leaf': 3, 'lambda_l1': 1.313337203202679e-08, 'lambda_l2': 0.001199132359370741, 'min_split_gain': 0.0015441096464804327, 'bagging_freq': 3}. Best is trial 2 with value: 0.9806011120450525.\n"
     ]
    },
    {
     "name": "stdout",
     "output_type": "stream",
     "text": [
      "Training until validation scores don't improve for 50 rounds\n",
      "Early stopping, best iteration is:\n",
      "[11]\tvalid_0's binary_logloss: 0.128784\n"
     ]
    },
    {
     "name": "stderr",
     "output_type": "stream",
     "text": [
      "[I 2024-03-20 05:43:10,096] Trial 3 finished with value: 0.9861656319271503 and parameters: {'max_depth': 6, 'num_leaves': 65, 'learning_rate': 0.05465138587820461, 'feature_fraction': 0.9392666622259336, 'bagging_fraction': 0.25173416333674, 'min_child_samples': 8, 'min_data_in_leaf': 4, 'lambda_l1': 1.8059402002920946e-07, 'lambda_l2': 0.0002767524467166091, 'min_split_gain': 0.007614241374595518, 'bagging_freq': 4}. Best is trial 3 with value: 0.9861656319271503.\n"
     ]
    },
    {
     "name": "stdout",
     "output_type": "stream",
     "text": [
      "Training until validation scores don't improve for 50 rounds\n"
     ]
    },
    {
     "name": "stderr",
     "output_type": "stream",
     "text": [
      "[I 2024-03-20 05:43:13,355] Trial 4 finished with value: 0.9770735326865363 and parameters: {'max_depth': 4, 'num_leaves': 89, 'learning_rate': 0.06845230395805685, 'feature_fraction': 0.5154463790267569, 'bagging_fraction': 0.2172050195881215, 'min_child_samples': 4, 'min_data_in_leaf': 1, 'lambda_l1': 8.450127385478773e-06, 'lambda_l2': 0.4904575360780777, 'min_split_gain': 0.005028449352573066, 'bagging_freq': 9}. Best is trial 3 with value: 0.9861656319271503.\n"
     ]
    },
    {
     "name": "stdout",
     "output_type": "stream",
     "text": [
      "Early stopping, best iteration is:\n",
      "[3]\tvalid_0's binary_logloss: 0.130256\n",
      "Training until validation scores don't improve for 50 rounds\n"
     ]
    },
    {
     "name": "stderr",
     "output_type": "stream",
     "text": [
      "[I 2024-03-20 05:43:16,634] Trial 5 finished with value: 0.9703199052581146 and parameters: {'max_depth': 8, 'num_leaves': 44, 'learning_rate': 0.04616237140396398, 'feature_fraction': 0.5744635925600599, 'bagging_fraction': 0.16263501258002058, 'min_child_samples': 1, 'min_data_in_leaf': 4, 'lambda_l1': 0.0009705633330306041, 'lambda_l2': 5.998500594289373e-07, 'min_split_gain': 0.005644722632832368, 'bagging_freq': 4}. Best is trial 3 with value: 0.9861656319271503.\n"
     ]
    },
    {
     "name": "stdout",
     "output_type": "stream",
     "text": [
      "Early stopping, best iteration is:\n",
      "[3]\tvalid_0's binary_logloss: 0.130063\n",
      "Training until validation scores don't improve for 50 rounds\n",
      "Early stopping, best iteration is:\n",
      "[11]\tvalid_0's binary_logloss: 0.129047\n"
     ]
    },
    {
     "name": "stderr",
     "output_type": "stream",
     "text": [
      "[I 2024-03-20 05:43:21,585] Trial 6 finished with value: 0.9782069097394983 and parameters: {'max_depth': 4, 'num_leaves': 15, 'learning_rate': 0.029566835814131557, 'feature_fraction': 0.9648798187962058, 'bagging_fraction': 0.7286826289078313, 'min_child_samples': 24, 'min_data_in_leaf': 4, 'lambda_l1': 0.06318483585455757, 'lambda_l2': 0.5775857562532368, 'min_split_gain': 0.018571256441806384, 'bagging_freq': 7}. Best is trial 3 with value: 0.9861656319271503.\n"
     ]
    },
    {
     "name": "stdout",
     "output_type": "stream",
     "text": [
      "Training until validation scores don't improve for 50 rounds\n"
     ]
    },
    {
     "name": "stderr",
     "output_type": "stream",
     "text": [
      "[I 2024-03-20 05:43:27,228] Trial 7 finished with value: 0.9806183958220257 and parameters: {'max_depth': 6, 'num_leaves': 59, 'learning_rate': 0.040010273184827, 'feature_fraction': 0.8003071540512136, 'bagging_fraction': 0.8468859148402039, 'min_child_samples': 18, 'min_data_in_leaf': 3, 'lambda_l1': 2.3182835577167392e-06, 'lambda_l2': 9.802229363308487e-07, 'min_split_gain': 0.017010778182255108, 'bagging_freq': 5}. Best is trial 3 with value: 0.9861656319271503.\n"
     ]
    },
    {
     "name": "stdout",
     "output_type": "stream",
     "text": [
      "Early stopping, best iteration is:\n",
      "[3]\tvalid_0's binary_logloss: 0.128837\n",
      "Training until validation scores don't improve for 50 rounds\n"
     ]
    },
    {
     "name": "stderr",
     "output_type": "stream",
     "text": [
      "[I 2024-03-20 05:43:32,019] Trial 8 finished with value: 0.9765446971736508 and parameters: {'max_depth': 7, 'num_leaves': 65, 'learning_rate': 0.08788056211108848, 'feature_fraction': 0.7264600910430782, 'bagging_fraction': 0.5759790229277664, 'min_child_samples': 22, 'min_data_in_leaf': 4, 'lambda_l1': 0.00047537800634342577, 'lambda_l2': 1.5467102660566567e-08, 'min_split_gain': 0.0019344255461316556, 'bagging_freq': 4}. Best is trial 3 with value: 0.9861656319271503.\n"
     ]
    },
    {
     "name": "stdout",
     "output_type": "stream",
     "text": [
      "Early stopping, best iteration is:\n",
      "[3]\tvalid_0's binary_logloss: 0.12882\n",
      "Training until validation scores don't improve for 50 rounds\n",
      "Early stopping, best iteration is:\n",
      "[11]\tvalid_0's binary_logloss: 0.128814\n"
     ]
    },
    {
     "name": "stderr",
     "output_type": "stream",
     "text": [
      "[I 2024-03-20 05:43:36,998] Trial 9 finished with value: 0.9710756124562612 and parameters: {'max_depth': 7, 'num_leaves': 51, 'learning_rate': 0.03535917566943197, 'feature_fraction': 0.9561999016312624, 'bagging_fraction': 0.7272600792478007, 'min_child_samples': 13, 'min_data_in_leaf': 3, 'lambda_l1': 0.0005875263401978008, 'lambda_l2': 5.4149808710628045e-05, 'min_split_gain': 0.0018382408211251647, 'bagging_freq': 4}. Best is trial 3 with value: 0.9861656319271503.\n"
     ]
    },
    {
     "name": "stdout",
     "output_type": "stream",
     "text": [
      "[LightGBM] [Warning] min_data_in_leaf is set=4, min_child_samples=8 will be ignored. Current value: min_data_in_leaf=4\n",
      "[LightGBM] [Warning] feature_fraction is set=0.9392666622259336, colsample_bytree=1.0 will be ignored. Current value: feature_fraction=0.9392666622259336\n",
      "[LightGBM] [Warning] lambda_l2 is set=0.0002767524467166091, reg_lambda=0.0 will be ignored. Current value: lambda_l2=0.0002767524467166091\n",
      "[LightGBM] [Warning] lambda_l1 is set=1.8059402002920946e-07, reg_alpha=0.0 will be ignored. Current value: lambda_l1=1.8059402002920946e-07\n",
      "[LightGBM] [Warning] bagging_fraction is set=0.25173416333674, subsample=1.0 will be ignored. Current value: bagging_fraction=0.25173416333674\n",
      "[LightGBM] [Warning] bagging_freq is set=4, subsample_freq=0 will be ignored. Current value: bagging_freq=4\n",
      "[LightGBM] [Warning] min_data_in_leaf is set=4, min_child_samples=8 will be ignored. Current value: min_data_in_leaf=4\n",
      "[LightGBM] [Warning] feature_fraction is set=0.9392666622259336, colsample_bytree=1.0 will be ignored. Current value: feature_fraction=0.9392666622259336\n",
      "[LightGBM] [Warning] lambda_l2 is set=0.0002767524467166091, reg_lambda=0.0 will be ignored. Current value: lambda_l2=0.0002767524467166091\n",
      "[LightGBM] [Warning] lambda_l1 is set=1.8059402002920946e-07, reg_alpha=0.0 will be ignored. Current value: lambda_l1=1.8059402002920946e-07\n",
      "[LightGBM] [Warning] bagging_fraction is set=0.25173416333674, subsample=1.0 will be ignored. Current value: bagging_fraction=0.25173416333674\n",
      "[LightGBM] [Warning] bagging_freq is set=4, subsample_freq=0 will be ignored. Current value: bagging_freq=4\n",
      "[LightGBM] [Info] Number of positive: 16227, number of negative: 4328685\n",
      "[LightGBM] [Info] Auto-choosing row-wise multi-threading, the overhead of testing was 0.067517 seconds.\n",
      "You can set `force_row_wise=true` to remove the overhead.\n",
      "And if memory is not enough, you can set `force_col_wise=true`.\n",
      "[LightGBM] [Info] Total Bins 1533\n",
      "[LightGBM] [Info] Number of data points in the train set: 4344912, number of used features: 17\n",
      "[LightGBM] [Warning] min_data_in_leaf is set=4, min_child_samples=8 will be ignored. Current value: min_data_in_leaf=4\n",
      "[LightGBM] [Warning] feature_fraction is set=0.9392666622259336, colsample_bytree=1.0 will be ignored. Current value: feature_fraction=0.9392666622259336\n",
      "[LightGBM] [Warning] lambda_l2 is set=0.0002767524467166091, reg_lambda=0.0 will be ignored. Current value: lambda_l2=0.0002767524467166091\n",
      "[LightGBM] [Warning] lambda_l1 is set=1.8059402002920946e-07, reg_alpha=0.0 will be ignored. Current value: lambda_l1=1.8059402002920946e-07\n",
      "[LightGBM] [Warning] bagging_fraction is set=0.25173416333674, subsample=1.0 will be ignored. Current value: bagging_fraction=0.25173416333674\n",
      "[LightGBM] [Warning] bagging_freq is set=4, subsample_freq=0 will be ignored. Current value: bagging_freq=4\n",
      "[LightGBM] [Info] [binary:BoostFromScore]: pavg=0.003735 -> initscore=-5.586343\n",
      "[LightGBM] [Info] Start training from score -5.586343\n",
      "[LightGBM] [Warning] No further splits with positive gain, best gain: -inf\n",
      "Training until validation scores don't improve for 50 rounds\n",
      "[LightGBM] [Warning] No further splits with positive gain, best gain: -inf\n",
      "[LightGBM] [Warning] No further splits with positive gain, best gain: -inf\n",
      "[LightGBM] [Warning] No further splits with positive gain, best gain: -inf\n",
      "[LightGBM] [Warning] No further splits with positive gain, best gain: -inf\n",
      "[LightGBM] [Warning] No further splits with positive gain, best gain: -inf\n",
      "[LightGBM] [Warning] No further splits with positive gain, best gain: -inf\n",
      "[LightGBM] [Warning] No further splits with positive gain, best gain: -inf\n",
      "[LightGBM] [Warning] No further splits with positive gain, best gain: -inf\n",
      "[LightGBM] [Warning] No further splits with positive gain, best gain: -inf\n",
      "[LightGBM] [Warning] No further splits with positive gain, best gain: -inf\n",
      "[LightGBM] [Warning] No further splits with positive gain, best gain: -inf\n",
      "[LightGBM] [Warning] No further splits with positive gain, best gain: -inf\n",
      "[LightGBM] [Warning] No further splits with positive gain, best gain: -inf\n",
      "[LightGBM] [Warning] No further splits with positive gain, best gain: -inf\n",
      "[LightGBM] [Warning] No further splits with positive gain, best gain: -inf\n",
      "[LightGBM] [Warning] No further splits with positive gain, best gain: -inf\n",
      "[LightGBM] [Warning] No further splits with positive gain, best gain: -inf\n",
      "[LightGBM] [Warning] No further splits with positive gain, best gain: -inf\n",
      "[LightGBM] [Warning] No further splits with positive gain, best gain: -inf\n",
      "[LightGBM] [Warning] No further splits with positive gain, best gain: -inf\n",
      "[LightGBM] [Warning] No further splits with positive gain, best gain: -inf\n",
      "[LightGBM] [Warning] No further splits with positive gain, best gain: -inf\n",
      "[LightGBM] [Warning] No further splits with positive gain, best gain: -inf\n",
      "[LightGBM] [Warning] No further splits with positive gain, best gain: -inf\n",
      "[LightGBM] [Warning] No further splits with positive gain, best gain: -inf\n",
      "[LightGBM] [Warning] No further splits with positive gain, best gain: -inf\n",
      "[LightGBM] [Warning] No further splits with positive gain, best gain: -inf\n",
      "[LightGBM] [Warning] No further splits with positive gain, best gain: -inf\n",
      "[LightGBM] [Warning] No further splits with positive gain, best gain: -inf\n",
      "[LightGBM] [Warning] No further splits with positive gain, best gain: -inf\n",
      "[LightGBM] [Warning] No further splits with positive gain, best gain: -inf\n",
      "[LightGBM] [Warning] No further splits with positive gain, best gain: -inf\n",
      "[LightGBM] [Warning] No further splits with positive gain, best gain: -inf\n",
      "[LightGBM] [Warning] No further splits with positive gain, best gain: -inf\n",
      "[LightGBM] [Warning] No further splits with positive gain, best gain: -inf\n",
      "[LightGBM] [Warning] No further splits with positive gain, best gain: -inf\n",
      "[LightGBM] [Warning] No further splits with positive gain, best gain: -inf\n",
      "[LightGBM] [Warning] No further splits with positive gain, best gain: -inf\n",
      "[LightGBM] [Warning] No further splits with positive gain, best gain: -inf\n",
      "[LightGBM] [Warning] No further splits with positive gain, best gain: -inf\n",
      "[LightGBM] [Warning] No further splits with positive gain, best gain: -inf\n",
      "[LightGBM] [Warning] No further splits with positive gain, best gain: -inf\n",
      "[LightGBM] [Warning] No further splits with positive gain, best gain: -inf\n",
      "[LightGBM] [Warning] No further splits with positive gain, best gain: -inf\n",
      "[LightGBM] [Warning] No further splits with positive gain, best gain: -inf\n",
      "[LightGBM] [Warning] No further splits with positive gain, best gain: -inf\n",
      "[LightGBM] [Warning] No further splits with positive gain, best gain: -inf\n",
      "[LightGBM] [Warning] No further splits with positive gain, best gain: -inf\n",
      "[LightGBM] [Warning] No further splits with positive gain, best gain: -inf\n",
      "[LightGBM] [Warning] No further splits with positive gain, best gain: -inf\n",
      "[LightGBM] [Warning] No further splits with positive gain, best gain: -inf\n",
      "[LightGBM] [Warning] No further splits with positive gain, best gain: -inf\n",
      "[LightGBM] [Warning] No further splits with positive gain, best gain: -inf\n",
      "[LightGBM] [Warning] No further splits with positive gain, best gain: -inf\n",
      "[LightGBM] [Warning] No further splits with positive gain, best gain: -inf\n",
      "[LightGBM] [Warning] No further splits with positive gain, best gain: -inf\n",
      "[LightGBM] [Warning] No further splits with positive gain, best gain: -inf\n",
      "[LightGBM] [Warning] No further splits with positive gain, best gain: -inf\n",
      "[LightGBM] [Warning] No further splits with positive gain, best gain: -inf\n",
      "[LightGBM] [Warning] No further splits with positive gain, best gain: -inf\n",
      "[LightGBM] [Warning] No further splits with positive gain, best gain: -inf\n",
      "[LightGBM] [Warning] No further splits with positive gain, best gain: -inf\n",
      "[LightGBM] [Warning] No further splits with positive gain, best gain: -inf\n",
      "[LightGBM] [Warning] No further splits with positive gain, best gain: -inf\n",
      "[LightGBM] [Warning] No further splits with positive gain, best gain: -inf\n",
      "[LightGBM] [Warning] No further splits with positive gain, best gain: -inf\n",
      "[LightGBM] [Warning] No further splits with positive gain, best gain: -inf\n",
      "[LightGBM] [Warning] No further splits with positive gain, best gain: -inf\n",
      "[LightGBM] [Warning] No further splits with positive gain, best gain: -inf\n",
      "[LightGBM] [Warning] No further splits with positive gain, best gain: -inf\n",
      "[LightGBM] [Warning] No further splits with positive gain, best gain: -inf\n",
      "[LightGBM] [Warning] No further splits with positive gain, best gain: -inf\n",
      "[LightGBM] [Warning] No further splits with positive gain, best gain: -inf\n",
      "[LightGBM] [Warning] No further splits with positive gain, best gain: -inf\n",
      "[LightGBM] [Warning] No further splits with positive gain, best gain: -inf\n",
      "[LightGBM] [Warning] No further splits with positive gain, best gain: -inf\n",
      "[LightGBM] [Warning] No further splits with positive gain, best gain: -inf\n",
      "[LightGBM] [Warning] No further splits with positive gain, best gain: -inf\n",
      "[LightGBM] [Warning] No further splits with positive gain, best gain: -inf\n",
      "[LightGBM] [Warning] No further splits with positive gain, best gain: -inf\n",
      "[LightGBM] [Warning] No further splits with positive gain, best gain: -inf\n",
      "[LightGBM] [Warning] No further splits with positive gain, best gain: -inf\n",
      "[LightGBM] [Warning] No further splits with positive gain, best gain: -inf\n",
      "[LightGBM] [Warning] No further splits with positive gain, best gain: -inf\n",
      "[LightGBM] [Warning] No further splits with positive gain, best gain: -inf\n",
      "[LightGBM] [Warning] No further splits with positive gain, best gain: -inf\n",
      "[LightGBM] [Warning] No further splits with positive gain, best gain: -inf\n",
      "[LightGBM] [Warning] No further splits with positive gain, best gain: -inf\n",
      "[LightGBM] [Warning] No further splits with positive gain, best gain: -inf\n",
      "[LightGBM] [Warning] No further splits with positive gain, best gain: -inf\n",
      "[LightGBM] [Warning] No further splits with positive gain, best gain: -inf\n",
      "[LightGBM] [Warning] No further splits with positive gain, best gain: -inf\n",
      "[LightGBM] [Warning] No further splits with positive gain, best gain: -inf\n",
      "[LightGBM] [Warning] No further splits with positive gain, best gain: -inf\n",
      "[LightGBM] [Warning] No further splits with positive gain, best gain: -inf\n",
      "[LightGBM] [Warning] No further splits with positive gain, best gain: -inf\n",
      "[LightGBM] [Warning] No further splits with positive gain, best gain: -inf\n",
      "[LightGBM] [Warning] No further splits with positive gain, best gain: -inf\n",
      "[LightGBM] [Warning] No further splits with positive gain, best gain: -inf\n",
      "[100]\tvalid_0's binary_logloss: 0.0129304\n",
      "Did not meet early stopping. Best iteration is:\n",
      "[81]\tvalid_0's binary_logloss: 0.00815623\n",
      "[LightGBM] [Warning] min_data_in_leaf is set=4, min_child_samples=8 will be ignored. Current value: min_data_in_leaf=4\n",
      "[LightGBM] [Warning] feature_fraction is set=0.9392666622259336, colsample_bytree=1.0 will be ignored. Current value: feature_fraction=0.9392666622259336\n",
      "[LightGBM] [Warning] lambda_l2 is set=0.0002767524467166091, reg_lambda=0.0 will be ignored. Current value: lambda_l2=0.0002767524467166091\n",
      "[LightGBM] [Warning] lambda_l1 is set=1.8059402002920946e-07, reg_alpha=0.0 will be ignored. Current value: lambda_l1=1.8059402002920946e-07\n",
      "[LightGBM] [Warning] bagging_fraction is set=0.25173416333674, subsample=1.0 will be ignored. Current value: bagging_fraction=0.25173416333674\n",
      "[LightGBM] [Warning] bagging_freq is set=4, subsample_freq=0 will be ignored. Current value: bagging_freq=4\n",
      " - fold5 - 0.9735\n",
      "==================================================\n",
      "FINISH: CV Score: 0.9881\n"
     ]
    }
   ],
   "source": [
    "N_SPLIT = 5\n",
    "kf = StratifiedGroupKFold(N_SPLIT)\n",
    "cv_list = list(kf.split(train, y=train[TARGET], groups=train['date']))\n",
    "\n",
    "X = train[feature_cols].values\n",
    "y = train[TARGET].values\n",
    "\n",
    "print('train shape:', train.shape)\n",
    "\n",
    "# training\n",
    "lgb_score, lgb_oof_pred, lgb_models = train_lgbm(X, y=y, cv=cv_list)"
   ]
  },
  {
   "cell_type": "code",
   "execution_count": 17,
   "metadata": {},
   "outputs": [],
   "source": [
    "def train_catboost(X, y, cv, model_path=[], params={}, verbose=100):\n",
    "\n",
    "    models = []\n",
    "    n_records = len(X)\n",
    "    oof_pred = np.zeros((n_records), dtype=np.float32)\n",
    "\n",
    "    def objective(trial):\n",
    "        cb_params = {\n",
    "            \"iterations\": trial.suggest_int('iterations', 2, 6),\n",
    "            \"objective\": \"Logloss\",\n",
    "            \"eval_metric\": \"Logloss\",\n",
    "            \"boosting_type\": \"Plain\",\n",
    "            \"boost_from_average\": False,\n",
    "            \"random_seed\": 42,\n",
    "            \"max_depth\": trial.suggest_int('max_depth', 4, 8),\n",
    "            \"learning_rate\": trial.suggest_float(\"learning_rate\", 0.001, 0.1),\n",
    "            \"reg_lambda\": trial.suggest_float(\"reg_lambda\", 1e-8, 100.0, log=True),\n",
    "            \"subsample\": trial.suggest_float(\"subsample\", 0.1, 1.0),\n",
    "            \"colsample_bylevel\": trial.suggest_float(\"colsample_bylevel\", 0.1, 1.0),\n",
    "            \"grow_policy\": \"Lossguide\",\n",
    "        }\n",
    "\n",
    "\n",
    "        model = CatBoost(cb_params)\n",
    "\n",
    "        model.fit(c_train)\n",
    "\n",
    "        pred_y = model.predict(c_valid)\n",
    "        auc = roc_auc_score(y_valid, pred_y)\n",
    "\n",
    "        return auc\n",
    "\n",
    "    for i, (idx_train, idx_valid) in enumerate(cv):\n",
    "        x_train, y_train = X[idx_train], y[idx_train]\n",
    "        x_valid, y_valid = X[idx_valid], y[idx_valid]\n",
    "        c_train = Pool(x_train, label=y_train)\n",
    "        c_valid = Pool(x_valid, label=y_valid)\n",
    "        \n",
    "        study = optuna.create_study(direction=\"maximize\")\n",
    "        study.optimize(objective, n_trials=10)\n",
    "\n",
    "        best_params = study.best_params\n",
    "        model = CatBoostClassifier(**best_params)\n",
    "\n",
    "        model.fit(c_train)\n",
    "\n",
    "        c\n",
    "        oof_pred[idx_valid] = pred_y\n",
    "        models.append(model)\n",
    "        score = roc_auc_score(y_valid, pred_y)\n",
    "        print(f\" - fold{i + 1} - {score:.4f}\")\n",
    "\n",
    "    score = roc_auc_score(y, oof_pred)\n",
    "\n",
    "    print(\"=\" * 50)\n",
    "    print(f\"FINISH: CV Score: {score:.4f}\")\n",
    "    return score, oof_pred, models"
   ]
  },
  {
   "cell_type": "code",
   "execution_count": 18,
   "metadata": {},
   "outputs": [
    {
     "name": "stderr",
     "output_type": "stream",
     "text": [
      "[I 2024-03-20 05:44:02,791] A new study created in memory with name: no-name-6eb59d0d-2ab8-4776-a0df-4229d99931d8\n"
     ]
    },
    {
     "name": "stdout",
     "output_type": "stream",
     "text": [
      "0:\tlearn: 0.6580338\ttotal: 179ms\tremaining: 358ms\n",
      "1:\tlearn: 0.6250497\ttotal: 296ms\tremaining: 148ms\n",
      "2:\tlearn: 0.5946475\ttotal: 330ms\tremaining: 0us\n"
     ]
    },
    {
     "name": "stderr",
     "output_type": "stream",
     "text": [
      "[I 2024-03-20 05:44:03,932] Trial 0 finished with value: 0.966357770072902 and parameters: {'iterations': 3, 'max_depth': 6, 'learning_rate': 0.03622715393576466, 'reg_lambda': 4.845627015197551e-06, 'subsample': 0.569992941751225, 'colsample_bylevel': 0.13615863016378052}. Best is trial 0 with value: 0.966357770072902.\n"
     ]
    },
    {
     "name": "stdout",
     "output_type": "stream",
     "text": [
      "0:\tlearn: 0.6880220\ttotal: 168ms\tremaining: 335ms\n",
      "1:\tlearn: 0.6829514\ttotal: 282ms\tremaining: 141ms\n"
     ]
    },
    {
     "name": "stderr",
     "output_type": "stream",
     "text": [
      "[I 2024-03-20 05:44:04,978] Trial 1 finished with value: 0.9694402942134253 and parameters: {'iterations': 3, 'max_depth': 6, 'learning_rate': 0.005145151282299943, 'reg_lambda': 4.573850429723252e-08, 'subsample': 0.1537637127281278, 'colsample_bylevel': 0.7988603655483268}. Best is trial 1 with value: 0.9694402942134253.\n"
     ]
    },
    {
     "name": "stdout",
     "output_type": "stream",
     "text": [
      "2:\tlearn: 0.6779345\ttotal: 389ms\tremaining: 0us\n",
      "0:\tlearn: 0.6225574\ttotal: 360ms\tremaining: 360ms\n"
     ]
    },
    {
     "name": "stderr",
     "output_type": "stream",
     "text": [
      "[I 2024-03-20 05:44:06,097] Trial 2 finished with value: 0.9616880408976787 and parameters: {'iterations': 2, 'max_depth': 6, 'learning_rate': 0.07345024568800422, 'reg_lambda': 9.939621209062241e-08, 'subsample': 0.949558793940755, 'colsample_bylevel': 0.8434006670583232}. Best is trial 1 with value: 0.9694402942134253.\n"
     ]
    },
    {
     "name": "stdout",
     "output_type": "stream",
     "text": [
      "1:\tlearn: 0.5617023\ttotal: 623ms\tremaining: 0us\n",
      "0:\tlearn: 0.6811327\ttotal: 58.6ms\tremaining: 235ms\n",
      "1:\tlearn: 0.6692863\ttotal: 154ms\tremaining: 231ms\n",
      "2:\tlearn: 0.6577192\ttotal: 355ms\tremaining: 237ms\n",
      "3:\tlearn: 0.6464324\ttotal: 559ms\tremaining: 140ms\n"
     ]
    },
    {
     "name": "stderr",
     "output_type": "stream",
     "text": [
      "[I 2024-03-20 05:44:07,318] Trial 3 finished with value: 0.9754053036556136 and parameters: {'iterations': 5, 'max_depth': 4, 'learning_rate': 0.012242737809631093, 'reg_lambda': 5.8018156634056426e-08, 'subsample': 0.9460369793600333, 'colsample_bylevel': 0.2912089974895725}. Best is trial 3 with value: 0.9754053036556136.\n"
     ]
    },
    {
     "name": "stdout",
     "output_type": "stream",
     "text": [
      "4:\tlearn: 0.6354104\ttotal: 762ms\tremaining: 0us\n",
      "0:\tlearn: 0.6604224\ttotal: 91.9ms\tremaining: 184ms\n",
      "1:\tlearn: 0.6298330\ttotal: 184ms\tremaining: 92ms\n",
      "2:\tlearn: 0.6011877\ttotal: 274ms\tremaining: 0us\n"
     ]
    },
    {
     "name": "stderr",
     "output_type": "stream",
     "text": [
      "[I 2024-03-20 05:44:08,009] Trial 4 finished with value: 0.9583313258483834 and parameters: {'iterations': 3, 'max_depth': 8, 'learning_rate': 0.033334308574016765, 'reg_lambda': 4.2576228955320634e-08, 'subsample': 0.4431093771906668, 'colsample_bylevel': 0.8905456183360395}. Best is trial 3 with value: 0.9754053036556136.\n"
     ]
    },
    {
     "name": "stdout",
     "output_type": "stream",
     "text": [
      "0:\tlearn: 0.6169103\ttotal: 44.2ms\tremaining: 88.3ms\n",
      "1:\tlearn: 0.5512938\ttotal: 110ms\tremaining: 54.8ms\n"
     ]
    },
    {
     "name": "stderr",
     "output_type": "stream",
     "text": [
      "[I 2024-03-20 05:44:08,689] Trial 5 finished with value: 0.96628147241392 and parameters: {'iterations': 3, 'max_depth': 4, 'learning_rate': 0.08051130146335858, 'reg_lambda': 0.0006186782652117521, 'subsample': 0.5004378728925183, 'colsample_bylevel': 0.31773938197011053}. Best is trial 3 with value: 0.9754053036556136.\n"
     ]
    },
    {
     "name": "stdout",
     "output_type": "stream",
     "text": [
      "2:\tlearn: 0.4947331\ttotal: 242ms\tremaining: 0us\n",
      "0:\tlearn: 0.6424030\ttotal: 192ms\tremaining: 961ms\n",
      "1:\tlearn: 0.5967573\ttotal: 374ms\tremaining: 748ms\n",
      "2:\tlearn: 0.5554234\ttotal: 561ms\tremaining: 561ms\n",
      "3:\tlearn: 0.5178515\ttotal: 752ms\tremaining: 376ms\n",
      "4:\tlearn: 0.4835343\ttotal: 941ms\tremaining: 188ms\n"
     ]
    },
    {
     "name": "stderr",
     "output_type": "stream",
     "text": [
      "[I 2024-03-20 05:44:10,294] Trial 6 finished with value: 0.985889447988592 and parameters: {'iterations': 6, 'max_depth': 4, 'learning_rate': 0.05221425171828699, 'reg_lambda': 1.9432361960037734, 'subsample': 0.5183614219298069, 'colsample_bylevel': 0.8511629421888155}. Best is trial 6 with value: 0.985889447988592.\n"
     ]
    },
    {
     "name": "stdout",
     "output_type": "stream",
     "text": [
      "5:\tlearn: 0.4521226\ttotal: 1.14s\tremaining: 0us\n",
      "0:\tlearn: 0.6608119\ttotal: 222ms\tremaining: 222ms\n"
     ]
    },
    {
     "name": "stderr",
     "output_type": "stream",
     "text": [
      "[I 2024-03-20 05:44:11,192] Trial 7 finished with value: 0.9862858121635905 and parameters: {'iterations': 2, 'max_depth': 5, 'learning_rate': 0.03292636073281975, 'reg_lambda': 0.4160898902178385, 'subsample': 0.450024379192106, 'colsample_bylevel': 0.9558765528968268}. Best is trial 7 with value: 0.9862858121635905.\n"
     ]
    },
    {
     "name": "stdout",
     "output_type": "stream",
     "text": [
      "1:\tlearn: 0.6305870\ttotal: 438ms\tremaining: 0us\n",
      "0:\tlearn: 0.6545968\ttotal: 51.7ms\tremaining: 155ms\n",
      "1:\tlearn: 0.6186025\ttotal: 224ms\tremaining: 224ms\n",
      "2:\tlearn: 0.5852881\ttotal: 392ms\tremaining: 131ms\n",
      "3:\tlearn: 0.5546251\ttotal: 578ms\tremaining: 0us\n"
     ]
    },
    {
     "name": "stderr",
     "output_type": "stream",
     "text": [
      "[I 2024-03-20 05:44:12,219] Trial 8 finished with value: 0.9714049286160047 and parameters: {'iterations': 4, 'max_depth': 4, 'learning_rate': 0.03985113430073847, 'reg_lambda': 0.015749574624655975, 'subsample': 0.7874457386982546, 'colsample_bylevel': 0.26080595275755336}. Best is trial 7 with value: 0.9862858121635905.\n"
     ]
    },
    {
     "name": "stdout",
     "output_type": "stream",
     "text": [
      "0:\tlearn: 0.6182265\ttotal: 38.9ms\tremaining: 194ms\n",
      "1:\tlearn: 0.5535746\ttotal: 88.6ms\tremaining: 177ms\n",
      "2:\tlearn: 0.4983733\ttotal: 192ms\tremaining: 192ms\n",
      "3:\tlearn: 0.4495934\ttotal: 295ms\tremaining: 148ms\n",
      "4:\tlearn: 0.4067779\ttotal: 390ms\tremaining: 78ms\n",
      "5:\tlearn: 0.3693399\ttotal: 492ms\tremaining: 0us\n"
     ]
    },
    {
     "name": "stderr",
     "output_type": "stream",
     "text": [
      "[I 2024-03-20 05:44:13,169] Trial 9 finished with value: 0.9744040423527868 and parameters: {'iterations': 6, 'max_depth': 4, 'learning_rate': 0.0790648425779014, 'reg_lambda': 0.01547148991256482, 'subsample': 0.26246931548999775, 'colsample_bylevel': 0.17753601009028597}. Best is trial 7 with value: 0.9862858121635905.\n"
     ]
    },
    {
     "name": "stdout",
     "output_type": "stream",
     "text": [
      "0:\tlearn: 0.6608469\ttotal: 111ms\tremaining: 111ms\n",
      "1:\tlearn: 0.6306251\ttotal: 207ms\tremaining: 0us\n",
      " - fold1 - 0.9150\n"
     ]
    },
    {
     "name": "stderr",
     "output_type": "stream",
     "text": [
      "[I 2024-03-20 05:44:31,749] A new study created in memory with name: no-name-834c37cb-14db-4e01-93f2-5088f5843b72\n"
     ]
    },
    {
     "name": "stdout",
     "output_type": "stream",
     "text": [
      "0:\tlearn: 0.6752138\ttotal: 335ms\tremaining: 1s\n",
      "1:\tlearn: 0.6579342\ttotal: 637ms\tremaining: 637ms\n",
      "2:\tlearn: 0.6412716\ttotal: 947ms\tremaining: 316ms\n"
     ]
    },
    {
     "name": "stderr",
     "output_type": "stream",
     "text": [
      "[I 2024-03-20 05:44:33,483] Trial 0 finished with value: 0.977577946955999 and parameters: {'iterations': 4, 'max_depth': 5, 'learning_rate': 0.018123047361472477, 'reg_lambda': 0.00010924532292497749, 'subsample': 0.8311014176823753, 'colsample_bylevel': 0.7796834957915723}. Best is trial 0 with value: 0.977577946955999.\n"
     ]
    },
    {
     "name": "stdout",
     "output_type": "stream",
     "text": [
      "3:\tlearn: 0.6251790\ttotal: 1.25s\tremaining: 0us\n",
      "0:\tlearn: 0.6509351\ttotal: 182ms\tremaining: 730ms\n",
      "1:\tlearn: 0.6123611\ttotal: 367ms\tremaining: 551ms\n",
      "2:\tlearn: 0.5767589\ttotal: 496ms\tremaining: 331ms\n",
      "3:\tlearn: 0.5439214\ttotal: 670ms\tremaining: 168ms\n"
     ]
    },
    {
     "name": "stderr",
     "output_type": "stream",
     "text": [
      "[I 2024-03-20 05:44:34,784] Trial 1 finished with value: 0.9549834676895629 and parameters: {'iterations': 5, 'max_depth': 7, 'learning_rate': 0.0432481556658053, 'reg_lambda': 2.5794592312776884e-08, 'subsample': 0.5344234379546441, 'colsample_bylevel': 0.7229240929477218}. Best is trial 0 with value: 0.977577946955999.\n"
     ]
    },
    {
     "name": "stdout",
     "output_type": "stream",
     "text": [
      "4:\tlearn: 0.5135217\ttotal: 855ms\tremaining: 0us\n",
      "0:\tlearn: 0.6657176\ttotal: 203ms\tremaining: 1.01s\n",
      "1:\tlearn: 0.6397979\ttotal: 543ms\tremaining: 1.09s\n",
      "2:\tlearn: 0.6152647\ttotal: 724ms\tremaining: 724ms\n",
      "3:\tlearn: 0.5919958\ttotal: 986ms\tremaining: 493ms\n",
      "4:\tlearn: 0.5699091\ttotal: 1.32s\tremaining: 264ms\n"
     ]
    },
    {
     "name": "stderr",
     "output_type": "stream",
     "text": [
      "[I 2024-03-20 05:44:36,891] Trial 2 finished with value: 0.9853831270107263 and parameters: {'iterations': 6, 'max_depth': 6, 'learning_rate': 0.027860901913870466, 'reg_lambda': 0.00022149867576944066, 'subsample': 0.7260260101971551, 'colsample_bylevel': 0.9861680616706482}. Best is trial 2 with value: 0.9853831270107263.\n"
     ]
    },
    {
     "name": "stdout",
     "output_type": "stream",
     "text": [
      "5:\tlearn: 0.5489015\ttotal: 1.65s\tremaining: 0us\n",
      "0:\tlearn: 0.6168204\ttotal: 147ms\tremaining: 589ms\n",
      "1:\tlearn: 0.5515338\ttotal: 284ms\tremaining: 426ms\n",
      "2:\tlearn: 0.4953104\ttotal: 394ms\tremaining: 263ms\n",
      "3:\tlearn: 0.4465625\ttotal: 612ms\tremaining: 153ms\n",
      "4:\tlearn: 0.4035647\ttotal: 691ms\tremaining: 0us\n"
     ]
    },
    {
     "name": "stderr",
     "output_type": "stream",
     "text": [
      "[I 2024-03-20 05:44:38,042] Trial 3 finished with value: 0.9650029622023729 and parameters: {'iterations': 5, 'max_depth': 7, 'learning_rate': 0.08004135175929981, 'reg_lambda': 1.0009989454261798, 'subsample': 0.46798143919821883, 'colsample_bylevel': 0.5588239017940853}. Best is trial 2 with value: 0.9853831270107263.\n"
     ]
    },
    {
     "name": "stdout",
     "output_type": "stream",
     "text": [
      "0:\tlearn: 0.6277032\ttotal: 237ms\tremaining: 237ms\n"
     ]
    },
    {
     "name": "stderr",
     "output_type": "stream",
     "text": [
      "[I 2024-03-20 05:44:38,959] Trial 4 finished with value: 0.9713194760733463 and parameters: {'iterations': 2, 'max_depth': 6, 'learning_rate': 0.06789683682080522, 'reg_lambda': 7.91538282464134, 'subsample': 0.5296003763191351, 'colsample_bylevel': 0.5825092893285987}. Best is trial 2 with value: 0.9853831270107263.\n"
     ]
    },
    {
     "name": "stdout",
     "output_type": "stream",
     "text": [
      "1:\tlearn: 0.5707217\ttotal: 468ms\tremaining: 0us\n",
      "0:\tlearn: 0.6864403\ttotal: 106ms\tremaining: 106ms\n",
      "1:\tlearn: 0.6798286\ttotal: 248ms\tremaining: 0us\n"
     ]
    },
    {
     "name": "stderr",
     "output_type": "stream",
     "text": [
      "[I 2024-03-20 05:44:39,659] Trial 5 finished with value: 0.9686385945649848 and parameters: {'iterations': 2, 'max_depth': 8, 'learning_rate': 0.006742659833144009, 'reg_lambda': 0.11563766364478664, 'subsample': 0.16142548148891697, 'colsample_bylevel': 0.4422090409311584}. Best is trial 2 with value: 0.9853831270107263.\n"
     ]
    },
    {
     "name": "stdout",
     "output_type": "stream",
     "text": [
      "0:\tlearn: 0.6117068\ttotal: 191ms\tremaining: 956ms\n",
      "1:\tlearn: 0.5430744\ttotal: 372ms\tremaining: 745ms\n",
      "2:\tlearn: 0.4843297\ttotal: 557ms\tremaining: 557ms\n",
      "3:\tlearn: 0.4336257\ttotal: 746ms\tremaining: 373ms\n",
      "4:\tlearn: 0.3898981\ttotal: 899ms\tremaining: 180ms\n",
      "5:\tlearn: 0.3511251\ttotal: 1.08s\tremaining: 0us\n"
     ]
    },
    {
     "name": "stderr",
     "output_type": "stream",
     "text": [
      "[I 2024-03-20 05:44:41,214] Trial 6 finished with value: 0.9721685151209482 and parameters: {'iterations': 6, 'max_depth': 5, 'learning_rate': 0.08556023119940104, 'reg_lambda': 0.05608127015508775, 'subsample': 0.6117651932542418, 'colsample_bylevel': 0.26535710811130575}. Best is trial 2 with value: 0.9853831270107263.\n",
      "[I 2024-03-20 05:44:41,815] Trial 7 finished with value: 0.9315851751737017 and parameters: {'iterations': 2, 'max_depth': 7, 'learning_rate': 0.0445638344522749, 'reg_lambda': 0.10190728623873888, 'subsample': 0.1298774634327195, 'colsample_bylevel': 0.13099537307455417}. Best is trial 2 with value: 0.9853831270107263.\n"
     ]
    },
    {
     "name": "stdout",
     "output_type": "stream",
     "text": [
      "0:\tlearn: 0.6498472\ttotal: 66.7ms\tremaining: 66.7ms\n",
      "1:\tlearn: 0.6103979\ttotal: 161ms\tremaining: 0us\n",
      "0:\tlearn: 0.6116628\ttotal: 256ms\tremaining: 1.28s\n",
      "1:\tlearn: 0.5430921\ttotal: 502ms\tremaining: 1s\n",
      "2:\tlearn: 0.4844759\ttotal: 761ms\tremaining: 761ms\n",
      "3:\tlearn: 0.4338910\ttotal: 1.02s\tremaining: 512ms\n",
      "4:\tlearn: 0.3898120\ttotal: 1.26s\tremaining: 253ms\n"
     ]
    },
    {
     "name": "stderr",
     "output_type": "stream",
     "text": [
      "[I 2024-03-20 05:44:43,780] Trial 8 finished with value: 0.9851230347941333 and parameters: {'iterations': 6, 'max_depth': 5, 'learning_rate': 0.08530005460037629, 'reg_lambda': 3.713583045521075e-05, 'subsample': 0.567302353714491, 'colsample_bylevel': 0.9200198524098088}. Best is trial 2 with value: 0.9853831270107263.\n"
     ]
    },
    {
     "name": "stdout",
     "output_type": "stream",
     "text": [
      "5:\tlearn: 0.3511255\ttotal: 1.52s\tremaining: 0us\n",
      "0:\tlearn: 0.6093429\ttotal: 200ms\tremaining: 599ms\n",
      "1:\tlearn: 0.5387312\ttotal: 320ms\tremaining: 320ms\n",
      "2:\tlearn: 0.4786578\ttotal: 434ms\tremaining: 145ms\n",
      "3:\tlearn: 0.4274963\ttotal: 609ms\tremaining: 0us\n"
     ]
    },
    {
     "name": "stderr",
     "output_type": "stream",
     "text": [
      "[I 2024-03-20 05:44:44,830] Trial 9 finished with value: 0.9776995782556218 and parameters: {'iterations': 4, 'max_depth': 8, 'learning_rate': 0.08855510651228041, 'reg_lambda': 1.3156789098695641e-08, 'subsample': 0.710041121968358, 'colsample_bylevel': 0.1725116300386258}. Best is trial 2 with value: 0.9853831270107263.\n"
     ]
    },
    {
     "name": "stdout",
     "output_type": "stream",
     "text": [
      "0:\tlearn: 0.6657393\ttotal: 135ms\tremaining: 675ms\n",
      "1:\tlearn: 0.6398530\ttotal: 278ms\tremaining: 557ms\n",
      "2:\tlearn: 0.6153290\ttotal: 419ms\tremaining: 419ms\n",
      "3:\tlearn: 0.5920792\ttotal: 561ms\tremaining: 281ms\n",
      "4:\tlearn: 0.5700025\ttotal: 683ms\tremaining: 137ms\n",
      "5:\tlearn: 0.5490062\ttotal: 797ms\tremaining: 0us\n",
      " - fold2 - 0.9350\n"
     ]
    },
    {
     "name": "stderr",
     "output_type": "stream",
     "text": [
      "[I 2024-03-20 05:45:04,600] A new study created in memory with name: no-name-32a2db51-9d47-4f5d-b286-adf4920ecb3a\n"
     ]
    },
    {
     "name": "stdout",
     "output_type": "stream",
     "text": [
      "0:\tlearn: 0.6403087\ttotal: 344ms\tremaining: 1.72s\n",
      "1:\tlearn: 0.5929686\ttotal: 601ms\tremaining: 1.2s\n",
      "2:\tlearn: 0.5502859\ttotal: 856ms\tremaining: 856ms\n",
      "3:\tlearn: 0.5116053\ttotal: 1.12s\tremaining: 559ms\n",
      "4:\tlearn: 0.4764352\ttotal: 1.35s\tremaining: 270ms\n"
     ]
    },
    {
     "name": "stderr",
     "output_type": "stream",
     "text": [
      "[I 2024-03-20 05:45:06,723] Trial 0 finished with value: 0.9792277794137403 and parameters: {'iterations': 6, 'max_depth': 4, 'learning_rate': 0.05445829780885526, 'reg_lambda': 0.005715217874202884, 'subsample': 0.8372076985033007, 'colsample_bylevel': 0.7447951535153253}. Best is trial 0 with value: 0.9792277794137403.\n"
     ]
    },
    {
     "name": "stdout",
     "output_type": "stream",
     "text": [
      "5:\tlearn: 0.4442895\ttotal: 1.59s\tremaining: 0us\n",
      "0:\tlearn: 0.6830129\ttotal: 287ms\tremaining: 1.44s\n",
      "1:\tlearn: 0.6730863\ttotal: 545ms\tremaining: 1.09s\n",
      "2:\tlearn: 0.6633675\ttotal: 811ms\tremaining: 811ms\n",
      "3:\tlearn: 0.6538366\ttotal: 1.09s\tremaining: 548ms\n",
      "4:\tlearn: 0.6444956\ttotal: 1.35s\tremaining: 271ms\n"
     ]
    },
    {
     "name": "stderr",
     "output_type": "stream",
     "text": [
      "[I 2024-03-20 05:45:08,878] Trial 1 finished with value: 0.9856910569423653 and parameters: {'iterations': 6, 'max_depth': 5, 'learning_rate': 0.010200904939034744, 'reg_lambda': 0.025127896963112545, 'subsample': 0.5797036126898163, 'colsample_bylevel': 0.9543004136684674}. Best is trial 1 with value: 0.9856910569423653.\n"
     ]
    },
    {
     "name": "stdout",
     "output_type": "stream",
     "text": [
      "5:\tlearn: 0.6353377\ttotal: 1.61s\tremaining: 0us\n",
      "0:\tlearn: 0.6286313\ttotal: 199ms\tremaining: 795ms\n",
      "1:\tlearn: 0.5719404\ttotal: 383ms\tremaining: 574ms\n",
      "2:\tlearn: 0.5219870\ttotal: 470ms\tremaining: 313ms\n",
      "3:\tlearn: 0.4776764\ttotal: 691ms\tremaining: 173ms\n",
      "4:\tlearn: 0.4384977\ttotal: 860ms\tremaining: 0us\n"
     ]
    },
    {
     "name": "stderr",
     "output_type": "stream",
     "text": [
      "[I 2024-03-20 05:45:10,192] Trial 2 finished with value: 0.9651232910582827 and parameters: {'iterations': 5, 'max_depth': 8, 'learning_rate': 0.06730265645124066, 'reg_lambda': 8.414171353843706e-06, 'subsample': 0.6019200498174362, 'colsample_bylevel': 0.33785510075184016}. Best is trial 1 with value: 0.9856910569423653.\n"
     ]
    },
    {
     "name": "stdout",
     "output_type": "stream",
     "text": [
      "0:\tlearn: 0.6174585\ttotal: 181ms\tremaining: 725ms\n",
      "1:\tlearn: 0.5532886\ttotal: 351ms\tremaining: 527ms\n",
      "2:\tlearn: 0.4978347\ttotal: 499ms\tremaining: 333ms\n",
      "3:\tlearn: 0.4493097\ttotal: 666ms\tremaining: 167ms\n"
     ]
    },
    {
     "name": "stderr",
     "output_type": "stream",
     "text": [
      "[I 2024-03-20 05:45:11,483] Trial 3 finished with value: 0.9631191310757464 and parameters: {'iterations': 5, 'max_depth': 5, 'learning_rate': 0.07905019604558876, 'reg_lambda': 0.008693497449239614, 'subsample': 0.5899024842624929, 'colsample_bylevel': 0.21599528500011153}. Best is trial 1 with value: 0.9856910569423653.\n"
     ]
    },
    {
     "name": "stdout",
     "output_type": "stream",
     "text": [
      "4:\tlearn: 0.4067208\ttotal: 836ms\tremaining: 0us\n",
      "0:\tlearn: 0.6186058\ttotal: 172ms\tremaining: 344ms\n",
      "1:\tlearn: 0.5543654\ttotal: 320ms\tremaining: 160ms\n"
     ]
    },
    {
     "name": "stderr",
     "output_type": "stream",
     "text": [
      "[I 2024-03-20 05:45:12,419] Trial 4 finished with value: 0.9617431387168421 and parameters: {'iterations': 3, 'max_depth': 6, 'learning_rate': 0.07838984620707548, 'reg_lambda': 0.22126203349480064, 'subsample': 0.3788865432930342, 'colsample_bylevel': 0.35172838668254525}. Best is trial 1 with value: 0.9856910569423653.\n"
     ]
    },
    {
     "name": "stdout",
     "output_type": "stream",
     "text": [
      "2:\tlearn: 0.4989205\ttotal: 496ms\tremaining: 0us\n",
      "0:\tlearn: 0.6331028\ttotal: 170ms\tremaining: 848ms\n",
      "1:\tlearn: 0.5801341\ttotal: 339ms\tremaining: 678ms\n",
      "2:\tlearn: 0.5330211\ttotal: 510ms\tremaining: 510ms\n",
      "3:\tlearn: 0.4908559\ttotal: 678ms\tremaining: 339ms\n",
      "4:\tlearn: 0.4529291\ttotal: 844ms\tremaining: 169ms\n",
      "5:\tlearn: 0.4186450\ttotal: 1.01s\tremaining: 0us\n"
     ]
    },
    {
     "name": "stderr",
     "output_type": "stream",
     "text": [
      "[I 2024-03-20 05:45:13,884] Trial 5 finished with value: 0.9750729984459832 and parameters: {'iterations': 6, 'max_depth': 4, 'learning_rate': 0.0621372670103547, 'reg_lambda': 0.002380790078227978, 'subsample': 0.4422089671274576, 'colsample_bylevel': 0.7562984484778843}. Best is trial 1 with value: 0.9856910569423653.\n"
     ]
    },
    {
     "name": "stdout",
     "output_type": "stream",
     "text": [
      "0:\tlearn: 0.6432977\ttotal: 260ms\tremaining: 1.3s\n",
      "1:\tlearn: 0.5983582\ttotal: 491ms\tremaining: 983ms\n",
      "2:\tlearn: 0.5576293\ttotal: 740ms\tremaining: 740ms\n",
      "3:\tlearn: 0.5205456\ttotal: 991ms\tremaining: 495ms\n",
      "4:\tlearn: 0.4866440\ttotal: 1.23s\tremaining: 247ms\n"
     ]
    },
    {
     "name": "stderr",
     "output_type": "stream",
     "text": [
      "[I 2024-03-20 05:45:15,817] Trial 6 finished with value: 0.9695525669390089 and parameters: {'iterations': 6, 'max_depth': 4, 'learning_rate': 0.05126929795827078, 'reg_lambda': 0.12080708778150692, 'subsample': 0.7195631890460319, 'colsample_bylevel': 0.9606559902082852}. Best is trial 1 with value: 0.9856910569423653.\n"
     ]
    },
    {
     "name": "stdout",
     "output_type": "stream",
     "text": [
      "5:\tlearn: 0.4555142\ttotal: 1.48s\tremaining: 0us\n",
      "0:\tlearn: 0.6127142\ttotal: 293ms\tremaining: 880ms\n",
      "1:\tlearn: 0.5448311\ttotal: 523ms\tremaining: 523ms\n",
      "2:\tlearn: 0.4867304\ttotal: 664ms\tremaining: 221ms\n"
     ]
    },
    {
     "name": "stderr",
     "output_type": "stream",
     "text": [
      "[I 2024-03-20 05:45:17,165] Trial 7 finished with value: 0.9728190979150123 and parameters: {'iterations': 4, 'max_depth': 6, 'learning_rate': 0.084222514263553, 'reg_lambda': 15.30132054164793, 'subsample': 0.8334242201606875, 'colsample_bylevel': 0.3733878163608369}. Best is trial 1 with value: 0.9856910569423653.\n"
     ]
    },
    {
     "name": "stdout",
     "output_type": "stream",
     "text": [
      "3:\tlearn: 0.4367789\ttotal: 899ms\tremaining: 0us\n",
      "0:\tlearn: 0.6512619\ttotal: 288ms\tremaining: 575ms\n",
      "1:\tlearn: 0.6128570\ttotal: 527ms\tremaining: 263ms\n"
     ]
    },
    {
     "name": "stderr",
     "output_type": "stream",
     "text": [
      "[I 2024-03-20 05:45:18,367] Trial 8 finished with value: 0.9551859016273063 and parameters: {'iterations': 3, 'max_depth': 7, 'learning_rate': 0.04291927044609393, 'reg_lambda': 0.20497821406885297, 'subsample': 0.9328061313918085, 'colsample_bylevel': 0.4468855179598754}. Best is trial 1 with value: 0.9856910569423653.\n"
     ]
    },
    {
     "name": "stdout",
     "output_type": "stream",
     "text": [
      "2:\tlearn: 0.5775140\ttotal: 735ms\tremaining: 0us\n",
      "0:\tlearn: 0.6128113\ttotal: 70.7ms\tremaining: 141ms\n",
      "1:\tlearn: 0.5450224\ttotal: 142ms\tremaining: 70.8ms\n",
      "2:\tlearn: 0.4869520\ttotal: 238ms\tremaining: 0us\n"
     ]
    },
    {
     "name": "stderr",
     "output_type": "stream",
     "text": [
      "[I 2024-03-20 05:45:19,050] Trial 9 finished with value: 0.9610145850528975 and parameters: {'iterations': 3, 'max_depth': 7, 'learning_rate': 0.08405744631710388, 'reg_lambda': 1.4295009450673474e-05, 'subsample': 0.22449577158390902, 'colsample_bylevel': 0.9975846514317621}. Best is trial 1 with value: 0.9856910569423653.\n"
     ]
    },
    {
     "name": "stdout",
     "output_type": "stream",
     "text": [
      "0:\tlearn: 0.6830209\ttotal: 144ms\tremaining: 722ms\n",
      "1:\tlearn: 0.6731003\ttotal: 251ms\tremaining: 503ms\n",
      "2:\tlearn: 0.6633788\ttotal: 363ms\tremaining: 363ms\n",
      "3:\tlearn: 0.6538559\ttotal: 467ms\tremaining: 234ms\n",
      "4:\tlearn: 0.6445164\ttotal: 565ms\tremaining: 113ms\n",
      "5:\tlearn: 0.6353665\ttotal: 677ms\tremaining: 0us\n",
      " - fold3 - 0.9266\n"
     ]
    },
    {
     "name": "stderr",
     "output_type": "stream",
     "text": [
      "[I 2024-03-20 05:45:38,081] A new study created in memory with name: no-name-a0a0b768-ca05-4334-926f-9a6d0f759617\n"
     ]
    },
    {
     "name": "stdout",
     "output_type": "stream",
     "text": [
      "0:\tlearn: 0.6290857\ttotal: 281ms\tremaining: 281ms\n"
     ]
    },
    {
     "name": "stderr",
     "output_type": "stream",
     "text": [
      "[I 2024-03-20 05:45:39,186] Trial 0 finished with value: 0.947623778759191 and parameters: {'iterations': 2, 'max_depth': 6, 'learning_rate': 0.06647758286241855, 'reg_lambda': 0.0014278988900304592, 'subsample': 0.6779683809406977, 'colsample_bylevel': 0.4191730235204868}. Best is trial 0 with value: 0.947623778759191.\n"
     ]
    },
    {
     "name": "stdout",
     "output_type": "stream",
     "text": [
      "1:\tlearn: 0.5730683\ttotal: 529ms\tremaining: 0us\n",
      "0:\tlearn: 0.6482506\ttotal: 255ms\tremaining: 510ms\n",
      "1:\tlearn: 0.6073719\ttotal: 432ms\tremaining: 216ms\n"
     ]
    },
    {
     "name": "stderr",
     "output_type": "stream",
     "text": [
      "[I 2024-03-20 05:45:40,237] Trial 1 finished with value: 0.9834728113763217 and parameters: {'iterations': 3, 'max_depth': 6, 'learning_rate': 0.046040265171620694, 'reg_lambda': 0.00017919188933078554, 'subsample': 0.4608320294159271, 'colsample_bylevel': 0.5842394981111572}. Best is trial 1 with value: 0.9834728113763217.\n"
     ]
    },
    {
     "name": "stdout",
     "output_type": "stream",
     "text": [
      "2:\tlearn: 0.5699717\ttotal: 596ms\tremaining: 0us\n"
     ]
    },
    {
     "name": "stderr",
     "output_type": "stream",
     "text": [
      "[I 2024-03-20 05:45:40,822] Trial 2 finished with value: 0.9672146113400819 and parameters: {'iterations': 2, 'max_depth': 7, 'learning_rate': 0.0580557920030238, 'reg_lambda': 0.0007438537009157415, 'subsample': 0.17171910097392654, 'colsample_bylevel': 0.8836281723959388}. Best is trial 1 with value: 0.9834728113763217.\n"
     ]
    },
    {
     "name": "stdout",
     "output_type": "stream",
     "text": [
      "0:\tlearn: 0.6368760\ttotal: 66.4ms\tremaining: 66.4ms\n",
      "1:\tlearn: 0.5868448\ttotal: 145ms\tremaining: 0us\n",
      "0:\tlearn: 0.6729167\ttotal: 189ms\tremaining: 189ms\n",
      "1:\tlearn: 0.6536025\ttotal: 331ms\tremaining: 0us\n"
     ]
    },
    {
     "name": "stderr",
     "output_type": "stream",
     "text": [
      "[I 2024-03-20 05:45:41,595] Trial 3 finished with value: 0.9188181728350113 and parameters: {'iterations': 2, 'max_depth': 6, 'learning_rate': 0.020536805765322796, 'reg_lambda': 0.00019868196655762322, 'subsample': 0.617058879144735, 'colsample_bylevel': 0.24040722077690505}. Best is trial 1 with value: 0.9834728113763217.\n"
     ]
    },
    {
     "name": "stdout",
     "output_type": "stream",
     "text": [
      "0:\tlearn: 0.6429481\ttotal: 118ms\tremaining: 355ms\n",
      "1:\tlearn: 0.5977200\ttotal: 193ms\tremaining: 193ms\n",
      "2:\tlearn: 0.5570435\ttotal: 264ms\tremaining: 88.1ms\n"
     ]
    },
    {
     "name": "stderr",
     "output_type": "stream",
     "text": [
      "[I 2024-03-20 05:45:42,363] Trial 4 finished with value: 0.9854021311926456 and parameters: {'iterations': 4, 'max_depth': 8, 'learning_rate': 0.05164344977936916, 'reg_lambda': 0.0007223298780745926, 'subsample': 0.1327230386529416, 'colsample_bylevel': 0.6016683685671178}. Best is trial 4 with value: 0.9854021311926456.\n"
     ]
    },
    {
     "name": "stdout",
     "output_type": "stream",
     "text": [
      "3:\tlearn: 0.5197262\ttotal: 333ms\tremaining: 0us\n",
      "0:\tlearn: 0.6174431\ttotal: 138ms\tremaining: 138ms\n",
      "1:\tlearn: 0.5528471\ttotal: 289ms\tremaining: 0us\n"
     ]
    },
    {
     "name": "stderr",
     "output_type": "stream",
     "text": [
      "[I 2024-03-20 05:45:43,086] Trial 5 finished with value: 0.9444118309780946 and parameters: {'iterations': 2, 'max_depth': 8, 'learning_rate': 0.0791223188273213, 'reg_lambda': 1.0012415840074915, 'subsample': 0.3674073691896671, 'colsample_bylevel': 0.4453657856286598}. Best is trial 4 with value: 0.9854021311926456.\n",
      "[I 2024-03-20 05:45:43,575] Trial 6 finished with value: 0.5 and parameters: {'iterations': 2, 'max_depth': 5, 'learning_rate': 0.08111302419463796, 'reg_lambda': 3.610487231431475e-05, 'subsample': 0.5697141323598091, 'colsample_bylevel': 0.10173264098339263}. Best is trial 4 with value: 0.9854021311926456.\n"
     ]
    },
    {
     "name": "stdout",
     "output_type": "stream",
     "text": [
      "0:\tlearn: 0.6163679\ttotal: 44.3ms\tremaining: 44.3ms\n",
      "1:\tlearn: 0.5511757\ttotal: 77.1ms\tremaining: 0us\n",
      "0:\tlearn: 0.6097464\ttotal: 98.4ms\tremaining: 197ms\n",
      "1:\tlearn: 0.5398563\ttotal: 228ms\tremaining: 114ms\n"
     ]
    },
    {
     "name": "stderr",
     "output_type": "stream",
     "text": [
      "[I 2024-03-20 05:45:44,359] Trial 7 finished with value: 0.9704298267861873 and parameters: {'iterations': 3, 'max_depth': 6, 'learning_rate': 0.0874528984028572, 'reg_lambda': 0.5012363758588892, 'subsample': 0.17371303238184152, 'colsample_bylevel': 0.4797961094749963}. Best is trial 4 with value: 0.9854021311926456.\n"
     ]
    },
    {
     "name": "stdout",
     "output_type": "stream",
     "text": [
      "2:\tlearn: 0.4802941\ttotal: 346ms\tremaining: 0us\n",
      "0:\tlearn: 0.6235267\ttotal: 170ms\tremaining: 340ms\n",
      "1:\tlearn: 0.5633506\ttotal: 322ms\tremaining: 161ms\n"
     ]
    },
    {
     "name": "stderr",
     "output_type": "stream",
     "text": [
      "[I 2024-03-20 05:45:45,246] Trial 8 finished with value: 0.9725935303874975 and parameters: {'iterations': 3, 'max_depth': 7, 'learning_rate': 0.07243440457626432, 'reg_lambda': 0.27834520383507116, 'subsample': 0.36019396475739085, 'colsample_bylevel': 0.7436485927869313}. Best is trial 4 with value: 0.9854021311926456.\n"
     ]
    },
    {
     "name": "stdout",
     "output_type": "stream",
     "text": [
      "2:\tlearn: 0.5107630\ttotal: 449ms\tremaining: 0us\n",
      "0:\tlearn: 0.6252652\ttotal: 161ms\tremaining: 161ms\n",
      "1:\tlearn: 0.5663900\ttotal: 312ms\tremaining: 0us\n"
     ]
    },
    {
     "name": "stderr",
     "output_type": "stream",
     "text": [
      "[I 2024-03-20 05:45:45,982] Trial 9 finished with value: 0.9553111821025149 and parameters: {'iterations': 2, 'max_depth': 4, 'learning_rate': 0.07056713865543736, 'reg_lambda': 59.944266389885335, 'subsample': 0.3402461890056357, 'colsample_bylevel': 0.9879008788084138}. Best is trial 4 with value: 0.9854021311926456.\n"
     ]
    },
    {
     "name": "stdout",
     "output_type": "stream",
     "text": [
      "0:\tlearn: 0.6429699\ttotal: 90.5ms\tremaining: 272ms\n",
      "1:\tlearn: 0.5977461\ttotal: 176ms\tremaining: 176ms\n",
      "2:\tlearn: 0.5567652\ttotal: 262ms\tremaining: 87.3ms\n",
      "3:\tlearn: 0.5194768\ttotal: 351ms\tremaining: 0us\n",
      " - fold4 - 0.9240\n"
     ]
    },
    {
     "name": "stderr",
     "output_type": "stream",
     "text": [
      "[I 2024-03-20 05:46:05,234] A new study created in memory with name: no-name-f4bd6bee-b9dc-44b1-ae67-0de52b6a7513\n"
     ]
    },
    {
     "name": "stdout",
     "output_type": "stream",
     "text": [
      "0:\tlearn: 0.6031583\ttotal: 253ms\tremaining: 253ms\n",
      "1:\tlearn: 0.5290464\ttotal: 380ms\tremaining: 0us\n"
     ]
    },
    {
     "name": "stderr",
     "output_type": "stream",
     "text": [
      "[I 2024-03-20 05:46:06,115] Trial 0 finished with value: 0.9578116448246964 and parameters: {'iterations': 2, 'max_depth': 8, 'learning_rate': 0.09471478240423838, 'reg_lambda': 0.40927168147129617, 'subsample': 0.67922156936905, 'colsample_bylevel': 0.4883137393348616}. Best is trial 0 with value: 0.9578116448246964.\n"
     ]
    },
    {
     "name": "stdout",
     "output_type": "stream",
     "text": [
      "0:\tlearn: 0.6284744\ttotal: 125ms\tremaining: 501ms\n",
      "1:\tlearn: 0.5717931\ttotal: 342ms\tremaining: 513ms\n",
      "2:\tlearn: 0.5221186\ttotal: 433ms\tremaining: 289ms\n",
      "3:\tlearn: 0.4783094\ttotal: 476ms\tremaining: 119ms\n"
     ]
    },
    {
     "name": "stderr",
     "output_type": "stream",
     "text": [
      "[I 2024-03-20 05:46:07,143] Trial 1 finished with value: 0.9452070233099462 and parameters: {'iterations': 5, 'max_depth': 8, 'learning_rate': 0.06735551661499606, 'reg_lambda': 1.05399233029862e-08, 'subsample': 0.59594267949969, 'colsample_bylevel': 0.13388612579213088}. Best is trial 0 with value: 0.9578116448246964.\n"
     ]
    },
    {
     "name": "stdout",
     "output_type": "stream",
     "text": [
      "4:\tlearn: 0.4392042\ttotal: 556ms\tremaining: 0us\n",
      "0:\tlearn: 0.5995837\ttotal: 97.3ms\tremaining: 487ms\n",
      "1:\tlearn: 0.5229212\ttotal: 188ms\tremaining: 376ms\n",
      "2:\tlearn: 0.4588707\ttotal: 385ms\tremaining: 385ms\n",
      "3:\tlearn: 0.4043706\ttotal: 521ms\tremaining: 261ms\n",
      "4:\tlearn: 0.3577485\ttotal: 605ms\tremaining: 121ms\n",
      "5:\tlearn: 0.3175453\ttotal: 725ms\tremaining: 0us\n"
     ]
    },
    {
     "name": "stderr",
     "output_type": "stream",
     "text": [
      "[I 2024-03-20 05:46:08,339] Trial 2 finished with value: 0.9560176372585723 and parameters: {'iterations': 6, 'max_depth': 8, 'learning_rate': 0.09903133387464738, 'reg_lambda': 2.6098244349522423e-08, 'subsample': 0.4908384927569587, 'colsample_bylevel': 0.5499236333480244}. Best is trial 0 with value: 0.9578116448246964.\n"
     ]
    },
    {
     "name": "stdout",
     "output_type": "stream",
     "text": [
      "0:\tlearn: 0.6228729\ttotal: 181ms\tremaining: 542ms\n",
      "1:\tlearn: 0.5624363\ttotal: 274ms\tremaining: 274ms\n",
      "2:\tlearn: 0.5094617\ttotal: 363ms\tremaining: 121ms\n"
     ]
    },
    {
     "name": "stderr",
     "output_type": "stream",
     "text": [
      "[I 2024-03-20 05:46:09,272] Trial 3 finished with value: 0.9512386948040132 and parameters: {'iterations': 4, 'max_depth': 8, 'learning_rate': 0.0731562081758012, 'reg_lambda': 1.0107799523891255e-06, 'subsample': 0.422327468713652, 'colsample_bylevel': 0.7169960792908876}. Best is trial 0 with value: 0.9578116448246964.\n"
     ]
    },
    {
     "name": "stdout",
     "output_type": "stream",
     "text": [
      "3:\tlearn: 0.4628820\ttotal: 465ms\tremaining: 0us\n",
      "0:\tlearn: 0.6150426\ttotal: 229ms\tremaining: 1.14s\n",
      "1:\tlearn: 0.5487766\ttotal: 461ms\tremaining: 923ms\n",
      "2:\tlearn: 0.4918101\ttotal: 672ms\tremaining: 672ms\n",
      "3:\tlearn: 0.4423740\ttotal: 878ms\tremaining: 439ms\n",
      "4:\tlearn: 0.3990724\ttotal: 1.09s\tremaining: 219ms\n"
     ]
    },
    {
     "name": "stderr",
     "output_type": "stream",
     "text": [
      "[I 2024-03-20 05:46:11,035] Trial 4 finished with value: 0.9781145167385561 and parameters: {'iterations': 6, 'max_depth': 4, 'learning_rate': 0.0816340043744661, 'reg_lambda': 0.07188679187717663, 'subsample': 0.7720326815149601, 'colsample_bylevel': 0.5954514531860144}. Best is trial 4 with value: 0.9781145167385561.\n"
     ]
    },
    {
     "name": "stdout",
     "output_type": "stream",
     "text": [
      "5:\tlearn: 0.3609608\ttotal: 1.31s\tremaining: 0us\n",
      "0:\tlearn: 0.6083181\ttotal: 117ms\tremaining: 467ms\n",
      "1:\tlearn: 0.5373891\ttotal: 228ms\tremaining: 342ms\n",
      "2:\tlearn: 0.4772782\ttotal: 343ms\tremaining: 229ms\n",
      "3:\tlearn: 0.4255370\ttotal: 457ms\tremaining: 114ms\n"
     ]
    },
    {
     "name": "stderr",
     "output_type": "stream",
     "text": [
      "[I 2024-03-20 05:46:12,083] Trial 5 finished with value: 0.9578274008509403 and parameters: {'iterations': 5, 'max_depth': 8, 'learning_rate': 0.08898139618938766, 'reg_lambda': 0.026928698095439886, 'subsample': 0.6279434967586403, 'colsample_bylevel': 0.9547846049568111}. Best is trial 4 with value: 0.9781145167385561.\n"
     ]
    },
    {
     "name": "stdout",
     "output_type": "stream",
     "text": [
      "4:\tlearn: 0.3806967\ttotal: 616ms\tremaining: 0us\n",
      "0:\tlearn: 0.6023091\ttotal: 225ms\tremaining: 899ms\n",
      "1:\tlearn: 0.5276603\ttotal: 325ms\tremaining: 487ms\n",
      "2:\tlearn: 0.4643136\ttotal: 550ms\tremaining: 366ms\n",
      "3:\tlearn: 0.4111920\ttotal: 641ms\tremaining: 160ms\n"
     ]
    },
    {
     "name": "stderr",
     "output_type": "stream",
     "text": [
      "[I 2024-03-20 05:46:13,345] Trial 6 finished with value: 0.9554143024286368 and parameters: {'iterations': 5, 'max_depth': 5, 'learning_rate': 0.09660122713867356, 'reg_lambda': 0.002665017732078746, 'subsample': 0.9848500185617645, 'colsample_bylevel': 0.14260801198097217}. Best is trial 4 with value: 0.9781145167385561.\n"
     ]
    },
    {
     "name": "stdout",
     "output_type": "stream",
     "text": [
      "4:\tlearn: 0.3656332\ttotal: 818ms\tremaining: 0us\n",
      "0:\tlearn: 0.6205990\ttotal: 99.7ms\tremaining: 299ms\n",
      "1:\tlearn: 0.5583155\ttotal: 222ms\tremaining: 222ms\n",
      "2:\tlearn: 0.5042111\ttotal: 304ms\tremaining: 101ms\n",
      "3:\tlearn: 0.4568106\ttotal: 386ms\tremaining: 0us\n"
     ]
    },
    {
     "name": "stderr",
     "output_type": "stream",
     "text": [
      "[I 2024-03-20 05:46:14,197] Trial 7 finished with value: 0.9625130503613339 and parameters: {'iterations': 4, 'max_depth': 6, 'learning_rate': 0.07556295120616312, 'reg_lambda': 1.5110248924137426e-05, 'subsample': 0.15685771304089383, 'colsample_bylevel': 0.7906938712726943}. Best is trial 4 with value: 0.9781145167385561.\n"
     ]
    },
    {
     "name": "stdout",
     "output_type": "stream",
     "text": [
      "0:\tlearn: 0.6496362\ttotal: 159ms\tremaining: 477ms\n",
      "1:\tlearn: 0.6098922\ttotal: 317ms\tremaining: 317ms\n",
      "2:\tlearn: 0.5733836\ttotal: 469ms\tremaining: 156ms\n",
      "3:\tlearn: 0.5397599\ttotal: 629ms\tremaining: 0us\n"
     ]
    },
    {
     "name": "stderr",
     "output_type": "stream",
     "text": [
      "[I 2024-03-20 05:46:15,258] Trial 8 finished with value: 0.9840798459672528 and parameters: {'iterations': 4, 'max_depth': 4, 'learning_rate': 0.04462557089973648, 'reg_lambda': 2.4018678641558386, 'subsample': 0.6625401258635375, 'colsample_bylevel': 0.31805089467726344}. Best is trial 8 with value: 0.9840798459672528.\n"
     ]
    },
    {
     "name": "stdout",
     "output_type": "stream",
     "text": [
      "0:\tlearn: 0.6460733\ttotal: 142ms\tremaining: 283ms\n",
      "1:\tlearn: 0.6033387\ttotal: 232ms\tremaining: 116ms\n"
     ]
    },
    {
     "name": "stderr",
     "output_type": "stream",
     "text": [
      "[I 2024-03-20 05:46:16,125] Trial 9 finished with value: 0.9569003367178752 and parameters: {'iterations': 3, 'max_depth': 8, 'learning_rate': 0.04843779190463181, 'reg_lambda': 2.7239091253696996e-07, 'subsample': 0.4085133143667451, 'colsample_bylevel': 0.4247063307396602}. Best is trial 8 with value: 0.9840798459672528.\n"
     ]
    },
    {
     "name": "stdout",
     "output_type": "stream",
     "text": [
      "2:\tlearn: 0.5643861\ttotal: 432ms\tremaining: 0us\n",
      "0:\tlearn: 0.6496495\ttotal: 107ms\tremaining: 320ms\n",
      "1:\tlearn: 0.6103103\ttotal: 214ms\tremaining: 214ms\n",
      "2:\tlearn: 0.5742214\ttotal: 316ms\tremaining: 105ms\n",
      "3:\tlearn: 0.5405578\ttotal: 417ms\tremaining: 0us\n",
      " - fold5 - 0.5000\n",
      "==================================================\n",
      "FINISH: CV Score: 0.8417\n"
     ]
    }
   ],
   "source": [
    "cb_score, cb_oof_pred, cb_models = train_catboost(X, y=y, cv=cv_list)"
   ]
  },
  {
   "cell_type": "code",
   "execution_count": 19,
   "metadata": {},
   "outputs": [],
   "source": [
    "def train_xgb(X, y, cv, model_path=[], params={}, verbose=100):\n",
    "\n",
    "    models = []\n",
    "    n_records = len(X)\n",
    "    oof_pred = np.zeros((n_records), dtype=np.float32)\n",
    "\n",
    "    def objective(trial):\n",
    "        xgb_params = {\n",
    "            \"objective\": \"binary:logistic\",\n",
    "            \"eval_metric\": \"logloss\",\n",
    "            \"booster\": \"gbtree\",\n",
    "            # \"verbosity\": 0,\n",
    "            \"n_jobs\": -1,\n",
    "            \"seed\": 42,\n",
    "            \"max_depth\": trial.suggest_int('max_depth', 4, 8),\n",
    "            \"min_child_weight\": trial.suggest_float(\"min_child_weight\", 1e-5, 1e2, log=True),\n",
    "            \"subsample\": trial.suggest_float(\"subsample\", 0.5, 1.0),\n",
    "            \"colsample_bytree\": trial.suggest_float(\"colsample_bytree\", 0.5, 1.0),\n",
    "            \"learning_rate\": trial.suggest_float(\"learning_rate\", 0.001, 0.1),\n",
    "            \"gamma\": trial.suggest_float(\"gamma\", 0, 1.0),\n",
    "            \"reg_alpha\": trial.suggest_float(\"reg_alpha\", 1e-8, 10.0, log=True),\n",
    "            \"reg_lambda\": trial.suggest_float(\"reg_lambda\", 1e-8, 10.0, log=True),\n",
    "        }\n",
    "\n",
    "        dtrain = xgb.DMatrix(X_train, label=y_train)\n",
    "        dvalid = xgb.DMatrix(X_valid, label=y_valid)\n",
    "        evals = [(dtrain, 'train'), (dvalid, 'eval')]\n",
    "\n",
    "        model = xgb.train(xgb_params, dtrain, num_boost_round=1000,\n",
    "                          early_stopping_rounds=50, evals=evals, verbose_eval=verbose)\n",
    "\n",
    "        pred_y = model.predict(dvalid, ntree_limit=model.best_ntree_limit)\n",
    "        auc = roc_auc_score(y_valid, pred_y)\n",
    "\n",
    "        return auc\n",
    "\n",
    "    for i, (idx_train, idx_valid) in enumerate(cv):\n",
    "        X_train, y_train = X[idx_train], y[idx_train]\n",
    "        X_valid, y_valid = X[idx_valid], y[idx_valid]\n",
    "\n",
    "        study = optuna.create_study(direction=\"maximize\")\n",
    "        study.optimize(objective, n_trials=10)\n",
    "\n",
    "        best_params = study.best_params\n",
    "        xgb_params = {\n",
    "            \"objective\": \"binary:logistic\",\n",
    "            \"eval_metric\": \"logloss\",\n",
    "            \"booster\": \"gbtree\",\n",
    "            \"verbosity\": 0,\n",
    "            \"n_jobs\": -1,\n",
    "            \"seed\": 42,\n",
    "            **best_params,\n",
    "        }\n",
    "\n",
    "        dtrain = xgb.DMatrix(X_train, label=y_train)\n",
    "        dvalid = xgb.DMatrix(X_valid, label=y_valid)\n",
    "        evals = [(dtrain, 'train'), (dvalid, 'eval')]\n",
    "\n",
    "        model = xgb.train(xgb_params, dtrain, num_boost_round=1000,\n",
    "                          early_stopping_rounds=50, evals=evals, verbose_eval=verbose)\n",
    "\n",
    "        pred_i = model.predict(dvalid, ntree_limit=model.best_ntree_limit)\n",
    "        oof_pred[idx_valid] = pred_i\n",
    "        models.append(model)\n",
    "        score = roc_auc_score(y_valid, pred_i)\n",
    "        print(f\" - fold{i + 1} - {score:.4f}\")\n",
    "\n",
    "    score = roc_auc_score(y, oof_pred)\n",
    "\n",
    "    print(\"=\" * 50)\n",
    "    print(f\"FINISH: CV Score: {score:.4f}\")\n",
    "    return score, oof_pred, models"
   ]
  },
  {
   "cell_type": "code",
   "execution_count": null,
   "metadata": {},
   "outputs": [
    {
     "name": "stderr",
     "output_type": "stream",
     "text": [
      "[I 2024-03-20 05:46:36,058] A new study created in memory with name: no-name-04b2299f-f668-4dfe-9d1f-6e0a466e59a3\n"
     ]
    },
    {
     "name": "stdout",
     "output_type": "stream",
     "text": [
      "0:\tlearn: 0.6267388\ttotal: 266ms\tremaining: 266ms\n",
      "1:\tlearn: 0.5689424\ttotal: 453ms\tremaining: 0us\n"
     ]
    },
    {
     "name": "stderr",
     "output_type": "stream",
     "text": [
      "[I 2024-03-20 05:46:37,128] Trial 0 finished with value: 0.952396034815814 and parameters: {'iterations': 2, 'max_depth': 8, 'learning_rate': 0.0689476623087299, 'reg_lambda': 4.4583556630536574e-07, 'subsample': 0.7826883563194972, 'colsample_bylevel': 0.5831409400263383}. Best is trial 0 with value: 0.952396034815814.\n"
     ]
    },
    {
     "name": "stdout",
     "output_type": "stream",
     "text": [
      "0:\tlearn: 0.6631919\ttotal: 109ms\tremaining: 544ms\n",
      "1:\tlearn: 0.6347265\ttotal: 192ms\tremaining: 384ms\n",
      "2:\tlearn: 0.6079236\ttotal: 363ms\tremaining: 363ms\n",
      "3:\tlearn: 0.5826613\ttotal: 436ms\tremaining: 218ms\n",
      "4:\tlearn: 0.5589862\ttotal: 577ms\tremaining: 115ms\n",
      "5:\tlearn: 0.5364986\ttotal: 727ms\tremaining: 0us\n"
     ]
    },
    {
     "name": "stderr",
     "output_type": "stream",
     "text": [
      "[I 2024-03-20 05:46:38,424] Trial 1 finished with value: 0.9716386532688309 and parameters: {'iterations': 6, 'max_depth': 5, 'learning_rate': 0.030817002919564015, 'reg_lambda': 5.812843005717101e-05, 'subsample': 0.6480239388396605, 'colsample_bylevel': 0.18634694566298424}. Best is trial 1 with value: 0.9716386532688309.\n"
     ]
    },
    {
     "name": "stdout",
     "output_type": "stream",
     "text": [
      "0:\tlearn: 0.6420072\ttotal: 53.3ms\tremaining: 53.3ms\n",
      "1:\tlearn: 0.5955440\ttotal: 200ms\tremaining: 0us\n"
     ]
    },
    {
     "name": "stderr",
     "output_type": "stream",
     "text": [
      "[I 2024-03-20 05:46:39,101] Trial 2 finished with value: 0.9257283051301544 and parameters: {'iterations': 2, 'max_depth': 5, 'learning_rate': 0.05323728530767126, 'reg_lambda': 3.078288569502599e-06, 'subsample': 0.49933455182917796, 'colsample_bylevel': 0.22757017263779727}. Best is trial 1 with value: 0.9716386532688309.\n",
      "[I 2024-03-20 05:46:39,782] Trial 3 finished with value: 0.9426788345863499 and parameters: {'iterations': 2, 'max_depth': 8, 'learning_rate': 0.030099842055506826, 'reg_lambda': 2.0543759162520258e-07, 'subsample': 0.46555516743032355, 'colsample_bylevel': 0.6365889692783574}. Best is trial 1 with value: 0.9716386532688309.\n"
     ]
    },
    {
     "name": "stdout",
     "output_type": "stream",
     "text": [
      "0:\tlearn: 0.6635565\ttotal: 145ms\tremaining: 145ms\n",
      "1:\tlearn: 0.6357369\ttotal: 233ms\tremaining: 0us\n",
      "0:\tlearn: 0.6900181\ttotal: 110ms\tremaining: 110ms\n",
      "1:\tlearn: 0.6869122\ttotal: 284ms\tremaining: 0us\n"
     ]
    },
    {
     "name": "stderr",
     "output_type": "stream",
     "text": [
      "[I 2024-03-20 05:46:40,491] Trial 4 finished with value: 0.9587740810881158 and parameters: {'iterations': 2, 'max_depth': 7, 'learning_rate': 0.0031366763407918215, 'reg_lambda': 9.413704791707366, 'subsample': 0.5414526203587652, 'colsample_bylevel': 0.9453803154259177}. Best is trial 1 with value: 0.9716386532688309.\n"
     ]
    },
    {
     "name": "stdout",
     "output_type": "stream",
     "text": [
      "0:\tlearn: 0.6296859\ttotal: 44.2ms\tremaining: 44.2ms\n",
      "1:\tlearn: 0.5735226\ttotal: 196ms\tremaining: 0us\n"
     ]
    },
    {
     "name": "stderr",
     "output_type": "stream",
     "text": [
      "[I 2024-03-20 05:46:41,119] Trial 5 finished with value: 0.9190553194182906 and parameters: {'iterations': 2, 'max_depth': 7, 'learning_rate': 0.06653019277670111, 'reg_lambda': 0.10090434545256362, 'subsample': 0.5463237552611666, 'colsample_bylevel': 0.3860371935736353}. Best is trial 1 with value: 0.9716386532688309.\n"
     ]
    },
    {
     "name": "stdout",
     "output_type": "stream",
     "text": [
      "0:\tlearn: 0.6902325\ttotal: 185ms\tremaining: 370ms\n",
      "1:\tlearn: 0.6873374\ttotal: 313ms\tremaining: 156ms\n"
     ]
    },
    {
     "name": "stderr",
     "output_type": "stream",
     "text": [
      "[I 2024-03-20 05:46:42,171] Trial 6 finished with value: 0.9799677876027869 and parameters: {'iterations': 3, 'max_depth': 7, 'learning_rate': 0.0029217710121678827, 'reg_lambda': 37.272183086425066, 'subsample': 0.8644158588246991, 'colsample_bylevel': 0.7672072659452166}. Best is trial 6 with value: 0.9799677876027869.\n"
     ]
    },
    {
     "name": "stdout",
     "output_type": "stream",
     "text": [
      "2:\tlearn: 0.6844601\ttotal: 629ms\tremaining: 0us\n",
      "0:\tlearn: 0.6898217\ttotal: 259ms\tremaining: 1.29s\n",
      "1:\tlearn: 0.6865198\ttotal: 472ms\tremaining: 944ms\n",
      "2:\tlearn: 0.6832416\ttotal: 712ms\tremaining: 712ms\n",
      "3:\tlearn: 0.6799843\ttotal: 932ms\tremaining: 466ms\n",
      "4:\tlearn: 0.6767482\ttotal: 1.15s\tremaining: 230ms\n"
     ]
    },
    {
     "name": "stderr",
     "output_type": "stream",
     "text": [
      "[I 2024-03-20 05:46:43,985] Trial 7 finished with value: 0.9859585378810586 and parameters: {'iterations': 6, 'max_depth': 4, 'learning_rate': 0.0033347430411297947, 'reg_lambda': 0.018125888080842784, 'subsample': 0.6965499760081317, 'colsample_bylevel': 0.7387151789401631}. Best is trial 7 with value: 0.9859585378810586.\n"
     ]
    },
    {
     "name": "stdout",
     "output_type": "stream",
     "text": [
      "5:\tlearn: 0.6735351\ttotal: 1.36s\tremaining: 0us\n",
      "0:\tlearn: 0.6898113\ttotal: 178ms\tremaining: 712ms\n",
      "1:\tlearn: 0.6864965\ttotal: 327ms\tremaining: 490ms\n",
      "2:\tlearn: 0.6832109\ttotal: 535ms\tremaining: 357ms\n",
      "3:\tlearn: 0.6799444\ttotal: 801ms\tremaining: 200ms\n",
      "4:\tlearn: 0.6766966\ttotal: 936ms\tremaining: 0us\n"
     ]
    },
    {
     "name": "stderr",
     "output_type": "stream",
     "text": [
      "[I 2024-03-20 05:46:45,383] Trial 8 finished with value: 0.9808814771175518 and parameters: {'iterations': 5, 'max_depth': 7, 'learning_rate': 0.003344693039121857, 'reg_lambda': 0.00028282981879593596, 'subsample': 0.775942054779506, 'colsample_bylevel': 0.9619363437960172}. Best is trial 7 with value: 0.9859585378810586.\n",
      "[I 2024-03-20 05:46:45,895] Trial 9 finished with value: 0.966357770072902 and parameters: {'iterations': 2, 'max_depth': 4, 'learning_rate': 0.049308373660589655, 'reg_lambda': 24.906447627088234, 'subsample': 0.6177856434715019, 'colsample_bylevel': 0.12516681972916935}. Best is trial 7 with value: 0.9859585378810586.\n"
     ]
    },
    {
     "name": "stdout",
     "output_type": "stream",
     "text": [
      "0:\tlearn: 0.6456863\ttotal: 46.2ms\tremaining: 46.2ms\n",
      "1:\tlearn: 0.6022450\ttotal: 106ms\tremaining: 0us\n",
      "0:\tlearn: 0.6898231\ttotal: 112ms\tremaining: 558ms\n",
      "1:\tlearn: 0.6865243\ttotal: 221ms\tremaining: 441ms\n",
      "2:\tlearn: 0.6832463\ttotal: 333ms\tremaining: 333ms\n",
      "3:\tlearn: 0.6799919\ttotal: 453ms\tremaining: 226ms\n",
      "4:\tlearn: 0.6767584\ttotal: 564ms\tremaining: 113ms\n",
      "5:\tlearn: 0.6735456\ttotal: 686ms\tremaining: 0us\n",
      " - fold1 - 0.9282\n"
     ]
    },
    {
     "name": "stderr",
     "output_type": "stream",
     "text": [
      "[I 2024-03-20 05:47:06,045] A new study created in memory with name: no-name-7047184c-8b4d-4cbc-b8e6-6f4aa55c65fb\n",
      "[I 2024-03-20 05:47:06,887] Trial 0 finished with value: 0.9685595132262476 and parameters: {'iterations': 2, 'max_depth': 7, 'learning_rate': 0.037623697002957555, 'reg_lambda': 0.012240076668969615, 'subsample': 0.15208935574669702, 'colsample_bylevel': 0.8418673511597535}. Best is trial 0 with value: 0.9685595132262476.\n"
     ]
    },
    {
     "name": "stdout",
     "output_type": "stream",
     "text": [
      "0:\tlearn: 0.6562963\ttotal: 97ms\tremaining: 97ms\n",
      "1:\tlearn: 0.6221573\ttotal: 161ms\tremaining: 0us\n",
      "0:\tlearn: 0.6118329\ttotal: 344ms\tremaining: 1.72s\n",
      "1:\tlearn: 0.5433380\ttotal: 607ms\tremaining: 1.21s\n",
      "2:\tlearn: 0.4848225\ttotal: 857ms\tremaining: 857ms\n",
      "3:\tlearn: 0.4342600\ttotal: 1.11s\tremaining: 557ms\n",
      "4:\tlearn: 0.3901966\ttotal: 1.38s\tremaining: 275ms\n"
     ]
    },
    {
     "name": "stderr",
     "output_type": "stream",
     "text": [
      "[I 2024-03-20 05:47:09,017] Trial 1 finished with value: 0.9874055639809364 and parameters: {'iterations': 6, 'max_depth': 5, 'learning_rate': 0.0851142039186763, 'reg_lambda': 0.08476332007272144, 'subsample': 0.5727355677538953, 'colsample_bylevel': 0.9038272029124303}. Best is trial 1 with value: 0.9874055639809364.\n"
     ]
    },
    {
     "name": "stdout",
     "output_type": "stream",
     "text": [
      "5:\tlearn: 0.3515659\ttotal: 1.64s\tremaining: 0us\n"
     ]
    },
    {
     "name": "stderr",
     "output_type": "stream",
     "text": [
      "[I 2024-03-20 05:47:09,725] Trial 2 finished with value: 0.9616891489859584 and parameters: {'iterations': 2, 'max_depth': 5, 'learning_rate': 0.09660378148511475, 'reg_lambda': 1.654180017593957e-06, 'subsample': 0.3870425525736755, 'colsample_bylevel': 0.35509613749329777}. Best is trial 1 with value: 0.9874055639809364.\n"
     ]
    },
    {
     "name": "stdout",
     "output_type": "stream",
     "text": [
      "0:\tlearn: 0.6015960\ttotal: 171ms\tremaining: 171ms\n",
      "1:\tlearn: 0.5260715\ttotal: 245ms\tremaining: 0us\n",
      "0:\tlearn: 0.6738400\ttotal: 325ms\tremaining: 651ms\n",
      "1:\tlearn: 0.6552927\ttotal: 595ms\tremaining: 298ms\n"
     ]
    },
    {
     "name": "stderr",
     "output_type": "stream",
     "text": [
      "[I 2024-03-20 05:47:11,062] Trial 3 finished with value: 0.9715377285657573 and parameters: {'iterations': 3, 'max_depth': 5, 'learning_rate': 0.01953035757748089, 'reg_lambda': 4.608014088139528e-06, 'subsample': 0.7880711218718826, 'colsample_bylevel': 0.6878672741218052}. Best is trial 1 with value: 0.9874055639809364.\n"
     ]
    },
    {
     "name": "stdout",
     "output_type": "stream",
     "text": [
      "2:\tlearn: 0.6374564\ttotal: 883ms\tremaining: 0us\n",
      "0:\tlearn: 0.6732557\ttotal: 192ms\tremaining: 767ms\n",
      "1:\tlearn: 0.6542209\ttotal: 396ms\tremaining: 594ms\n",
      "2:\tlearn: 0.6358701\ttotal: 594ms\tremaining: 396ms\n",
      "3:\tlearn: 0.6182293\ttotal: 806ms\tremaining: 202ms\n"
     ]
    },
    {
     "name": "stderr",
     "output_type": "stream",
     "text": [
      "[I 2024-03-20 05:47:12,566] Trial 4 finished with value: 0.9759649062743418 and parameters: {'iterations': 5, 'max_depth': 5, 'learning_rate': 0.020130944006746473, 'reg_lambda': 0.0007807057417392377, 'subsample': 0.46163892320486405, 'colsample_bylevel': 0.5965319452828525}. Best is trial 1 with value: 0.9874055639809364.\n"
     ]
    },
    {
     "name": "stdout",
     "output_type": "stream",
     "text": [
      "4:\tlearn: 0.6012481\ttotal: 1.01s\tremaining: 0us\n",
      "0:\tlearn: 0.6535771\ttotal: 170ms\tremaining: 509ms\n",
      "1:\tlearn: 0.6172807\ttotal: 211ms\tremaining: 211ms\n",
      "2:\tlearn: 0.5834697\ttotal: 376ms\tremaining: 125ms\n",
      "3:\tlearn: 0.5523861\ttotal: 471ms\tremaining: 0us\n"
     ]
    },
    {
     "name": "stderr",
     "output_type": "stream",
     "text": [
      "[I 2024-03-20 05:47:13,493] Trial 5 finished with value: 0.9270364294825126 and parameters: {'iterations': 4, 'max_depth': 7, 'learning_rate': 0.04077548892153065, 'reg_lambda': 0.00038112888699675214, 'subsample': 0.5927773062842323, 'colsample_bylevel': 0.13486666904757513}. Best is trial 1 with value: 0.9874055639809364.\n"
     ]
    },
    {
     "name": "stdout",
     "output_type": "stream",
     "text": [
      "0:\tlearn: 0.6137606\ttotal: 187ms\tremaining: 560ms\n",
      "1:\tlearn: 0.5466360\ttotal: 373ms\tremaining: 373ms\n",
      "2:\tlearn: 0.4890570\ttotal: 544ms\tremaining: 181ms\n",
      "3:\tlearn: 0.4391244\ttotal: 710ms\tremaining: 0us\n"
     ]
    },
    {
     "name": "stderr",
     "output_type": "stream",
     "text": [
      "[I 2024-03-20 05:47:14,650] Trial 6 finished with value: 0.9878388966444724 and parameters: {'iterations': 4, 'max_depth': 5, 'learning_rate': 0.08301031049786371, 'reg_lambda': 8.552146500548944e-07, 'subsample': 0.26237695041724, 'colsample_bylevel': 0.9004778503444115}. Best is trial 6 with value: 0.9878388966444724.\n"
     ]
    },
    {
     "name": "stdout",
     "output_type": "stream",
     "text": [
      "0:\tlearn: 0.6665296\ttotal: 128ms\tremaining: 128ms\n",
      "1:\tlearn: 0.6413300\ttotal: 253ms\tremaining: 0us\n"
     ]
    },
    {
     "name": "stderr",
     "output_type": "stream",
     "text": [
      "[I 2024-03-20 05:47:15,348] Trial 7 finished with value: 0.9628545687331294 and parameters: {'iterations': 2, 'max_depth': 4, 'learning_rate': 0.02702937159482659, 'reg_lambda': 0.03296168299978079, 'subsample': 0.2042209960581529, 'colsample_bylevel': 0.942693480298621}. Best is trial 6 with value: 0.9878388966444724.\n"
     ]
    },
    {
     "name": "stdout",
     "output_type": "stream",
     "text": [
      "0:\tlearn: 0.6864629\ttotal: 117ms\tremaining: 117ms\n",
      "1:\tlearn: 0.6798541\ttotal: 246ms\tremaining: 0us\n"
     ]
    },
    {
     "name": "stderr",
     "output_type": "stream",
     "text": [
      "[I 2024-03-20 05:47:16,033] Trial 8 finished with value: 0.9674192945768453 and parameters: {'iterations': 2, 'max_depth': 4, 'learning_rate': 0.006736564259720137, 'reg_lambda': 7.429914605132722e-05, 'subsample': 0.41013888867305015, 'colsample_bylevel': 0.4288935703036621}. Best is trial 6 with value: 0.9878388966444724.\n"
     ]
    },
    {
     "name": "stdout",
     "output_type": "stream",
     "text": [
      "0:\tlearn: 0.6290041\ttotal: 281ms\tremaining: 1.13s\n",
      "1:\tlearn: 0.5729262\ttotal: 604ms\tremaining: 906ms\n",
      "2:\tlearn: 0.5234201\ttotal: 736ms\tremaining: 491ms\n",
      "3:\tlearn: 0.4794275\ttotal: 1s\tremaining: 250ms\n"
     ]
    },
    {
     "name": "stderr",
     "output_type": "stream",
     "text": [
      "[I 2024-03-20 05:47:17,793] Trial 9 finished with value: 0.9826336536445408 and parameters: {'iterations': 5, 'max_depth': 7, 'learning_rate': 0.06650251942498385, 'reg_lambda': 10.2658386200019, 'subsample': 0.9949091457353634, 'colsample_bylevel': 0.6860011551808817}. Best is trial 6 with value: 0.9878388966444724.\n"
     ]
    },
    {
     "name": "stdout",
     "output_type": "stream",
     "text": [
      "4:\tlearn: 0.4401092\ttotal: 1.31s\tremaining: 0us\n",
      "0:\tlearn: 0.6138249\ttotal: 85.1ms\tremaining: 255ms\n",
      "1:\tlearn: 0.5467108\ttotal: 169ms\tremaining: 169ms\n",
      "2:\tlearn: 0.4891249\ttotal: 249ms\tremaining: 83ms\n",
      "3:\tlearn: 0.4392229\ttotal: 330ms\tremaining: 0us\n",
      " - fold2 - 0.9437\n"
     ]
    },
    {
     "name": "stderr",
     "output_type": "stream",
     "text": [
      "[I 2024-03-20 05:47:38,688] A new study created in memory with name: no-name-4222accd-1917-43b2-870c-b5bab068857e\n"
     ]
    },
    {
     "name": "stdout",
     "output_type": "stream",
     "text": [
      "0:\tlearn: 0.6702323\ttotal: 293ms\tremaining: 586ms\n",
      "1:\tlearn: 0.6483779\ttotal: 537ms\tremaining: 268ms\n"
     ]
    },
    {
     "name": "stderr",
     "output_type": "stream",
     "text": [
      "[I 2024-03-20 05:47:40,189] Trial 0 finished with value: 0.9720886227377904 and parameters: {'iterations': 3, 'max_depth': 6, 'learning_rate': 0.023216093746773817, 'reg_lambda': 3.1620318348240513e-06, 'subsample': 0.5793560106135314, 'colsample_bylevel': 0.8784115730141324}. Best is trial 0 with value: 0.9720886227377904.\n"
     ]
    },
    {
     "name": "stdout",
     "output_type": "stream",
     "text": [
      "2:\tlearn: 0.6275099\ttotal: 798ms\tremaining: 0us\n",
      "0:\tlearn: 0.6332095\ttotal: 264ms\tremaining: 528ms\n",
      "1:\tlearn: 0.5803218\ttotal: 468ms\tremaining: 234ms\n",
      "2:\tlearn: 0.5336520\ttotal: 637ms\tremaining: 0us\n"
     ]
    },
    {
     "name": "stderr",
     "output_type": "stream",
     "text": [
      "[I 2024-03-20 05:47:41,310] Trial 1 finished with value: 0.9830351864955847 and parameters: {'iterations': 3, 'max_depth': 7, 'learning_rate': 0.062025885422958164, 'reg_lambda': 46.16858309191071, 'subsample': 0.7136683325988206, 'colsample_bylevel': 0.6114952096328136}. Best is trial 1 with value: 0.9830351864955847.\n"
     ]
    },
    {
     "name": "stdout",
     "output_type": "stream",
     "text": [
      "0:\tlearn: 0.6400617\ttotal: 247ms\tremaining: 988ms\n",
      "1:\tlearn: 0.5925544\ttotal: 581ms\tremaining: 871ms\n",
      "2:\tlearn: 0.5497179\ttotal: 701ms\tremaining: 467ms\n",
      "3:\tlearn: 0.5110256\ttotal: 1.01s\tremaining: 252ms\n",
      "4:\tlearn: 0.4757612\ttotal: 1.15s\tremaining: 0us\n"
     ]
    },
    {
     "name": "stderr",
     "output_type": "stream",
     "text": [
      "[I 2024-03-20 05:47:42,928] Trial 2 finished with value: 0.9669702436201366 and parameters: {'iterations': 5, 'max_depth': 8, 'learning_rate': 0.054716176868583544, 'reg_lambda': 20.59623123690918, 'subsample': 0.7341894520108085, 'colsample_bylevel': 0.4796627334200511}. Best is trial 1 with value: 0.9830351864955847.\n"
     ]
    },
    {
     "name": "stdout",
     "output_type": "stream",
     "text": [
      "0:\tlearn: 0.6401358\ttotal: 244ms\tremaining: 489ms\n",
      "1:\tlearn: 0.5924767\ttotal: 500ms\tremaining: 250ms\n"
     ]
    },
    {
     "name": "stderr",
     "output_type": "stream",
     "text": [
      "[I 2024-03-20 05:47:44,183] Trial 3 finished with value: 0.9616062430875738 and parameters: {'iterations': 3, 'max_depth': 6, 'learning_rate': 0.05490608472868229, 'reg_lambda': 0.00039429402739347356, 'subsample': 0.8676556799766583, 'colsample_bylevel': 0.38005446741203996}. Best is trial 1 with value: 0.9830351864955847.\n"
     ]
    },
    {
     "name": "stdout",
     "output_type": "stream",
     "text": [
      "2:\tlearn: 0.5496996\ttotal: 790ms\tremaining: 0us\n",
      "0:\tlearn: 0.6796124\ttotal: 287ms\tremaining: 1.43s\n",
      "1:\tlearn: 0.6663639\ttotal: 553ms\tremaining: 1.1s\n",
      "2:\tlearn: 0.6534902\ttotal: 840ms\tremaining: 840ms\n",
      "3:\tlearn: 0.6409431\ttotal: 1.13s\tremaining: 564ms\n",
      "4:\tlearn: 0.6287503\ttotal: 1.39s\tremaining: 278ms\n"
     ]
    },
    {
     "name": "stderr",
     "output_type": "stream",
     "text": [
      "[I 2024-03-20 05:47:46,307] Trial 4 finished with value: 0.9730930525667219 and parameters: {'iterations': 6, 'max_depth': 5, 'learning_rate': 0.013734932235868077, 'reg_lambda': 0.19279258252760595, 'subsample': 0.7447281073301849, 'colsample_bylevel': 0.6980653877689033}. Best is trial 1 with value: 0.9830351864955847.\n"
     ]
    },
    {
     "name": "stdout",
     "output_type": "stream",
     "text": [
      "5:\tlearn: 0.6168567\ttotal: 1.65s\tremaining: 0us\n",
      "0:\tlearn: 0.6702848\ttotal: 168ms\tremaining: 673ms\n",
      "1:\tlearn: 0.6483502\ttotal: 344ms\tremaining: 517ms\n",
      "2:\tlearn: 0.6274029\ttotal: 468ms\tremaining: 312ms\n",
      "3:\tlearn: 0.6074043\ttotal: 632ms\tremaining: 158ms\n"
     ]
    },
    {
     "name": "stderr",
     "output_type": "stream",
     "text": [
      "[I 2024-03-20 05:47:47,577] Trial 5 finished with value: 0.9724847290260282 and parameters: {'iterations': 5, 'max_depth': 6, 'learning_rate': 0.02330064858031478, 'reg_lambda': 0.0054632208751502565, 'subsample': 0.35822582662777497, 'colsample_bylevel': 0.3871127374834318}. Best is trial 1 with value: 0.9830351864955847.\n"
     ]
    },
    {
     "name": "stdout",
     "output_type": "stream",
     "text": [
      "4:\tlearn: 0.5882477\ttotal: 792ms\tremaining: 0us\n",
      "0:\tlearn: 0.6038016\ttotal: 82.6ms\tremaining: 413ms\n",
      "1:\tlearn: 0.5298370\ttotal: 199ms\tremaining: 397ms\n",
      "2:\tlearn: 0.4676705\ttotal: 275ms\tremaining: 275ms\n",
      "3:\tlearn: 0.4145581\ttotal: 351ms\tremaining: 176ms\n",
      "4:\tlearn: 0.3688275\ttotal: 426ms\tremaining: 85.2ms\n",
      "5:\tlearn: 0.3291769\ttotal: 498ms\tremaining: 0us\n"
     ]
    },
    {
     "name": "stderr",
     "output_type": "stream",
     "text": [
      "[I 2024-03-20 05:47:48,508] Trial 6 finished with value: 0.9621469862795831 and parameters: {'iterations': 6, 'max_depth': 8, 'learning_rate': 0.09398401120526768, 'reg_lambda': 0.00022546432520394657, 'subsample': 0.29755220373847746, 'colsample_bylevel': 0.9631021930353415}. Best is trial 1 with value: 0.9830351864955847.\n"
     ]
    },
    {
     "name": "stdout",
     "output_type": "stream",
     "text": [
      "0:\tlearn: 0.6908676\ttotal: 110ms\tremaining: 331ms\n",
      "1:\tlearn: 0.6885997\ttotal: 213ms\tremaining: 213ms\n",
      "2:\tlearn: 0.6863444\ttotal: 331ms\tremaining: 110ms\n",
      "3:\tlearn: 0.6840983\ttotal: 459ms\tremaining: 0us\n"
     ]
    },
    {
     "name": "stderr",
     "output_type": "stream",
     "text": [
      "[I 2024-03-20 05:47:49,414] Trial 7 finished with value: 0.9852834059164496 and parameters: {'iterations': 4, 'max_depth': 4, 'learning_rate': 0.0022833460218836888, 'reg_lambda': 1.8515897759740404e-08, 'subsample': 0.12414851652477858, 'colsample_bylevel': 0.833198321431102}. Best is trial 7 with value: 0.9852834059164496.\n"
     ]
    },
    {
     "name": "stdout",
     "output_type": "stream",
     "text": [
      "0:\tlearn: 0.6664743\ttotal: 109ms\tremaining: 544ms\n",
      "1:\tlearn: 0.6412430\ttotal: 207ms\tremaining: 415ms\n",
      "2:\tlearn: 0.6173429\ttotal: 304ms\tremaining: 304ms\n",
      "3:\tlearn: 0.5946292\ttotal: 439ms\tremaining: 219ms\n",
      "4:\tlearn: 0.5730251\ttotal: 540ms\tremaining: 108ms\n"
     ]
    },
    {
     "name": "stderr",
     "output_type": "stream",
     "text": [
      "[I 2024-03-20 05:47:50,586] Trial 8 finished with value: 0.9580662350890632 and parameters: {'iterations': 6, 'max_depth': 8, 'learning_rate': 0.027083400512097767, 'reg_lambda': 1.5752410715239626, 'subsample': 0.5050929517741607, 'colsample_bylevel': 0.9640299261877819}. Best is trial 7 with value: 0.9852834059164496.\n"
     ]
    },
    {
     "name": "stdout",
     "output_type": "stream",
     "text": [
      "5:\tlearn: 0.5524671\ttotal: 684ms\tremaining: 0us\n",
      "0:\tlearn: 0.6047227\ttotal: 109ms\tremaining: 326ms\n",
      "1:\tlearn: 0.5314017\ttotal: 256ms\tremaining: 256ms\n",
      "2:\tlearn: 0.4695978\ttotal: 412ms\tremaining: 137ms\n",
      "3:\tlearn: 0.4167060\ttotal: 551ms\tremaining: 0us\n"
     ]
    },
    {
     "name": "stderr",
     "output_type": "stream",
     "text": [
      "[I 2024-03-20 05:47:51,615] Trial 9 finished with value: 0.971013494822409 and parameters: {'iterations': 4, 'max_depth': 6, 'learning_rate': 0.09306438821245168, 'reg_lambda': 0.09670564912627963, 'subsample': 0.30145149807154203, 'colsample_bylevel': 0.4970299872193257}. Best is trial 7 with value: 0.9852834059164496.\n"
     ]
    },
    {
     "name": "stdout",
     "output_type": "stream",
     "text": [
      "0:\tlearn: 0.6908684\ttotal: 57.3ms\tremaining: 172ms\n",
      "1:\tlearn: 0.6886043\ttotal: 112ms\tremaining: 112ms\n",
      "2:\tlearn: 0.6863484\ttotal: 171ms\tremaining: 56.8ms\n",
      "3:\tlearn: 0.6841042\ttotal: 225ms\tremaining: 0us\n",
      " - fold3 - 0.9465\n"
     ]
    },
    {
     "name": "stderr",
     "output_type": "stream",
     "text": [
      "[I 2024-03-20 05:48:12,403] A new study created in memory with name: no-name-cdb548a8-83a9-4a9a-982a-054d0de54654\n"
     ]
    },
    {
     "name": "stdout",
     "output_type": "stream",
     "text": [
      "0:\tlearn: 0.6907976\ttotal: 201ms\tremaining: 604ms\n",
      "1:\tlearn: 0.6884578\ttotal: 360ms\tremaining: 360ms\n",
      "2:\tlearn: 0.6861556\ttotal: 397ms\tremaining: 132ms\n"
     ]
    },
    {
     "name": "stderr",
     "output_type": "stream",
     "text": [
      "[I 2024-03-20 05:48:13,565] Trial 0 finished with value: 0.973591215194473 and parameters: {'iterations': 4, 'max_depth': 5, 'learning_rate': 0.002356731697826061, 'reg_lambda': 0.11717879303995585, 'subsample': 0.4008672128300185, 'colsample_bylevel': 0.19156422409840748}. Best is trial 0 with value: 0.973591215194473.\n"
     ]
    },
    {
     "name": "stdout",
     "output_type": "stream",
     "text": [
      "3:\tlearn: 0.6838549\ttotal: 501ms\tremaining: 0us\n",
      "0:\tlearn: 0.6533025\ttotal: 200ms\tremaining: 399ms\n",
      "1:\tlearn: 0.6166198\ttotal: 354ms\tremaining: 177ms\n"
     ]
    },
    {
     "name": "stderr",
     "output_type": "stream",
     "text": [
      "[I 2024-03-20 05:48:14,642] Trial 1 finished with value: 0.9701781753801857 and parameters: {'iterations': 3, 'max_depth': 6, 'learning_rate': 0.040744063553040825, 'reg_lambda': 3.083280933050544e-08, 'subsample': 0.5830344970048673, 'colsample_bylevel': 0.8103209933840131}. Best is trial 0 with value: 0.973591215194473.\n"
     ]
    },
    {
     "name": "stdout",
     "output_type": "stream",
     "text": [
      "2:\tlearn: 0.5827238\ttotal: 582ms\tremaining: 0us\n",
      "0:\tlearn: 0.6250549\ttotal: 120ms\tremaining: 479ms\n",
      "1:\tlearn: 0.5660582\ttotal: 300ms\tremaining: 450ms\n",
      "2:\tlearn: 0.5143976\ttotal: 497ms\tremaining: 331ms\n",
      "3:\tlearn: 0.4687668\ttotal: 690ms\tremaining: 173ms\n"
     ]
    },
    {
     "name": "stderr",
     "output_type": "stream",
     "text": [
      "[I 2024-03-20 05:48:15,899] Trial 2 finished with value: 0.9819928885064804 and parameters: {'iterations': 5, 'max_depth': 7, 'learning_rate': 0.07072400591583834, 'reg_lambda': 2.2672612578774892e-05, 'subsample': 0.4304755819596619, 'colsample_bylevel': 0.8293294625574535}. Best is trial 2 with value: 0.9819928885064804.\n"
     ]
    },
    {
     "name": "stdout",
     "output_type": "stream",
     "text": [
      "4:\tlearn: 0.4281873\ttotal: 790ms\tremaining: 0us\n",
      "0:\tlearn: 0.6819760\ttotal: 297ms\tremaining: 1.19s\n",
      "1:\tlearn: 0.6710608\ttotal: 571ms\tremaining: 856ms\n",
      "2:\tlearn: 0.6603888\ttotal: 877ms\tremaining: 585ms\n",
      "3:\tlearn: 0.6499530\ttotal: 1.21s\tremaining: 303ms\n"
     ]
    },
    {
     "name": "stderr",
     "output_type": "stream",
     "text": [
      "[I 2024-03-20 05:48:17,912] Trial 3 finished with value: 0.9845227367298944 and parameters: {'iterations': 5, 'max_depth': 5, 'learning_rate': 0.011248703724988382, 'reg_lambda': 0.0033597208781794446, 'subsample': 0.9880498629357614, 'colsample_bylevel': 0.5256292709641319}. Best is trial 3 with value: 0.9845227367298944.\n"
     ]
    },
    {
     "name": "stdout",
     "output_type": "stream",
     "text": [
      "4:\tlearn: 0.6397632\ttotal: 1.53s\tremaining: 0us\n",
      "0:\tlearn: 0.6610359\ttotal: 233ms\tremaining: 932ms\n",
      "1:\tlearn: 0.6309321\ttotal: 452ms\tremaining: 678ms\n",
      "2:\tlearn: 0.6026739\ttotal: 659ms\tremaining: 439ms\n",
      "3:\tlearn: 0.5761150\ttotal: 855ms\tremaining: 214ms\n"
     ]
    },
    {
     "name": "stderr",
     "output_type": "stream",
     "text": [
      "[I 2024-03-20 05:48:19,588] Trial 4 finished with value: 0.9690245778664123 and parameters: {'iterations': 5, 'max_depth': 4, 'learning_rate': 0.03280169466438717, 'reg_lambda': 48.74698099570142, 'subsample': 0.688362677924533, 'colsample_bylevel': 0.561248686702904}. Best is trial 3 with value: 0.9845227367298944.\n"
     ]
    },
    {
     "name": "stdout",
     "output_type": "stream",
     "text": [
      "4:\tlearn: 0.5511036\ttotal: 1.06s\tremaining: 0us\n",
      "0:\tlearn: 0.6551567\ttotal: 103ms\tremaining: 103ms\n",
      "1:\tlearn: 0.6200824\ttotal: 205ms\tremaining: 0us\n"
     ]
    },
    {
     "name": "stderr",
     "output_type": "stream",
     "text": [
      "[I 2024-03-20 05:48:20,219] Trial 5 finished with value: 0.9558306560935734 and parameters: {'iterations': 2, 'max_depth': 8, 'learning_rate': 0.0388233830994156, 'reg_lambda': 6.708756460707221e-06, 'subsample': 0.25411534414589854, 'colsample_bylevel': 0.47713975926255453}. Best is trial 3 with value: 0.9845227367298944.\n"
     ]
    },
    {
     "name": "stdout",
     "output_type": "stream",
     "text": [
      "0:\tlearn: 0.6336366\ttotal: 164ms\tremaining: 493ms\n",
      "1:\tlearn: 0.5810416\ttotal: 245ms\tremaining: 245ms\n",
      "2:\tlearn: 0.5342048\ttotal: 333ms\tremaining: 111ms\n"
     ]
    },
    {
     "name": "stderr",
     "output_type": "stream",
     "text": [
      "[I 2024-03-20 05:48:21,105] Trial 6 finished with value: 0.9686776313624196 and parameters: {'iterations': 4, 'max_depth': 8, 'learning_rate': 0.061586626652899525, 'reg_lambda': 8.734522327463714e-08, 'subsample': 0.4796276273760423, 'colsample_bylevel': 0.6876963799293759}. Best is trial 3 with value: 0.9845227367298944.\n"
     ]
    },
    {
     "name": "stdout",
     "output_type": "stream",
     "text": [
      "3:\tlearn: 0.4922661\ttotal: 446ms\tremaining: 0us\n",
      "0:\tlearn: 0.6362924\ttotal: 117ms\tremaining: 466ms\n",
      "1:\tlearn: 0.5856387\ttotal: 235ms\tremaining: 353ms\n",
      "2:\tlearn: 0.5404167\ttotal: 351ms\tremaining: 234ms\n",
      "3:\tlearn: 0.4996356\ttotal: 466ms\tremaining: 116ms\n"
     ]
    },
    {
     "name": "stderr",
     "output_type": "stream",
     "text": [
      "[I 2024-03-20 05:48:22,130] Trial 7 finished with value: 0.9656620587926628 and parameters: {'iterations': 5, 'max_depth': 5, 'learning_rate': 0.0589443119305102, 'reg_lambda': 0.019897895482057112, 'subsample': 0.12922080793384322, 'colsample_bylevel': 0.40506394278968255}. Best is trial 3 with value: 0.9845227367298944.\n"
     ]
    },
    {
     "name": "stdout",
     "output_type": "stream",
     "text": [
      "4:\tlearn: 0.4631398\ttotal: 571ms\tremaining: 0us\n",
      "0:\tlearn: 0.6201890\ttotal: 256ms\tremaining: 512ms\n",
      "1:\tlearn: 0.5581349\ttotal: 307ms\tremaining: 154ms\n"
     ]
    },
    {
     "name": "stderr",
     "output_type": "stream",
     "text": [
      "[I 2024-03-20 05:48:23,076] Trial 8 finished with value: 0.9688356587953594 and parameters: {'iterations': 3, 'max_depth': 6, 'learning_rate': 0.07626032702640256, 'reg_lambda': 0.2520039638502834, 'subsample': 0.9297500746503258, 'colsample_bylevel': 0.35662692286875786}. Best is trial 3 with value: 0.9845227367298944.\n"
     ]
    },
    {
     "name": "stdout",
     "output_type": "stream",
     "text": [
      "2:\tlearn: 0.5035675\ttotal: 492ms\tremaining: 0us\n",
      "0:\tlearn: 0.6364073\ttotal: 68.3ms\tremaining: 205ms\n",
      "1:\tlearn: 0.5860043\ttotal: 164ms\tremaining: 164ms\n",
      "2:\tlearn: 0.5409173\ttotal: 229ms\tremaining: 76.3ms\n"
     ]
    },
    {
     "name": "stderr",
     "output_type": "stream",
     "text": [
      "[I 2024-03-20 05:48:23,881] Trial 9 finished with value: 0.9719500166544734 and parameters: {'iterations': 4, 'max_depth': 7, 'learning_rate': 0.05856117429652094, 'reg_lambda': 1.1145647496070223e-07, 'subsample': 0.21054847148689843, 'colsample_bylevel': 0.8593886025980819}. Best is trial 3 with value: 0.9845227367298944.\n"
     ]
    },
    {
     "name": "stdout",
     "output_type": "stream",
     "text": [
      "3:\tlearn: 0.5003302\ttotal: 357ms\tremaining: 0us\n",
      "0:\tlearn: 0.6819949\ttotal: 164ms\tremaining: 656ms\n",
      "1:\tlearn: 0.6710895\ttotal: 324ms\tremaining: 487ms\n",
      "2:\tlearn: 0.6604270\ttotal: 494ms\tremaining: 330ms\n",
      "3:\tlearn: 0.6499961\ttotal: 653ms\tremaining: 163ms\n",
      "4:\tlearn: 0.6397957\ttotal: 822ms\tremaining: 0us\n",
      " - fold4 - 0.8913\n"
     ]
    }
   ],
   "source": [
    "xgb_score, xgb_oof_pred, xgb_models = train_catboost(X, y=y, cv=cv_list)"
   ]
  },
  {
   "cell_type": "code",
   "execution_count": null,
   "metadata": {},
   "outputs": [],
   "source": [
    "# 最適な閾値を探索\n",
    "def tune_threshold(train, oof_pred):\n",
    "    \"\"\"\n",
    "    閾値の探索\n",
    "    \"\"\"\n",
    "    def func(x_list, df, oof):\n",
    "        score = f1_score(df[TARGET], oof>x_list[0])\n",
    "        return -score\n",
    "    x0 = [0.5]\n",
    "    result = minimize(func, x0,  args=(train, oof_pred), method=\"nelder-mead\")\n",
    "    threshold = result.x[0]\n",
    "    return threshold"
   ]
  },
  {
   "cell_type": "code",
   "execution_count": null,
   "metadata": {},
   "outputs": [],
   "source": [
    "lgb_threshold = tune_threshold(train, lgb_oof_pred)\n",
    "cb_threshold = tune_threshold(train, cb_oof_pred)\n",
    "xgb_threshold = tune_threshold(train, xgb_oof_pred)\n",
    "print(len(lgb_threshold), len(cb_threshold), len(xgb_threshold))"
   ]
  },
  {
   "cell_type": "code",
   "execution_count": null,
   "metadata": {},
   "outputs": [],
   "source": [
    "# testデータのpredict\n",
    "def test_predict(model, threshold, test=test, how='lgb'):\n",
    "    \"\"\"modelのpredictを行ってくれる関数\"\"\"\n",
    "    if how='lgb':\n",
    "        dataset = Pool(test.drop(columns=TARGET), label=test[TARGET])\n",
    "    elif how='cb':\n",
    "        x_train, y_train = X[idx_train], y[idx_train]\n",
    "        c_train = Pool(x_train, label=y_train)\n",
    "        pred_y = model.predict(c_valid)\n",
    "    elif how='xgb':\n",
    "        dvalid = xgb.DMatrix(X_valid, label=y_valid)\n",
    "        pred_y = model.predict(dvalid, ntree_limit=model.best_ntree_limit)\n",
    "        auc = roc_auc_score(y_valid, pred_y)\n",
    "    probabilities = model.predict_proba(test)[:, 1]\n",
    "    return (probabilities > threshold).astype(int)"
   ]
  },
  {
   "cell_type": "code",
   "execution_count": null,
   "metadata": {},
   "outputs": [],
   "source": [
    "lgb_predict = test_predict(lgb_model[0], lgb_threshold, test=test, how='lgb')"
   ]
  },
  {
   "cell_type": "code",
   "execution_count": null,
   "metadata": {},
   "outputs": [],
   "source": [
    "lgb_models[0].predict(Pool(test.drop(columns=TARGET), label=test[TARGET]))"
   ]
  },
  {
   "cell_type": "code",
   "execution_count": null,
   "metadata": {},
   "outputs": [],
   "source": [
    "test.drop(columns=TARGET)"
   ]
  },
  {
   "cell_type": "code",
   "execution_count": null,
   "metadata": {},
   "outputs": [],
   "source": [
    "all_predictions = [lgb_predict, cb_predict, xgb_predict]\n",
    "combined_predictions = np.vstack(all_predictions)\n",
    "final_predictions = [Counter(row).most_common(1)[0][0] for row in combined_predictions]"
   ]
  },
  {
   "cell_type": "code",
   "execution_count": null,
   "metadata": {},
   "outputs": [],
   "source": [
    "f1_score()"
   ]
  },
  {
   "cell_type": "code",
   "execution_count": null,
   "metadata": {},
   "outputs": [],
   "source": [
    "# with open('../model/model.pickle', mode='wb') as f:\n",
    "#     pickle.dump(models,f,protocol=2)"
   ]
  },
  {
   "cell_type": "code",
   "execution_count": null,
   "metadata": {},
   "outputs": [],
   "source": [
    "# # ========================================\n",
    "# # feature importance\n",
    "# # ========================================\n",
    "# def visualize_importance(models, feat_train_df):\n",
    "#     feature_importance_df = pd.DataFrame()\n",
    "#     for i, model in enumerate(models):\n",
    "#         _df = pd.DataFrame()\n",
    "#         _df[\"feature_importance\"] = model.feature_importances_\n",
    "#         _df[\"column\"] = feat_train_df.columns\n",
    "#         _df[\"fold\"] = i + 1\n",
    "#         feature_importance_df = pd.concat([feature_importance_df, _df],\n",
    "#                                           axis=0, ignore_index=True)\n",
    "\n",
    "#     order = feature_importance_df.groupby(\"column\")\\\n",
    "#         .sum()[[\"feature_importance\"]]\\\n",
    "#         .sort_values(\"feature_importance\", ascending=False).index\n",
    "\n",
    "#     fig, ax = plt.subplots(figsize=(12, max(6, len(order) * .25)))\n",
    "#     sns.boxplot(data=feature_importance_df,\n",
    "#                   x=\"feature_importance\",\n",
    "#                   y=\"column\",\n",
    "#                   order=order,\n",
    "#                   ax=ax,\n",
    "#                   palette=\"viridis\",\n",
    "#                   orient=\"h\")\n",
    "#     ax.tick_params(axis=\"x\", rotation=90)\n",
    "#     ax.set_title(\"Importance\")\n",
    "#     ax.grid()\n",
    "#     fig.tight_layout()\n",
    "#     return fig, ax, feature_importance_df\n",
    "\n",
    "# fig, ax, feature_importance_df = visualize_importance(models, train[feature_cols])"
   ]
  },
  {
   "cell_type": "code",
   "execution_count": null,
   "metadata": {},
   "outputs": [],
   "source": [
    "models"
   ]
  },
  {
   "cell_type": "code",
   "execution_count": null,
   "metadata": {},
   "outputs": [],
   "source": []
  },
  {
   "cell_type": "code",
   "execution_count": null,
   "metadata": {},
   "outputs": [],
   "source": []
  },
  {
   "cell_type": "code",
   "execution_count": null,
   "metadata": {},
   "outputs": [],
   "source": []
  }
 ],
 "metadata": {
  "kernelspec": {
   "display_name": "Python 3 (ipykernel)",
   "language": "python",
   "name": "python3"
  },
  "language_info": {
   "codemirror_mode": {
    "name": "ipython",
    "version": 3
   },
   "file_extension": ".py",
   "mimetype": "text/x-python",
   "name": "python",
   "nbconvert_exporter": "python",
   "pygments_lexer": "ipython3",
   "version": "3.11.6"
  }
 },
 "nbformat": 4,
 "nbformat_minor": 4
}
